{
  "cells": [
    {
      "cell_type": "code",
      "execution_count": 1,
      "id": "8d371a94",
      "metadata": {
        "_cell_guid": "b1076dfc-b9ad-4769-8c92-a6c4dae69d19",
        "_uuid": "8f2839f25d086af736a60e9eeb907d3b93b6e0e5",
        "execution": {
          "iopub.execute_input": "2022-08-05T17:41:12.751452Z",
          "iopub.status.busy": "2022-08-05T17:41:12.750993Z",
          "iopub.status.idle": "2022-08-05T17:41:14.634533Z",
          "shell.execute_reply": "2022-08-05T17:41:14.633458Z"
        },
        "papermill": {
          "duration": 1.897207,
          "end_time": "2022-08-05T17:41:14.636847",
          "exception": false,
          "start_time": "2022-08-05T17:41:12.739640",
          "status": "completed"
        },
        "tags": [],
        "id": "8d371a94"
      },
      "outputs": [],
      "source": [
        "# Libraries essential for operation\n",
        "import pandas as pd\n",
        "import matplotlib as mpl\n",
        "import numpy as np\n",
        "\n",
        "# Visualization Packages\n",
        "import matplotlib.pyplot as plt\n",
        "import seaborn as sns\n",
        "import plotly.express as px\n",
        "from plotly.subplots import make_subplots\n",
        "import plotly.graph_objects as go"
      ]
    },
    {
      "cell_type": "code",
      "execution_count": 2,
      "id": "264b9d3a",
      "metadata": {
        "execution": {
          "iopub.execute_input": "2022-08-05T17:41:14.656149Z",
          "iopub.status.busy": "2022-08-05T17:41:14.655824Z",
          "iopub.status.idle": "2022-08-05T17:41:15.377069Z",
          "shell.execute_reply": "2022-08-05T17:41:15.376321Z"
        },
        "papermill": {
          "duration": 0.732873,
          "end_time": "2022-08-05T17:41:15.378984",
          "exception": false,
          "start_time": "2022-08-05T17:41:14.646111",
          "status": "completed"
        },
        "tags": [],
        "id": "264b9d3a"
      },
      "outputs": [],
      "source": [
        "# Packages untuk memproses frasa/kata\n",
        "import nltk\n",
        "from sklearn.feature_extraction.text import CountVectorizer\n",
        "from nltk.corpus import stopwords\n",
        "from sklearn.feature_extraction.text import TfidfVectorizer"
      ]
    },
    {
      "cell_type": "code",
      "execution_count": 3,
      "id": "cd8bdede",
      "metadata": {
        "execution": {
          "iopub.execute_input": "2022-08-05T17:41:15.398907Z",
          "iopub.status.busy": "2022-08-05T17:41:15.398328Z",
          "iopub.status.idle": "2022-08-05T17:41:16.041507Z",
          "shell.execute_reply": "2022-08-05T17:41:16.040804Z"
        },
        "papermill": {
          "duration": 0.655219,
          "end_time": "2022-08-05T17:41:16.043530",
          "exception": false,
          "start_time": "2022-08-05T17:41:15.388311",
          "status": "completed"
        },
        "tags": [],
        "colab": {
          "base_uri": "https://localhost:8080/"
        },
        "id": "cd8bdede",
        "outputId": "1c9280f9-024d-4e5a-bdcf-680647674358"
      },
      "outputs": [
        {
          "output_type": "stream",
          "name": "stdout",
          "text": [
            "Collecting optuna\n",
            "  Downloading optuna-3.5.0-py3-none-any.whl (413 kB)\n",
            "\u001b[2K     \u001b[90m━━━━━━━━━━━━━━━━━━━━━━━━━━━━━━━━━━━━━━━━\u001b[0m \u001b[32m413.4/413.4 kB\u001b[0m \u001b[31m6.6 MB/s\u001b[0m eta \u001b[36m0:00:00\u001b[0m\n",
            "\u001b[?25hCollecting alembic>=1.5.0 (from optuna)\n",
            "  Downloading alembic-1.13.1-py3-none-any.whl (233 kB)\n",
            "\u001b[2K     \u001b[90m━━━━━━━━━━━━━━━━━━━━━━━━━━━━━━━━━━━━━━━━\u001b[0m \u001b[32m233.4/233.4 kB\u001b[0m \u001b[31m10.1 MB/s\u001b[0m eta \u001b[36m0:00:00\u001b[0m\n",
            "\u001b[?25hCollecting colorlog (from optuna)\n",
            "  Downloading colorlog-6.8.2-py3-none-any.whl (11 kB)\n",
            "Requirement already satisfied: numpy in /usr/local/lib/python3.10/dist-packages (from optuna) (1.23.5)\n",
            "Requirement already satisfied: packaging>=20.0 in /usr/local/lib/python3.10/dist-packages (from optuna) (23.2)\n",
            "Requirement already satisfied: sqlalchemy>=1.3.0 in /usr/local/lib/python3.10/dist-packages (from optuna) (2.0.25)\n",
            "Requirement already satisfied: tqdm in /usr/local/lib/python3.10/dist-packages (from optuna) (4.66.1)\n",
            "Requirement already satisfied: PyYAML in /usr/local/lib/python3.10/dist-packages (from optuna) (6.0.1)\n",
            "Collecting Mako (from alembic>=1.5.0->optuna)\n",
            "  Downloading Mako-1.3.2-py3-none-any.whl (78 kB)\n",
            "\u001b[2K     \u001b[90m━━━━━━━━━━━━━━━━━━━━━━━━━━━━━━━━━━━━━━━━\u001b[0m \u001b[32m78.7/78.7 kB\u001b[0m \u001b[31m5.2 MB/s\u001b[0m eta \u001b[36m0:00:00\u001b[0m\n",
            "\u001b[?25hRequirement already satisfied: typing-extensions>=4 in /usr/local/lib/python3.10/dist-packages (from alembic>=1.5.0->optuna) (4.9.0)\n",
            "Requirement already satisfied: greenlet!=0.4.17 in /usr/local/lib/python3.10/dist-packages (from sqlalchemy>=1.3.0->optuna) (3.0.3)\n",
            "Requirement already satisfied: MarkupSafe>=0.9.2 in /usr/local/lib/python3.10/dist-packages (from Mako->alembic>=1.5.0->optuna) (2.1.5)\n",
            "Installing collected packages: Mako, colorlog, alembic, optuna\n",
            "Successfully installed Mako-1.3.2 alembic-1.13.1 colorlog-6.8.2 optuna-3.5.0\n"
          ]
        }
      ],
      "source": [
        "# Paket untuk menerapkan model Machine Learning\n",
        "from sklearn.pipeline import Pipeline\n",
        "from sklearn.model_selection import train_test_split\n",
        "from sklearn.ensemble import RandomForestClassifier\n",
        "from sklearn.naive_bayes import MultinomialNB\n",
        "\n",
        "# Paket untuk optimasi model\n",
        "!pip install optuna  # Menginstal paket Optuna\n",
        "import optuna\n",
        "from optuna.visualization import plot_contour\n",
        "from optuna.visualization import plot_edf\n",
        "from optuna.visualization import plot_intermediate_values\n",
        "from optuna.visualization import plot_optimization_history\n",
        "from optuna.visualization import plot_parallel_coordinate\n",
        "from optuna.visualization import plot_param_importances\n",
        "from optuna.visualization import plot_slice\n",
        "\n",
        "# Paket untuk mengukur performa model\n",
        "from sklearn.metrics import classification_report, confusion_matrix, accuracy_score, recall_score"
      ]
    },
    {
      "cell_type": "markdown",
      "id": "b2ddc7f8",
      "metadata": {
        "papermill": {
          "duration": 0.009644,
          "end_time": "2022-08-05T17:41:16.062510",
          "exception": false,
          "start_time": "2022-08-05T17:41:16.052866",
          "status": "completed"
        },
        "tags": [],
        "id": "b2ddc7f8"
      },
      "source": [
        "**<h1>Introduction**"
      ]
    },
    {
      "cell_type": "markdown",
      "id": "08ea6e9d",
      "metadata": {
        "papermill": {
          "duration": 0.008999,
          "end_time": "2022-08-05T17:41:16.080751",
          "exception": false,
          "start_time": "2022-08-05T17:41:16.071752",
          "status": "completed"
        },
        "tags": [],
        "id": "08ea6e9d"
      },
      "source": [
        "Dalam proyek ini, akan dikembangkan sebuah algoritma machine learning yang mampu memprediksi variasi pasar saham, yang diklasifikasikan sebagai meningkat atau menurun, berdasarkan 25 berita harian teratas dari saluran Reddit WorldNews.\n",
        "\n",
        "Berdasarkan hal tersebut, tujuan-tujuan berikut dari proyek ini akan ditetapkan:\n",
        "\n",
        "- Model machine learning akan menjadi model klasifikasi biner, hanya memprediksi kenaikan atau penurunan pasar saham.\n",
        "- Model yang dikembangkan akan diterima hanya dengan akurasi lebih dari 85%."
      ]
    },
    {
      "cell_type": "markdown",
      "id": "5bec2478",
      "metadata": {
        "papermill": {
          "duration": 0.008875,
          "end_time": "2022-08-05T17:41:16.098738",
          "exception": false,
          "start_time": "2022-08-05T17:41:16.089863",
          "status": "completed"
        },
        "tags": [],
        "id": "5bec2478"
      },
      "source": [
        "**<h1>Exploratory Data Analysis  (EDA)**"
      ]
    },
    {
      "cell_type": "code",
      "execution_count": 5,
      "id": "c1efee1b",
      "metadata": {
        "execution": {
          "iopub.execute_input": "2022-08-05T17:41:16.118520Z",
          "iopub.status.busy": "2022-08-05T17:41:16.118182Z",
          "iopub.status.idle": "2022-08-05T17:41:16.298181Z",
          "shell.execute_reply": "2022-08-05T17:41:16.297415Z"
        },
        "papermill": {
          "duration": 0.191976,
          "end_time": "2022-08-05T17:41:16.299914",
          "exception": false,
          "start_time": "2022-08-05T17:41:16.107938",
          "status": "completed"
        },
        "tags": [],
        "colab": {
          "base_uri": "https://localhost:8080/",
          "height": 505
        },
        "id": "c1efee1b",
        "outputId": "010e5ea0-68ff-4f7d-c2ac-ad78f1cac57b"
      },
      "outputs": [
        {
          "output_type": "execute_result",
          "data": {
            "text/plain": [
              "        Date  Label                                               Top1  \\\n",
              "0   8/8/2008      0  b\"Georgia 'downs two Russian warplanes' as cou...   \n",
              "1  8/11/2008      1  b'Why wont America and Nato help us? If they w...   \n",
              "2  8/12/2008      0  b'Remember that adorable 9-year-old who sang a...   \n",
              "\n",
              "                                          Top2  \\\n",
              "0      b'BREAKING: Musharraf to be impeached.'   \n",
              "1  b'Bush puts foot down on Georgian conflict'   \n",
              "2           b\"Russia 'ends Georgia operation'\"   \n",
              "\n",
              "                                                Top3  \\\n",
              "0  b'Russia Today: Columns of troops roll into So...   \n",
              "1  b\"Jewish Georgian minister: Thanks to Israeli ...   \n",
              "2  b'\"If we had no sexual harassment we would hav...   \n",
              "\n",
              "                                                Top4  \\\n",
              "0  b'Russian tanks are moving towards the capital...   \n",
              "1  b'Georgian army flees in disarray as Russians ...   \n",
              "2  b\"Al-Qa'eda is losing support in Iraq because ...   \n",
              "\n",
              "                                                Top5  \\\n",
              "0  b\"Afghan children raped with 'impunity,' U.N. ...   \n",
              "1      b\"Olympic opening ceremony fireworks 'faked'\"   \n",
              "2  b'Ceasefire in Georgia: Putin Outmaneuvers the...   \n",
              "\n",
              "                                                Top6  \\\n",
              "0  b'150 Russian tanks have entered South Ossetia...   \n",
              "1  b'What were the Mossad with fraudulent New Zea...   \n",
              "2  b'Why Microsoft and Intel tried to kill the XO...   \n",
              "\n",
              "                                                Top7  \\\n",
              "0  b\"Breaking: Georgia invades South Ossetia, Rus...   \n",
              "1  b'Russia angered by Israeli military sale to G...   \n",
              "2  b'Stratfor: The Russo-Georgian War and the Bal...   \n",
              "\n",
              "                                                Top8  ...  \\\n",
              "0  b\"The 'enemy combatent' trials are nothing but...  ...   \n",
              "1  b'An American citizen living in S.Ossetia blam...  ...   \n",
              "2  b\"I'm Trying to Get a Sense of This Whole Geor...  ...   \n",
              "\n",
              "                                               Top16  \\\n",
              "0  b'Georgia Invades South Ossetia - if Russia ge...   \n",
              "1  b'Israel and the US behind the Georgian aggres...   \n",
              "2  b'U.S. troops still in Georgia (did you know t...   \n",
              "\n",
              "                                               Top17  \\\n",
              "0                b'Al-Qaeda Faces Islamist Backlash'   \n",
              "1  b'\"Do not believe TV, neither Russian nor Geor...   \n",
              "2       b'Why Russias response to Georgia was right'   \n",
              "\n",
              "                                               Top18  \\\n",
              "0  b'Condoleezza Rice: \"The US would not act to p...   \n",
              "1  b'Riots are still going on in Montreal (Canada...   \n",
              "2  b'Gorbachev accuses U.S. of making a \"serious ...   \n",
              "\n",
              "                                               Top19  \\\n",
              "0  b'This is a busy day:  The European Union has ...   \n",
              "1    b'China to overtake US as largest manufacturer'   \n",
              "2         b'Russia, Georgia, and NATO: Cold War Two'   \n",
              "\n",
              "                                               Top20  \\\n",
              "0  b\"Georgia will withdraw 1,000 soldiers from Ir...   \n",
              "1                     b'War in South Ossetia [PICS]'   \n",
              "2  b'Remember that adorable 62-year-old who led y...   \n",
              "\n",
              "                                               Top21  \\\n",
              "0  b'Why the Pentagon Thinks Attacking Iran is a ...   \n",
              "1  b'Israeli Physicians Group Condemns State Tort...   \n",
              "2          b'War in Georgia: The Israeli connection'   \n",
              "\n",
              "                                               Top22  \\\n",
              "0  b'Caucasus in crisis: Georgia invades South Os...   \n",
              "1  b' Russia has just beaten the United States ov...   \n",
              "2  b'All signs point to the US encouraging Georgi...   \n",
              "\n",
              "                                               Top23  \\\n",
              "0  b'Indian shoe manufactory  - And again in a se...   \n",
              "1  b'Perhaps *the* question about the Georgia - R...   \n",
              "2  b'Christopher King argues that the US and NATO...   \n",
              "\n",
              "                                               Top24  \\\n",
              "0  b'Visitors Suffering from Mental Illnesses Ban...   \n",
              "1                 b'Russia is so much better at war'   \n",
              "2                        b'America: The New Mexico?'   \n",
              "\n",
              "                                               Top25  \n",
              "0           b\"No Help for Mexico's Kidnapping Surge\"  \n",
              "1  b\"So this is what it's come to: trading sex fo...  \n",
              "2  b\"BBC NEWS | Asia-Pacific | Extinction 'by man...  \n",
              "\n",
              "[3 rows x 27 columns]"
            ],
            "text/html": [
              "\n",
              "  <div id=\"df-a7efbc10-23b1-4414-be87-eb88579cb507\" class=\"colab-df-container\">\n",
              "    <div>\n",
              "<style scoped>\n",
              "    .dataframe tbody tr th:only-of-type {\n",
              "        vertical-align: middle;\n",
              "    }\n",
              "\n",
              "    .dataframe tbody tr th {\n",
              "        vertical-align: top;\n",
              "    }\n",
              "\n",
              "    .dataframe thead th {\n",
              "        text-align: right;\n",
              "    }\n",
              "</style>\n",
              "<table border=\"1\" class=\"dataframe\">\n",
              "  <thead>\n",
              "    <tr style=\"text-align: right;\">\n",
              "      <th></th>\n",
              "      <th>Date</th>\n",
              "      <th>Label</th>\n",
              "      <th>Top1</th>\n",
              "      <th>Top2</th>\n",
              "      <th>Top3</th>\n",
              "      <th>Top4</th>\n",
              "      <th>Top5</th>\n",
              "      <th>Top6</th>\n",
              "      <th>Top7</th>\n",
              "      <th>Top8</th>\n",
              "      <th>...</th>\n",
              "      <th>Top16</th>\n",
              "      <th>Top17</th>\n",
              "      <th>Top18</th>\n",
              "      <th>Top19</th>\n",
              "      <th>Top20</th>\n",
              "      <th>Top21</th>\n",
              "      <th>Top22</th>\n",
              "      <th>Top23</th>\n",
              "      <th>Top24</th>\n",
              "      <th>Top25</th>\n",
              "    </tr>\n",
              "  </thead>\n",
              "  <tbody>\n",
              "    <tr>\n",
              "      <th>0</th>\n",
              "      <td>8/8/2008</td>\n",
              "      <td>0</td>\n",
              "      <td>b\"Georgia 'downs two Russian warplanes' as cou...</td>\n",
              "      <td>b'BREAKING: Musharraf to be impeached.'</td>\n",
              "      <td>b'Russia Today: Columns of troops roll into So...</td>\n",
              "      <td>b'Russian tanks are moving towards the capital...</td>\n",
              "      <td>b\"Afghan children raped with 'impunity,' U.N. ...</td>\n",
              "      <td>b'150 Russian tanks have entered South Ossetia...</td>\n",
              "      <td>b\"Breaking: Georgia invades South Ossetia, Rus...</td>\n",
              "      <td>b\"The 'enemy combatent' trials are nothing but...</td>\n",
              "      <td>...</td>\n",
              "      <td>b'Georgia Invades South Ossetia - if Russia ge...</td>\n",
              "      <td>b'Al-Qaeda Faces Islamist Backlash'</td>\n",
              "      <td>b'Condoleezza Rice: \"The US would not act to p...</td>\n",
              "      <td>b'This is a busy day:  The European Union has ...</td>\n",
              "      <td>b\"Georgia will withdraw 1,000 soldiers from Ir...</td>\n",
              "      <td>b'Why the Pentagon Thinks Attacking Iran is a ...</td>\n",
              "      <td>b'Caucasus in crisis: Georgia invades South Os...</td>\n",
              "      <td>b'Indian shoe manufactory  - And again in a se...</td>\n",
              "      <td>b'Visitors Suffering from Mental Illnesses Ban...</td>\n",
              "      <td>b\"No Help for Mexico's Kidnapping Surge\"</td>\n",
              "    </tr>\n",
              "    <tr>\n",
              "      <th>1</th>\n",
              "      <td>8/11/2008</td>\n",
              "      <td>1</td>\n",
              "      <td>b'Why wont America and Nato help us? If they w...</td>\n",
              "      <td>b'Bush puts foot down on Georgian conflict'</td>\n",
              "      <td>b\"Jewish Georgian minister: Thanks to Israeli ...</td>\n",
              "      <td>b'Georgian army flees in disarray as Russians ...</td>\n",
              "      <td>b\"Olympic opening ceremony fireworks 'faked'\"</td>\n",
              "      <td>b'What were the Mossad with fraudulent New Zea...</td>\n",
              "      <td>b'Russia angered by Israeli military sale to G...</td>\n",
              "      <td>b'An American citizen living in S.Ossetia blam...</td>\n",
              "      <td>...</td>\n",
              "      <td>b'Israel and the US behind the Georgian aggres...</td>\n",
              "      <td>b'\"Do not believe TV, neither Russian nor Geor...</td>\n",
              "      <td>b'Riots are still going on in Montreal (Canada...</td>\n",
              "      <td>b'China to overtake US as largest manufacturer'</td>\n",
              "      <td>b'War in South Ossetia [PICS]'</td>\n",
              "      <td>b'Israeli Physicians Group Condemns State Tort...</td>\n",
              "      <td>b' Russia has just beaten the United States ov...</td>\n",
              "      <td>b'Perhaps *the* question about the Georgia - R...</td>\n",
              "      <td>b'Russia is so much better at war'</td>\n",
              "      <td>b\"So this is what it's come to: trading sex fo...</td>\n",
              "    </tr>\n",
              "    <tr>\n",
              "      <th>2</th>\n",
              "      <td>8/12/2008</td>\n",
              "      <td>0</td>\n",
              "      <td>b'Remember that adorable 9-year-old who sang a...</td>\n",
              "      <td>b\"Russia 'ends Georgia operation'\"</td>\n",
              "      <td>b'\"If we had no sexual harassment we would hav...</td>\n",
              "      <td>b\"Al-Qa'eda is losing support in Iraq because ...</td>\n",
              "      <td>b'Ceasefire in Georgia: Putin Outmaneuvers the...</td>\n",
              "      <td>b'Why Microsoft and Intel tried to kill the XO...</td>\n",
              "      <td>b'Stratfor: The Russo-Georgian War and the Bal...</td>\n",
              "      <td>b\"I'm Trying to Get a Sense of This Whole Geor...</td>\n",
              "      <td>...</td>\n",
              "      <td>b'U.S. troops still in Georgia (did you know t...</td>\n",
              "      <td>b'Why Russias response to Georgia was right'</td>\n",
              "      <td>b'Gorbachev accuses U.S. of making a \"serious ...</td>\n",
              "      <td>b'Russia, Georgia, and NATO: Cold War Two'</td>\n",
              "      <td>b'Remember that adorable 62-year-old who led y...</td>\n",
              "      <td>b'War in Georgia: The Israeli connection'</td>\n",
              "      <td>b'All signs point to the US encouraging Georgi...</td>\n",
              "      <td>b'Christopher King argues that the US and NATO...</td>\n",
              "      <td>b'America: The New Mexico?'</td>\n",
              "      <td>b\"BBC NEWS | Asia-Pacific | Extinction 'by man...</td>\n",
              "    </tr>\n",
              "  </tbody>\n",
              "</table>\n",
              "<p>3 rows × 27 columns</p>\n",
              "</div>\n",
              "    <div class=\"colab-df-buttons\">\n",
              "\n",
              "  <div class=\"colab-df-container\">\n",
              "    <button class=\"colab-df-convert\" onclick=\"convertToInteractive('df-a7efbc10-23b1-4414-be87-eb88579cb507')\"\n",
              "            title=\"Convert this dataframe to an interactive table.\"\n",
              "            style=\"display:none;\">\n",
              "\n",
              "  <svg xmlns=\"http://www.w3.org/2000/svg\" height=\"24px\" viewBox=\"0 -960 960 960\">\n",
              "    <path d=\"M120-120v-720h720v720H120Zm60-500h600v-160H180v160Zm220 220h160v-160H400v160Zm0 220h160v-160H400v160ZM180-400h160v-160H180v160Zm440 0h160v-160H620v160ZM180-180h160v-160H180v160Zm440 0h160v-160H620v160Z\"/>\n",
              "  </svg>\n",
              "    </button>\n",
              "\n",
              "  <style>\n",
              "    .colab-df-container {\n",
              "      display:flex;\n",
              "      gap: 12px;\n",
              "    }\n",
              "\n",
              "    .colab-df-convert {\n",
              "      background-color: #E8F0FE;\n",
              "      border: none;\n",
              "      border-radius: 50%;\n",
              "      cursor: pointer;\n",
              "      display: none;\n",
              "      fill: #1967D2;\n",
              "      height: 32px;\n",
              "      padding: 0 0 0 0;\n",
              "      width: 32px;\n",
              "    }\n",
              "\n",
              "    .colab-df-convert:hover {\n",
              "      background-color: #E2EBFA;\n",
              "      box-shadow: 0px 1px 2px rgba(60, 64, 67, 0.3), 0px 1px 3px 1px rgba(60, 64, 67, 0.15);\n",
              "      fill: #174EA6;\n",
              "    }\n",
              "\n",
              "    .colab-df-buttons div {\n",
              "      margin-bottom: 4px;\n",
              "    }\n",
              "\n",
              "    [theme=dark] .colab-df-convert {\n",
              "      background-color: #3B4455;\n",
              "      fill: #D2E3FC;\n",
              "    }\n",
              "\n",
              "    [theme=dark] .colab-df-convert:hover {\n",
              "      background-color: #434B5C;\n",
              "      box-shadow: 0px 1px 3px 1px rgba(0, 0, 0, 0.15);\n",
              "      filter: drop-shadow(0px 1px 2px rgba(0, 0, 0, 0.3));\n",
              "      fill: #FFFFFF;\n",
              "    }\n",
              "  </style>\n",
              "\n",
              "    <script>\n",
              "      const buttonEl =\n",
              "        document.querySelector('#df-a7efbc10-23b1-4414-be87-eb88579cb507 button.colab-df-convert');\n",
              "      buttonEl.style.display =\n",
              "        google.colab.kernel.accessAllowed ? 'block' : 'none';\n",
              "\n",
              "      async function convertToInteractive(key) {\n",
              "        const element = document.querySelector('#df-a7efbc10-23b1-4414-be87-eb88579cb507');\n",
              "        const dataTable =\n",
              "          await google.colab.kernel.invokeFunction('convertToInteractive',\n",
              "                                                    [key], {});\n",
              "        if (!dataTable) return;\n",
              "\n",
              "        const docLinkHtml = 'Like what you see? Visit the ' +\n",
              "          '<a target=\"_blank\" href=https://colab.research.google.com/notebooks/data_table.ipynb>data table notebook</a>'\n",
              "          + ' to learn more about interactive tables.';\n",
              "        element.innerHTML = '';\n",
              "        dataTable['output_type'] = 'display_data';\n",
              "        await google.colab.output.renderOutput(dataTable, element);\n",
              "        const docLink = document.createElement('div');\n",
              "        docLink.innerHTML = docLinkHtml;\n",
              "        element.appendChild(docLink);\n",
              "      }\n",
              "    </script>\n",
              "  </div>\n",
              "\n",
              "\n",
              "<div id=\"df-c01719c3-0ce2-4f6a-a75b-e9014d1fc638\">\n",
              "  <button class=\"colab-df-quickchart\" onclick=\"quickchart('df-c01719c3-0ce2-4f6a-a75b-e9014d1fc638')\"\n",
              "            title=\"Suggest charts\"\n",
              "            style=\"display:none;\">\n",
              "\n",
              "<svg xmlns=\"http://www.w3.org/2000/svg\" height=\"24px\"viewBox=\"0 0 24 24\"\n",
              "     width=\"24px\">\n",
              "    <g>\n",
              "        <path d=\"M19 3H5c-1.1 0-2 .9-2 2v14c0 1.1.9 2 2 2h14c1.1 0 2-.9 2-2V5c0-1.1-.9-2-2-2zM9 17H7v-7h2v7zm4 0h-2V7h2v10zm4 0h-2v-4h2v4z\"/>\n",
              "    </g>\n",
              "</svg>\n",
              "  </button>\n",
              "\n",
              "<style>\n",
              "  .colab-df-quickchart {\n",
              "      --bg-color: #E8F0FE;\n",
              "      --fill-color: #1967D2;\n",
              "      --hover-bg-color: #E2EBFA;\n",
              "      --hover-fill-color: #174EA6;\n",
              "      --disabled-fill-color: #AAA;\n",
              "      --disabled-bg-color: #DDD;\n",
              "  }\n",
              "\n",
              "  [theme=dark] .colab-df-quickchart {\n",
              "      --bg-color: #3B4455;\n",
              "      --fill-color: #D2E3FC;\n",
              "      --hover-bg-color: #434B5C;\n",
              "      --hover-fill-color: #FFFFFF;\n",
              "      --disabled-bg-color: #3B4455;\n",
              "      --disabled-fill-color: #666;\n",
              "  }\n",
              "\n",
              "  .colab-df-quickchart {\n",
              "    background-color: var(--bg-color);\n",
              "    border: none;\n",
              "    border-radius: 50%;\n",
              "    cursor: pointer;\n",
              "    display: none;\n",
              "    fill: var(--fill-color);\n",
              "    height: 32px;\n",
              "    padding: 0;\n",
              "    width: 32px;\n",
              "  }\n",
              "\n",
              "  .colab-df-quickchart:hover {\n",
              "    background-color: var(--hover-bg-color);\n",
              "    box-shadow: 0 1px 2px rgba(60, 64, 67, 0.3), 0 1px 3px 1px rgba(60, 64, 67, 0.15);\n",
              "    fill: var(--button-hover-fill-color);\n",
              "  }\n",
              "\n",
              "  .colab-df-quickchart-complete:disabled,\n",
              "  .colab-df-quickchart-complete:disabled:hover {\n",
              "    background-color: var(--disabled-bg-color);\n",
              "    fill: var(--disabled-fill-color);\n",
              "    box-shadow: none;\n",
              "  }\n",
              "\n",
              "  .colab-df-spinner {\n",
              "    border: 2px solid var(--fill-color);\n",
              "    border-color: transparent;\n",
              "    border-bottom-color: var(--fill-color);\n",
              "    animation:\n",
              "      spin 1s steps(1) infinite;\n",
              "  }\n",
              "\n",
              "  @keyframes spin {\n",
              "    0% {\n",
              "      border-color: transparent;\n",
              "      border-bottom-color: var(--fill-color);\n",
              "      border-left-color: var(--fill-color);\n",
              "    }\n",
              "    20% {\n",
              "      border-color: transparent;\n",
              "      border-left-color: var(--fill-color);\n",
              "      border-top-color: var(--fill-color);\n",
              "    }\n",
              "    30% {\n",
              "      border-color: transparent;\n",
              "      border-left-color: var(--fill-color);\n",
              "      border-top-color: var(--fill-color);\n",
              "      border-right-color: var(--fill-color);\n",
              "    }\n",
              "    40% {\n",
              "      border-color: transparent;\n",
              "      border-right-color: var(--fill-color);\n",
              "      border-top-color: var(--fill-color);\n",
              "    }\n",
              "    60% {\n",
              "      border-color: transparent;\n",
              "      border-right-color: var(--fill-color);\n",
              "    }\n",
              "    80% {\n",
              "      border-color: transparent;\n",
              "      border-right-color: var(--fill-color);\n",
              "      border-bottom-color: var(--fill-color);\n",
              "    }\n",
              "    90% {\n",
              "      border-color: transparent;\n",
              "      border-bottom-color: var(--fill-color);\n",
              "    }\n",
              "  }\n",
              "</style>\n",
              "\n",
              "  <script>\n",
              "    async function quickchart(key) {\n",
              "      const quickchartButtonEl =\n",
              "        document.querySelector('#' + key + ' button');\n",
              "      quickchartButtonEl.disabled = true;  // To prevent multiple clicks.\n",
              "      quickchartButtonEl.classList.add('colab-df-spinner');\n",
              "      try {\n",
              "        const charts = await google.colab.kernel.invokeFunction(\n",
              "            'suggestCharts', [key], {});\n",
              "      } catch (error) {\n",
              "        console.error('Error during call to suggestCharts:', error);\n",
              "      }\n",
              "      quickchartButtonEl.classList.remove('colab-df-spinner');\n",
              "      quickchartButtonEl.classList.add('colab-df-quickchart-complete');\n",
              "    }\n",
              "    (() => {\n",
              "      let quickchartButtonEl =\n",
              "        document.querySelector('#df-c01719c3-0ce2-4f6a-a75b-e9014d1fc638 button');\n",
              "      quickchartButtonEl.style.display =\n",
              "        google.colab.kernel.accessAllowed ? 'block' : 'none';\n",
              "    })();\n",
              "  </script>\n",
              "</div>\n",
              "    </div>\n",
              "  </div>\n"
            ]
          },
          "metadata": {},
          "execution_count": 5
        }
      ],
      "source": [
        "# load data\n",
        "data = pd.read_csv(\"Combined_News_DJIA.csv\",sep = ',', encoding = \"ISO-8859-1\")\n",
        "data.head(3)"
      ]
    },
    {
      "cell_type": "code",
      "execution_count": 6,
      "id": "597569a7",
      "metadata": {
        "execution": {
          "iopub.execute_input": "2022-08-05T17:41:16.321495Z",
          "iopub.status.busy": "2022-08-05T17:41:16.320311Z",
          "iopub.status.idle": "2022-08-05T17:41:16.343720Z",
          "shell.execute_reply": "2022-08-05T17:41:16.342902Z"
        },
        "papermill": {
          "duration": 0.036745,
          "end_time": "2022-08-05T17:41:16.346422",
          "exception": false,
          "start_time": "2022-08-05T17:41:16.309677",
          "status": "completed"
        },
        "scrolled": true,
        "tags": [],
        "colab": {
          "base_uri": "https://localhost:8080/"
        },
        "id": "597569a7",
        "outputId": "32f2a2b5-b3bb-41ce-9fab-89ab19623b71"
      },
      "outputs": [
        {
          "output_type": "stream",
          "name": "stdout",
          "text": [
            "<class 'pandas.core.frame.DataFrame'>\n",
            "RangeIndex: 1989 entries, 0 to 1988\n",
            "Data columns (total 27 columns):\n",
            " #   Column  Non-Null Count  Dtype \n",
            "---  ------  --------------  ----- \n",
            " 0   Date    1989 non-null   object\n",
            " 1   Label   1989 non-null   int64 \n",
            " 2   Top1    1989 non-null   object\n",
            " 3   Top2    1989 non-null   object\n",
            " 4   Top3    1989 non-null   object\n",
            " 5   Top4    1989 non-null   object\n",
            " 6   Top5    1989 non-null   object\n",
            " 7   Top6    1989 non-null   object\n",
            " 8   Top7    1989 non-null   object\n",
            " 9   Top8    1989 non-null   object\n",
            " 10  Top9    1989 non-null   object\n",
            " 11  Top10   1989 non-null   object\n",
            " 12  Top11   1989 non-null   object\n",
            " 13  Top12   1989 non-null   object\n",
            " 14  Top13   1989 non-null   object\n",
            " 15  Top14   1989 non-null   object\n",
            " 16  Top15   1989 non-null   object\n",
            " 17  Top16   1989 non-null   object\n",
            " 18  Top17   1989 non-null   object\n",
            " 19  Top18   1989 non-null   object\n",
            " 20  Top19   1989 non-null   object\n",
            " 21  Top20   1989 non-null   object\n",
            " 22  Top21   1989 non-null   object\n",
            " 23  Top22   1989 non-null   object\n",
            " 24  Top23   1988 non-null   object\n",
            " 25  Top24   1986 non-null   object\n",
            " 26  Top25   1986 non-null   object\n",
            "dtypes: int64(1), object(26)\n",
            "memory usage: 419.7+ KB\n"
          ]
        }
      ],
      "source": [
        "# Memeriksa apakah kolom telah terisi dengan benar\n",
        "data.info()"
      ]
    },
    {
      "cell_type": "markdown",
      "id": "dd60cf8c",
      "metadata": {
        "papermill": {
          "duration": 0.009377,
          "end_time": "2022-08-05T17:41:16.365649",
          "exception": false,
          "start_time": "2022-08-05T17:41:16.356272",
          "status": "completed"
        },
        "tags": [],
        "id": "dd60cf8c"
      },
      "source": [
        "Melihat data dari dataframe 'data', kita melihat ketidakhadiran 3 data di 'Top24' dan 'Top25', bersama dengan ke tidak hadiran satu data di 'Top23'.\n",
        "\n",
        "Karena mereka adalah data tipe teks dan ketidakhadiran yang ditemukan kecil dibandingkan dengan jumlah data yang dianalisis, baris dengan nilai yang hilang dapat dihapus."
      ]
    },
    {
      "cell_type": "code",
      "execution_count": 7,
      "id": "d9c7c77a",
      "metadata": {
        "execution": {
          "iopub.execute_input": "2022-08-05T17:41:16.385789Z",
          "iopub.status.busy": "2022-08-05T17:41:16.385484Z",
          "iopub.status.idle": "2022-08-05T17:41:17.301049Z",
          "shell.execute_reply": "2022-08-05T17:41:17.299937Z"
        },
        "papermill": {
          "duration": 0.927931,
          "end_time": "2022-08-05T17:41:17.303102",
          "exception": false,
          "start_time": "2022-08-05T17:41:16.375171",
          "status": "completed"
        },
        "tags": [],
        "colab": {
          "base_uri": "https://localhost:8080/",
          "height": 541
        },
        "id": "d9c7c77a",
        "outputId": "a1c134a2-4f0b-45e5-d70c-0fd4c1062580"
      },
      "outputs": [
        {
          "output_type": "stream",
          "name": "stderr",
          "text": [
            "<ipython-input-7-8bacd9e2412c>:7: SettingWithCopyWarning: \n",
            "A value is trying to be set on a copy of a slice from a DataFrame.\n",
            "Try using .loc[row_indexer,col_indexer] = value instead\n",
            "\n",
            "See the caveats in the documentation: https://pandas.pydata.org/pandas-docs/stable/user_guide/indexing.html#returning-a-view-versus-a-copy\n",
            "  data['Year'] = date_aux.dt.year\n"
          ]
        },
        {
          "output_type": "display_data",
          "data": {
            "text/html": [
              "<html>\n",
              "<head><meta charset=\"utf-8\" /></head>\n",
              "<body>\n",
              "    <div>            <script src=\"https://cdnjs.cloudflare.com/ajax/libs/mathjax/2.7.5/MathJax.js?config=TeX-AMS-MML_SVG\"></script><script type=\"text/javascript\">if (window.MathJax && window.MathJax.Hub && window.MathJax.Hub.Config) {window.MathJax.Hub.Config({SVG: {font: \"STIX-Web\"}});}</script>                <script type=\"text/javascript\">window.PlotlyConfig = {MathJaxConfig: 'local'};</script>\n",
              "        <script charset=\"utf-8\" src=\"https://cdn.plot.ly/plotly-2.24.1.min.js\"></script>                <div id=\"a39f901e-649d-41f2-8c09-e8ee903bed3a\" class=\"plotly-graph-div\" style=\"height:400px; width:1000px;\"></div>            <script type=\"text/javascript\">                                    window.PLOTLYENV=window.PLOTLYENV || {};                                    if (document.getElementById(\"a39f901e-649d-41f2-8c09-e8ee903bed3a\")) {                    Plotly.newPlot(                        \"a39f901e-649d-41f2-8c09-e8ee903bed3a\",                        [{\"alignmentgroup\":\"True\",\"hovertemplate\":\"color=DJIA turun\\u003cbr\\u003ex=%{x}\\u003cbr\\u003ey=%{y}\\u003cextra\\u003e\\u003c\\u002fextra\\u003e\",\"legendgroup\":\"DJIA turun\",\"marker\":{\"color\":\"#636efa\",\"pattern\":{\"shape\":\"\"}},\"name\":\"DJIA turun\",\"offsetgroup\":\"DJIA turun\",\"orientation\":\"v\",\"showlegend\":true,\"textposition\":\"auto\",\"x\":[2008,2009,2010,2011,2012,2013,2014,2015,2016],\"xaxis\":\"x\",\"y\":[54,116,109,113,127,106,113,130,56],\"yaxis\":\"y\",\"type\":\"bar\"},{\"alignmentgroup\":\"True\",\"hovertemplate\":\"color=DJIA naik atau tetap\\u003cbr\\u003ex=%{x}\\u003cbr\\u003ey=%{y}\\u003cextra\\u003e\\u003c\\u002fextra\\u003e\",\"legendgroup\":\"DJIA naik atau tetap\",\"marker\":{\"color\":\"#EF553B\",\"pattern\":{\"shape\":\"\"}},\"name\":\"DJIA naik atau tetap\",\"offsetgroup\":\"DJIA naik atau tetap\",\"orientation\":\"v\",\"showlegend\":true,\"textposition\":\"auto\",\"x\":[2008,2009,2010,2011,2012,2013,2014,2015,2016],\"xaxis\":\"x\",\"y\":[47,134,143,138,123,146,139,122,70],\"yaxis\":\"y\",\"type\":\"bar\"}],                        {\"template\":{\"data\":{\"histogram2dcontour\":[{\"type\":\"histogram2dcontour\",\"colorbar\":{\"outlinewidth\":0,\"ticks\":\"\"},\"colorscale\":[[0.0,\"#0d0887\"],[0.1111111111111111,\"#46039f\"],[0.2222222222222222,\"#7201a8\"],[0.3333333333333333,\"#9c179e\"],[0.4444444444444444,\"#bd3786\"],[0.5555555555555556,\"#d8576b\"],[0.6666666666666666,\"#ed7953\"],[0.7777777777777778,\"#fb9f3a\"],[0.8888888888888888,\"#fdca26\"],[1.0,\"#f0f921\"]]}],\"choropleth\":[{\"type\":\"choropleth\",\"colorbar\":{\"outlinewidth\":0,\"ticks\":\"\"}}],\"histogram2d\":[{\"type\":\"histogram2d\",\"colorbar\":{\"outlinewidth\":0,\"ticks\":\"\"},\"colorscale\":[[0.0,\"#0d0887\"],[0.1111111111111111,\"#46039f\"],[0.2222222222222222,\"#7201a8\"],[0.3333333333333333,\"#9c179e\"],[0.4444444444444444,\"#bd3786\"],[0.5555555555555556,\"#d8576b\"],[0.6666666666666666,\"#ed7953\"],[0.7777777777777778,\"#fb9f3a\"],[0.8888888888888888,\"#fdca26\"],[1.0,\"#f0f921\"]]}],\"heatmap\":[{\"type\":\"heatmap\",\"colorbar\":{\"outlinewidth\":0,\"ticks\":\"\"},\"colorscale\":[[0.0,\"#0d0887\"],[0.1111111111111111,\"#46039f\"],[0.2222222222222222,\"#7201a8\"],[0.3333333333333333,\"#9c179e\"],[0.4444444444444444,\"#bd3786\"],[0.5555555555555556,\"#d8576b\"],[0.6666666666666666,\"#ed7953\"],[0.7777777777777778,\"#fb9f3a\"],[0.8888888888888888,\"#fdca26\"],[1.0,\"#f0f921\"]]}],\"heatmapgl\":[{\"type\":\"heatmapgl\",\"colorbar\":{\"outlinewidth\":0,\"ticks\":\"\"},\"colorscale\":[[0.0,\"#0d0887\"],[0.1111111111111111,\"#46039f\"],[0.2222222222222222,\"#7201a8\"],[0.3333333333333333,\"#9c179e\"],[0.4444444444444444,\"#bd3786\"],[0.5555555555555556,\"#d8576b\"],[0.6666666666666666,\"#ed7953\"],[0.7777777777777778,\"#fb9f3a\"],[0.8888888888888888,\"#fdca26\"],[1.0,\"#f0f921\"]]}],\"contourcarpet\":[{\"type\":\"contourcarpet\",\"colorbar\":{\"outlinewidth\":0,\"ticks\":\"\"}}],\"contour\":[{\"type\":\"contour\",\"colorbar\":{\"outlinewidth\":0,\"ticks\":\"\"},\"colorscale\":[[0.0,\"#0d0887\"],[0.1111111111111111,\"#46039f\"],[0.2222222222222222,\"#7201a8\"],[0.3333333333333333,\"#9c179e\"],[0.4444444444444444,\"#bd3786\"],[0.5555555555555556,\"#d8576b\"],[0.6666666666666666,\"#ed7953\"],[0.7777777777777778,\"#fb9f3a\"],[0.8888888888888888,\"#fdca26\"],[1.0,\"#f0f921\"]]}],\"surface\":[{\"type\":\"surface\",\"colorbar\":{\"outlinewidth\":0,\"ticks\":\"\"},\"colorscale\":[[0.0,\"#0d0887\"],[0.1111111111111111,\"#46039f\"],[0.2222222222222222,\"#7201a8\"],[0.3333333333333333,\"#9c179e\"],[0.4444444444444444,\"#bd3786\"],[0.5555555555555556,\"#d8576b\"],[0.6666666666666666,\"#ed7953\"],[0.7777777777777778,\"#fb9f3a\"],[0.8888888888888888,\"#fdca26\"],[1.0,\"#f0f921\"]]}],\"mesh3d\":[{\"type\":\"mesh3d\",\"colorbar\":{\"outlinewidth\":0,\"ticks\":\"\"}}],\"scatter\":[{\"fillpattern\":{\"fillmode\":\"overlay\",\"size\":10,\"solidity\":0.2},\"type\":\"scatter\"}],\"parcoords\":[{\"type\":\"parcoords\",\"line\":{\"colorbar\":{\"outlinewidth\":0,\"ticks\":\"\"}}}],\"scatterpolargl\":[{\"type\":\"scatterpolargl\",\"marker\":{\"colorbar\":{\"outlinewidth\":0,\"ticks\":\"\"}}}],\"bar\":[{\"error_x\":{\"color\":\"#2a3f5f\"},\"error_y\":{\"color\":\"#2a3f5f\"},\"marker\":{\"line\":{\"color\":\"#E5ECF6\",\"width\":0.5},\"pattern\":{\"fillmode\":\"overlay\",\"size\":10,\"solidity\":0.2}},\"type\":\"bar\"}],\"scattergeo\":[{\"type\":\"scattergeo\",\"marker\":{\"colorbar\":{\"outlinewidth\":0,\"ticks\":\"\"}}}],\"scatterpolar\":[{\"type\":\"scatterpolar\",\"marker\":{\"colorbar\":{\"outlinewidth\":0,\"ticks\":\"\"}}}],\"histogram\":[{\"marker\":{\"pattern\":{\"fillmode\":\"overlay\",\"size\":10,\"solidity\":0.2}},\"type\":\"histogram\"}],\"scattergl\":[{\"type\":\"scattergl\",\"marker\":{\"colorbar\":{\"outlinewidth\":0,\"ticks\":\"\"}}}],\"scatter3d\":[{\"type\":\"scatter3d\",\"line\":{\"colorbar\":{\"outlinewidth\":0,\"ticks\":\"\"}},\"marker\":{\"colorbar\":{\"outlinewidth\":0,\"ticks\":\"\"}}}],\"scattermapbox\":[{\"type\":\"scattermapbox\",\"marker\":{\"colorbar\":{\"outlinewidth\":0,\"ticks\":\"\"}}}],\"scatterternary\":[{\"type\":\"scatterternary\",\"marker\":{\"colorbar\":{\"outlinewidth\":0,\"ticks\":\"\"}}}],\"scattercarpet\":[{\"type\":\"scattercarpet\",\"marker\":{\"colorbar\":{\"outlinewidth\":0,\"ticks\":\"\"}}}],\"carpet\":[{\"aaxis\":{\"endlinecolor\":\"#2a3f5f\",\"gridcolor\":\"white\",\"linecolor\":\"white\",\"minorgridcolor\":\"white\",\"startlinecolor\":\"#2a3f5f\"},\"baxis\":{\"endlinecolor\":\"#2a3f5f\",\"gridcolor\":\"white\",\"linecolor\":\"white\",\"minorgridcolor\":\"white\",\"startlinecolor\":\"#2a3f5f\"},\"type\":\"carpet\"}],\"table\":[{\"cells\":{\"fill\":{\"color\":\"#EBF0F8\"},\"line\":{\"color\":\"white\"}},\"header\":{\"fill\":{\"color\":\"#C8D4E3\"},\"line\":{\"color\":\"white\"}},\"type\":\"table\"}],\"barpolar\":[{\"marker\":{\"line\":{\"color\":\"#E5ECF6\",\"width\":0.5},\"pattern\":{\"fillmode\":\"overlay\",\"size\":10,\"solidity\":0.2}},\"type\":\"barpolar\"}],\"pie\":[{\"automargin\":true,\"type\":\"pie\"}]},\"layout\":{\"autotypenumbers\":\"strict\",\"colorway\":[\"#636efa\",\"#EF553B\",\"#00cc96\",\"#ab63fa\",\"#FFA15A\",\"#19d3f3\",\"#FF6692\",\"#B6E880\",\"#FF97FF\",\"#FECB52\"],\"font\":{\"color\":\"#2a3f5f\"},\"hovermode\":\"closest\",\"hoverlabel\":{\"align\":\"left\"},\"paper_bgcolor\":\"white\",\"plot_bgcolor\":\"#E5ECF6\",\"polar\":{\"bgcolor\":\"#E5ECF6\",\"angularaxis\":{\"gridcolor\":\"white\",\"linecolor\":\"white\",\"ticks\":\"\"},\"radialaxis\":{\"gridcolor\":\"white\",\"linecolor\":\"white\",\"ticks\":\"\"}},\"ternary\":{\"bgcolor\":\"#E5ECF6\",\"aaxis\":{\"gridcolor\":\"white\",\"linecolor\":\"white\",\"ticks\":\"\"},\"baxis\":{\"gridcolor\":\"white\",\"linecolor\":\"white\",\"ticks\":\"\"},\"caxis\":{\"gridcolor\":\"white\",\"linecolor\":\"white\",\"ticks\":\"\"}},\"coloraxis\":{\"colorbar\":{\"outlinewidth\":0,\"ticks\":\"\"}},\"colorscale\":{\"sequential\":[[0.0,\"#0d0887\"],[0.1111111111111111,\"#46039f\"],[0.2222222222222222,\"#7201a8\"],[0.3333333333333333,\"#9c179e\"],[0.4444444444444444,\"#bd3786\"],[0.5555555555555556,\"#d8576b\"],[0.6666666666666666,\"#ed7953\"],[0.7777777777777778,\"#fb9f3a\"],[0.8888888888888888,\"#fdca26\"],[1.0,\"#f0f921\"]],\"sequentialminus\":[[0.0,\"#0d0887\"],[0.1111111111111111,\"#46039f\"],[0.2222222222222222,\"#7201a8\"],[0.3333333333333333,\"#9c179e\"],[0.4444444444444444,\"#bd3786\"],[0.5555555555555556,\"#d8576b\"],[0.6666666666666666,\"#ed7953\"],[0.7777777777777778,\"#fb9f3a\"],[0.8888888888888888,\"#fdca26\"],[1.0,\"#f0f921\"]],\"diverging\":[[0,\"#8e0152\"],[0.1,\"#c51b7d\"],[0.2,\"#de77ae\"],[0.3,\"#f1b6da\"],[0.4,\"#fde0ef\"],[0.5,\"#f7f7f7\"],[0.6,\"#e6f5d0\"],[0.7,\"#b8e186\"],[0.8,\"#7fbc41\"],[0.9,\"#4d9221\"],[1,\"#276419\"]]},\"xaxis\":{\"gridcolor\":\"white\",\"linecolor\":\"white\",\"ticks\":\"\",\"title\":{\"standoff\":15},\"zerolinecolor\":\"white\",\"automargin\":true,\"zerolinewidth\":2},\"yaxis\":{\"gridcolor\":\"white\",\"linecolor\":\"white\",\"ticks\":\"\",\"title\":{\"standoff\":15},\"zerolinecolor\":\"white\",\"automargin\":true,\"zerolinewidth\":2},\"scene\":{\"xaxis\":{\"backgroundcolor\":\"#E5ECF6\",\"gridcolor\":\"white\",\"linecolor\":\"white\",\"showbackground\":true,\"ticks\":\"\",\"zerolinecolor\":\"white\",\"gridwidth\":2},\"yaxis\":{\"backgroundcolor\":\"#E5ECF6\",\"gridcolor\":\"white\",\"linecolor\":\"white\",\"showbackground\":true,\"ticks\":\"\",\"zerolinecolor\":\"white\",\"gridwidth\":2},\"zaxis\":{\"backgroundcolor\":\"#E5ECF6\",\"gridcolor\":\"white\",\"linecolor\":\"white\",\"showbackground\":true,\"ticks\":\"\",\"zerolinecolor\":\"white\",\"gridwidth\":2}},\"shapedefaults\":{\"line\":{\"color\":\"#2a3f5f\"}},\"annotationdefaults\":{\"arrowcolor\":\"#2a3f5f\",\"arrowhead\":0,\"arrowwidth\":1},\"geo\":{\"bgcolor\":\"white\",\"landcolor\":\"#E5ECF6\",\"subunitcolor\":\"white\",\"showland\":true,\"showlakes\":true,\"lakecolor\":\"white\"},\"title\":{\"x\":0.05},\"mapbox\":{\"style\":\"light\"}}},\"xaxis\":{\"anchor\":\"y\",\"domain\":[0.0,1.0],\"title\":{\"text\":\"x\"}},\"yaxis\":{\"anchor\":\"x\",\"domain\":[0.0,1.0],\"title\":{\"text\":\"y\"}},\"legend\":{\"title\":{\"text\":\"color\"},\"tracegroupgap\":0},\"margin\":{\"t\":60},\"barmode\":\"group\",\"title\":{\"text\":\"Distribusi Variasi DJIA per Tahun\",\"x\":0.5,\"xanchor\":\"center\",\"yanchor\":\"top\"},\"height\":400,\"width\":1000},                        {\"responsive\": true}                    ).then(function(){\n",
              "                            \n",
              "var gd = document.getElementById('a39f901e-649d-41f2-8c09-e8ee903bed3a');\n",
              "var x = new MutationObserver(function (mutations, observer) {{\n",
              "        var display = window.getComputedStyle(gd).display;\n",
              "        if (!display || display === 'none') {{\n",
              "            console.log([gd, 'removed!']);\n",
              "            Plotly.purge(gd);\n",
              "            observer.disconnect();\n",
              "        }}\n",
              "}});\n",
              "\n",
              "// Listen for the removal of the full notebook cells\n",
              "var notebookContainer = gd.closest('#notebook-container');\n",
              "if (notebookContainer) {{\n",
              "    x.observe(notebookContainer, {childList: true});\n",
              "}}\n",
              "\n",
              "// Listen for the clearing of the current output cell\n",
              "var outputEl = gd.closest('.output');\n",
              "if (outputEl) {{\n",
              "    x.observe(outputEl, {childList: true});\n",
              "}}\n",
              "\n",
              "                        })                };                            </script>        </div>\n",
              "</body>\n",
              "</html>"
            ]
          },
          "metadata": {}
        }
      ],
      "source": [
        "data = data.dropna()\n",
        "\n",
        "# Membuat plot distribusi label per tahun yang dianalisis\n",
        "\n",
        "# Membuat kolom tahun untuk pemisahan grup\n",
        "date_aux = pd.to_datetime(data['Date'])\n",
        "data['Year'] = date_aux.dt.year\n",
        "\n",
        "# Membuat kolom tahun untuk analisis\n",
        "label2 = [2008, 2008, 2009, 2009, 2010, 2010, 2011, 2011, 2012, 2012, 2013, 2013, 2014, 2014, 2015, 2015, 2016, 2016]\n",
        "cor = ['DJIA turun','DJIA naik atau tetap','DJIA turun','DJIA naik atau tetap','DJIA turun','DJIA naik atau tetap','DJIA turun','DJIA naik atau tetap','DJIA turun','DJIA naik atau tetap','DJIA turun','DJIA naik atau tetap','DJIA turun','DJIA naik atau tetap','DJIA turun','DJIA naik atau tetap','DJIA turun','DJIA naik atau tetap']\n",
        "value2 = data.groupby(['Year', 'Label']).count()\n",
        "\n",
        "fig = px.bar(x=label2, y=value2['Date'], color=cor, barmode='group')\n",
        "fig.update_layout(title={'text': 'Distribusi Variasi DJIA per Tahun', 'x':0.5, 'xanchor': 'center', 'yanchor': 'top'}, height=400, width=1000)\n",
        "fig.show()"
      ]
    },
    {
      "cell_type": "markdown",
      "id": "89e5bf68",
      "metadata": {
        "papermill": {
          "duration": 0.009924,
          "end_time": "2022-08-05T17:41:17.323192",
          "exception": false,
          "start_time": "2022-08-05T17:41:17.313268",
          "status": "completed"
        },
        "tags": [],
        "id": "89e5bf68"
      },
      "source": [
        "Dengan menganalisis distribusi label, dapat diperhatikan bahwa dataset memiliki distribusi yang hampir setara antara penurunan atau kenaikan DJIA per tahun, dengan penyebaran yang lebih besar pada tahun 2010 dan 2013."
      ]
    },
    {
      "cell_type": "markdown",
      "id": "05a995fb",
      "metadata": {
        "papermill": {
          "duration": 0.00951,
          "end_time": "2022-08-05T17:41:17.342578",
          "exception": false,
          "start_time": "2022-08-05T17:41:17.333068",
          "status": "completed"
        },
        "tags": [],
        "id": "05a995fb"
      },
      "source": [
        "**<h1> Feature Transformation**"
      ]
    },
    {
      "cell_type": "markdown",
      "id": "59b09633",
      "metadata": {
        "papermill": {
          "duration": 0.010567,
          "end_time": "2022-08-05T17:41:17.363892",
          "exception": false,
          "start_time": "2022-08-05T17:41:17.353325",
          "status": "completed"
        },
        "tags": [],
        "id": "59b09633"
      },
      "source": [
        "Karena data yang dikumpulkan dari tren dari Top 1 hingga Top 25 berbentuk string, frasa akan diolah dengan menghapus karakter yang tidak diinginkan dan mengubah huruf kapital menjadi huruf kecil untuk memudahkan identifikasi kata saat menerapkan algoritma."
      ]
    },
    {
      "cell_type": "code",
      "execution_count": 8,
      "id": "124974de",
      "metadata": {
        "execution": {
          "iopub.execute_input": "2022-08-05T17:41:17.386308Z",
          "iopub.status.busy": "2022-08-05T17:41:17.385846Z",
          "iopub.status.idle": "2022-08-05T17:41:17.392341Z",
          "shell.execute_reply": "2022-08-05T17:41:17.391736Z"
        },
        "papermill": {
          "duration": 0.019882,
          "end_time": "2022-08-05T17:41:17.394265",
          "exception": false,
          "start_time": "2022-08-05T17:41:17.374383",
          "status": "completed"
        },
        "tags": [],
        "id": "124974de"
      },
      "outputs": [],
      "source": [
        "# Memisahkan menjadi data pelatihan dan data uji\n",
        "train = data[data['Date'] <= '20150101']\n",
        "test = data[data['Date'] > '20141231']"
      ]
    },
    {
      "cell_type": "code",
      "execution_count": 9,
      "id": "d7e6a175",
      "metadata": {
        "execution": {
          "iopub.execute_input": "2022-08-05T17:41:17.416841Z",
          "iopub.status.busy": "2022-08-05T17:41:17.416132Z",
          "iopub.status.idle": "2022-08-05T17:41:17.478280Z",
          "shell.execute_reply": "2022-08-05T17:41:17.476995Z"
        },
        "papermill": {
          "duration": 0.075766,
          "end_time": "2022-08-05T17:41:17.480497",
          "exception": false,
          "start_time": "2022-08-05T17:41:17.404731",
          "status": "completed"
        },
        "tags": [],
        "colab": {
          "base_uri": "https://localhost:8080/",
          "height": 542
        },
        "id": "d7e6a175",
        "outputId": "e8ac557d-dedd-4298-9bb2-4878b08db57d"
      },
      "outputs": [
        {
          "output_type": "display_data",
          "data": {
            "text/html": [
              "<html>\n",
              "<head><meta charset=\"utf-8\" /></head>\n",
              "<body>\n",
              "    <div>            <script src=\"https://cdnjs.cloudflare.com/ajax/libs/mathjax/2.7.5/MathJax.js?config=TeX-AMS-MML_SVG\"></script><script type=\"text/javascript\">if (window.MathJax && window.MathJax.Hub && window.MathJax.Hub.Config) {window.MathJax.Hub.Config({SVG: {font: \"STIX-Web\"}});}</script>                <script type=\"text/javascript\">window.PlotlyConfig = {MathJaxConfig: 'local'};</script>\n",
              "        <script charset=\"utf-8\" src=\"https://cdn.plot.ly/plotly-2.24.1.min.js\"></script>                <div id=\"fa559bd6-8c3e-464f-b3e1-cbc49235df4d\" class=\"plotly-graph-div\" style=\"height:525px; width:100%;\"></div>            <script type=\"text/javascript\">                                    window.PLOTLYENV=window.PLOTLYENV || {};                                    if (document.getElementById(\"fa559bd6-8c3e-464f-b3e1-cbc49235df4d\")) {                    Plotly.newPlot(                        \"fa559bd6-8c3e-464f-b3e1-cbc49235df4d\",                        [{\"alignmentgroup\":\"True\",\"hovertemplate\":\"color=data_latih\\u003cbr\\u003ex=%{x}\\u003cbr\\u003ey=%{y}\\u003cextra\\u003e\\u003c\\u002fextra\\u003e\",\"legendgroup\":\"data_latih\",\"marker\":{\"color\":\"#636efa\",\"pattern\":{\"shape\":\"\"}},\"name\":\"data_latih\",\"offsetgroup\":\"data_latih\",\"orientation\":\"v\",\"showlegend\":true,\"textposition\":\"auto\",\"x\":[\"penurunan DJIA\",\"kenaikan DJIA\"],\"xaxis\":\"x\",\"y\":[386,436],\"yaxis\":\"y\",\"type\":\"bar\"},{\"alignmentgroup\":\"True\",\"hovertemplate\":\"color=data_uji\\u003cbr\\u003ex=%{x}\\u003cbr\\u003ey=%{y}\\u003cextra\\u003e\\u003c\\u002fextra\\u003e\",\"legendgroup\":\"data_uji\",\"marker\":{\"color\":\"#EF553B\",\"pattern\":{\"shape\":\"\"}},\"name\":\"data_uji\",\"offsetgroup\":\"data_uji\",\"orientation\":\"v\",\"showlegend\":true,\"textposition\":\"auto\",\"x\":[\"penurunan DJIA\",\"kenaikan DJIA\"],\"xaxis\":\"x\",\"y\":[538,626],\"yaxis\":\"y\",\"type\":\"bar\"}],                        {\"template\":{\"data\":{\"histogram2dcontour\":[{\"type\":\"histogram2dcontour\",\"colorbar\":{\"outlinewidth\":0,\"ticks\":\"\"},\"colorscale\":[[0.0,\"#0d0887\"],[0.1111111111111111,\"#46039f\"],[0.2222222222222222,\"#7201a8\"],[0.3333333333333333,\"#9c179e\"],[0.4444444444444444,\"#bd3786\"],[0.5555555555555556,\"#d8576b\"],[0.6666666666666666,\"#ed7953\"],[0.7777777777777778,\"#fb9f3a\"],[0.8888888888888888,\"#fdca26\"],[1.0,\"#f0f921\"]]}],\"choropleth\":[{\"type\":\"choropleth\",\"colorbar\":{\"outlinewidth\":0,\"ticks\":\"\"}}],\"histogram2d\":[{\"type\":\"histogram2d\",\"colorbar\":{\"outlinewidth\":0,\"ticks\":\"\"},\"colorscale\":[[0.0,\"#0d0887\"],[0.1111111111111111,\"#46039f\"],[0.2222222222222222,\"#7201a8\"],[0.3333333333333333,\"#9c179e\"],[0.4444444444444444,\"#bd3786\"],[0.5555555555555556,\"#d8576b\"],[0.6666666666666666,\"#ed7953\"],[0.7777777777777778,\"#fb9f3a\"],[0.8888888888888888,\"#fdca26\"],[1.0,\"#f0f921\"]]}],\"heatmap\":[{\"type\":\"heatmap\",\"colorbar\":{\"outlinewidth\":0,\"ticks\":\"\"},\"colorscale\":[[0.0,\"#0d0887\"],[0.1111111111111111,\"#46039f\"],[0.2222222222222222,\"#7201a8\"],[0.3333333333333333,\"#9c179e\"],[0.4444444444444444,\"#bd3786\"],[0.5555555555555556,\"#d8576b\"],[0.6666666666666666,\"#ed7953\"],[0.7777777777777778,\"#fb9f3a\"],[0.8888888888888888,\"#fdca26\"],[1.0,\"#f0f921\"]]}],\"heatmapgl\":[{\"type\":\"heatmapgl\",\"colorbar\":{\"outlinewidth\":0,\"ticks\":\"\"},\"colorscale\":[[0.0,\"#0d0887\"],[0.1111111111111111,\"#46039f\"],[0.2222222222222222,\"#7201a8\"],[0.3333333333333333,\"#9c179e\"],[0.4444444444444444,\"#bd3786\"],[0.5555555555555556,\"#d8576b\"],[0.6666666666666666,\"#ed7953\"],[0.7777777777777778,\"#fb9f3a\"],[0.8888888888888888,\"#fdca26\"],[1.0,\"#f0f921\"]]}],\"contourcarpet\":[{\"type\":\"contourcarpet\",\"colorbar\":{\"outlinewidth\":0,\"ticks\":\"\"}}],\"contour\":[{\"type\":\"contour\",\"colorbar\":{\"outlinewidth\":0,\"ticks\":\"\"},\"colorscale\":[[0.0,\"#0d0887\"],[0.1111111111111111,\"#46039f\"],[0.2222222222222222,\"#7201a8\"],[0.3333333333333333,\"#9c179e\"],[0.4444444444444444,\"#bd3786\"],[0.5555555555555556,\"#d8576b\"],[0.6666666666666666,\"#ed7953\"],[0.7777777777777778,\"#fb9f3a\"],[0.8888888888888888,\"#fdca26\"],[1.0,\"#f0f921\"]]}],\"surface\":[{\"type\":\"surface\",\"colorbar\":{\"outlinewidth\":0,\"ticks\":\"\"},\"colorscale\":[[0.0,\"#0d0887\"],[0.1111111111111111,\"#46039f\"],[0.2222222222222222,\"#7201a8\"],[0.3333333333333333,\"#9c179e\"],[0.4444444444444444,\"#bd3786\"],[0.5555555555555556,\"#d8576b\"],[0.6666666666666666,\"#ed7953\"],[0.7777777777777778,\"#fb9f3a\"],[0.8888888888888888,\"#fdca26\"],[1.0,\"#f0f921\"]]}],\"mesh3d\":[{\"type\":\"mesh3d\",\"colorbar\":{\"outlinewidth\":0,\"ticks\":\"\"}}],\"scatter\":[{\"fillpattern\":{\"fillmode\":\"overlay\",\"size\":10,\"solidity\":0.2},\"type\":\"scatter\"}],\"parcoords\":[{\"type\":\"parcoords\",\"line\":{\"colorbar\":{\"outlinewidth\":0,\"ticks\":\"\"}}}],\"scatterpolargl\":[{\"type\":\"scatterpolargl\",\"marker\":{\"colorbar\":{\"outlinewidth\":0,\"ticks\":\"\"}}}],\"bar\":[{\"error_x\":{\"color\":\"#2a3f5f\"},\"error_y\":{\"color\":\"#2a3f5f\"},\"marker\":{\"line\":{\"color\":\"#E5ECF6\",\"width\":0.5},\"pattern\":{\"fillmode\":\"overlay\",\"size\":10,\"solidity\":0.2}},\"type\":\"bar\"}],\"scattergeo\":[{\"type\":\"scattergeo\",\"marker\":{\"colorbar\":{\"outlinewidth\":0,\"ticks\":\"\"}}}],\"scatterpolar\":[{\"type\":\"scatterpolar\",\"marker\":{\"colorbar\":{\"outlinewidth\":0,\"ticks\":\"\"}}}],\"histogram\":[{\"marker\":{\"pattern\":{\"fillmode\":\"overlay\",\"size\":10,\"solidity\":0.2}},\"type\":\"histogram\"}],\"scattergl\":[{\"type\":\"scattergl\",\"marker\":{\"colorbar\":{\"outlinewidth\":0,\"ticks\":\"\"}}}],\"scatter3d\":[{\"type\":\"scatter3d\",\"line\":{\"colorbar\":{\"outlinewidth\":0,\"ticks\":\"\"}},\"marker\":{\"colorbar\":{\"outlinewidth\":0,\"ticks\":\"\"}}}],\"scattermapbox\":[{\"type\":\"scattermapbox\",\"marker\":{\"colorbar\":{\"outlinewidth\":0,\"ticks\":\"\"}}}],\"scatterternary\":[{\"type\":\"scatterternary\",\"marker\":{\"colorbar\":{\"outlinewidth\":0,\"ticks\":\"\"}}}],\"scattercarpet\":[{\"type\":\"scattercarpet\",\"marker\":{\"colorbar\":{\"outlinewidth\":0,\"ticks\":\"\"}}}],\"carpet\":[{\"aaxis\":{\"endlinecolor\":\"#2a3f5f\",\"gridcolor\":\"white\",\"linecolor\":\"white\",\"minorgridcolor\":\"white\",\"startlinecolor\":\"#2a3f5f\"},\"baxis\":{\"endlinecolor\":\"#2a3f5f\",\"gridcolor\":\"white\",\"linecolor\":\"white\",\"minorgridcolor\":\"white\",\"startlinecolor\":\"#2a3f5f\"},\"type\":\"carpet\"}],\"table\":[{\"cells\":{\"fill\":{\"color\":\"#EBF0F8\"},\"line\":{\"color\":\"white\"}},\"header\":{\"fill\":{\"color\":\"#C8D4E3\"},\"line\":{\"color\":\"white\"}},\"type\":\"table\"}],\"barpolar\":[{\"marker\":{\"line\":{\"color\":\"#E5ECF6\",\"width\":0.5},\"pattern\":{\"fillmode\":\"overlay\",\"size\":10,\"solidity\":0.2}},\"type\":\"barpolar\"}],\"pie\":[{\"automargin\":true,\"type\":\"pie\"}]},\"layout\":{\"autotypenumbers\":\"strict\",\"colorway\":[\"#636efa\",\"#EF553B\",\"#00cc96\",\"#ab63fa\",\"#FFA15A\",\"#19d3f3\",\"#FF6692\",\"#B6E880\",\"#FF97FF\",\"#FECB52\"],\"font\":{\"color\":\"#2a3f5f\"},\"hovermode\":\"closest\",\"hoverlabel\":{\"align\":\"left\"},\"paper_bgcolor\":\"white\",\"plot_bgcolor\":\"#E5ECF6\",\"polar\":{\"bgcolor\":\"#E5ECF6\",\"angularaxis\":{\"gridcolor\":\"white\",\"linecolor\":\"white\",\"ticks\":\"\"},\"radialaxis\":{\"gridcolor\":\"white\",\"linecolor\":\"white\",\"ticks\":\"\"}},\"ternary\":{\"bgcolor\":\"#E5ECF6\",\"aaxis\":{\"gridcolor\":\"white\",\"linecolor\":\"white\",\"ticks\":\"\"},\"baxis\":{\"gridcolor\":\"white\",\"linecolor\":\"white\",\"ticks\":\"\"},\"caxis\":{\"gridcolor\":\"white\",\"linecolor\":\"white\",\"ticks\":\"\"}},\"coloraxis\":{\"colorbar\":{\"outlinewidth\":0,\"ticks\":\"\"}},\"colorscale\":{\"sequential\":[[0.0,\"#0d0887\"],[0.1111111111111111,\"#46039f\"],[0.2222222222222222,\"#7201a8\"],[0.3333333333333333,\"#9c179e\"],[0.4444444444444444,\"#bd3786\"],[0.5555555555555556,\"#d8576b\"],[0.6666666666666666,\"#ed7953\"],[0.7777777777777778,\"#fb9f3a\"],[0.8888888888888888,\"#fdca26\"],[1.0,\"#f0f921\"]],\"sequentialminus\":[[0.0,\"#0d0887\"],[0.1111111111111111,\"#46039f\"],[0.2222222222222222,\"#7201a8\"],[0.3333333333333333,\"#9c179e\"],[0.4444444444444444,\"#bd3786\"],[0.5555555555555556,\"#d8576b\"],[0.6666666666666666,\"#ed7953\"],[0.7777777777777778,\"#fb9f3a\"],[0.8888888888888888,\"#fdca26\"],[1.0,\"#f0f921\"]],\"diverging\":[[0,\"#8e0152\"],[0.1,\"#c51b7d\"],[0.2,\"#de77ae\"],[0.3,\"#f1b6da\"],[0.4,\"#fde0ef\"],[0.5,\"#f7f7f7\"],[0.6,\"#e6f5d0\"],[0.7,\"#b8e186\"],[0.8,\"#7fbc41\"],[0.9,\"#4d9221\"],[1,\"#276419\"]]},\"xaxis\":{\"gridcolor\":\"white\",\"linecolor\":\"white\",\"ticks\":\"\",\"title\":{\"standoff\":15},\"zerolinecolor\":\"white\",\"automargin\":true,\"zerolinewidth\":2},\"yaxis\":{\"gridcolor\":\"white\",\"linecolor\":\"white\",\"ticks\":\"\",\"title\":{\"standoff\":15},\"zerolinecolor\":\"white\",\"automargin\":true,\"zerolinewidth\":2},\"scene\":{\"xaxis\":{\"backgroundcolor\":\"#E5ECF6\",\"gridcolor\":\"white\",\"linecolor\":\"white\",\"showbackground\":true,\"ticks\":\"\",\"zerolinecolor\":\"white\",\"gridwidth\":2},\"yaxis\":{\"backgroundcolor\":\"#E5ECF6\",\"gridcolor\":\"white\",\"linecolor\":\"white\",\"showbackground\":true,\"ticks\":\"\",\"zerolinecolor\":\"white\",\"gridwidth\":2},\"zaxis\":{\"backgroundcolor\":\"#E5ECF6\",\"gridcolor\":\"white\",\"linecolor\":\"white\",\"showbackground\":true,\"ticks\":\"\",\"zerolinecolor\":\"white\",\"gridwidth\":2}},\"shapedefaults\":{\"line\":{\"color\":\"#2a3f5f\"}},\"annotationdefaults\":{\"arrowcolor\":\"#2a3f5f\",\"arrowhead\":0,\"arrowwidth\":1},\"geo\":{\"bgcolor\":\"white\",\"landcolor\":\"#E5ECF6\",\"subunitcolor\":\"white\",\"showland\":true,\"showlakes\":true,\"lakecolor\":\"white\"},\"title\":{\"x\":0.05},\"mapbox\":{\"style\":\"light\"}}},\"xaxis\":{\"anchor\":\"y\",\"domain\":[0.0,1.0],\"title\":{\"text\":\"x\"}},\"yaxis\":{\"anchor\":\"x\",\"domain\":[0.0,1.0],\"title\":{\"text\":\"y\"}},\"legend\":{\"title\":{\"text\":\"color\"},\"tracegroupgap\":0},\"margin\":{\"t\":60},\"barmode\":\"group\"},                        {\"responsive\": true}                    ).then(function(){\n",
              "                            \n",
              "var gd = document.getElementById('fa559bd6-8c3e-464f-b3e1-cbc49235df4d');\n",
              "var x = new MutationObserver(function (mutations, observer) {{\n",
              "        var display = window.getComputedStyle(gd).display;\n",
              "        if (!display || display === 'none') {{\n",
              "            console.log([gd, 'removed!']);\n",
              "            Plotly.purge(gd);\n",
              "            observer.disconnect();\n",
              "        }}\n",
              "}});\n",
              "\n",
              "// Listen for the removal of the full notebook cells\n",
              "var notebookContainer = gd.closest('#notebook-container');\n",
              "if (notebookContainer) {{\n",
              "    x.observe(notebookContainer, {childList: true});\n",
              "}}\n",
              "\n",
              "// Listen for the clearing of the current output cell\n",
              "var outputEl = gd.closest('.output');\n",
              "if (outputEl) {{\n",
              "    x.observe(outputEl, {childList: true});\n",
              "}}\n",
              "\n",
              "                        })                };                            </script>        </div>\n",
              "</body>\n",
              "</html>"
            ]
          },
          "metadata": {}
        }
      ],
      "source": [
        "value1 = train.groupby(['Label']).count()\n",
        "value2 = test.groupby(['Label']).count()\n",
        "value_y = [value1.iloc[0,0], value1.iloc[1,0], value2.iloc[0,0], value2.iloc[1,0]]\n",
        "x1 = ['penurunan DJIA', 'kenaikan DJIA', 'penurunan DJIA', 'kenaikan DJIA']\n",
        "groups = ['data_latih', 'data_latih', 'data_uji', 'data_uji']\n",
        "fig = px.bar(x=x1, y=value_y, color=groups, barmode='group')\n",
        "fig.show()"
      ]
    },
    {
      "cell_type": "markdown",
      "id": "2975844e",
      "metadata": {
        "papermill": {
          "duration": 0.009681,
          "end_time": "2022-08-05T17:41:17.500315",
          "exception": false,
          "start_time": "2022-08-05T17:41:17.490634",
          "status": "completed"
        },
        "tags": [],
        "id": "2975844e"
      },
      "source": [
        "Menganalisis data, kita memiliki distribusi yang kira-kira 47/53 untuk data latih, sementara untuk data uji terdapat hubungan 49/51.\n",
        "\n",
        "Jika ada perbedaan yang sangat besar dalam data, akan diperlukan untuk mendistribusikannya ulang atau membatasi jumlah data yang dianalisis, terutama pada tahap pelatihan."
      ]
    },
    {
      "cell_type": "code",
      "execution_count": 10,
      "id": "a238d77a",
      "metadata": {
        "execution": {
          "iopub.execute_input": "2022-08-05T17:41:17.522063Z",
          "iopub.status.busy": "2022-08-05T17:41:17.521313Z",
          "iopub.status.idle": "2022-08-05T17:41:17.793229Z",
          "shell.execute_reply": "2022-08-05T17:41:17.792537Z"
        },
        "papermill": {
          "duration": 0.284601,
          "end_time": "2022-08-05T17:41:17.794918",
          "exception": false,
          "start_time": "2022-08-05T17:41:17.510317",
          "status": "completed"
        },
        "tags": [],
        "colab": {
          "base_uri": "https://localhost:8080/",
          "height": 557
        },
        "id": "a238d77a",
        "outputId": "a40cc911-6944-4568-c23b-672c191c5ae9"
      },
      "outputs": [
        {
          "output_type": "execute_result",
          "data": {
            "text/plain": [
              "                                                    0  \\\n",
              "37  b  Fucking hell     it  s fucking Great Britai...   \n",
              "38  b Mexican Farm Leader Dies After Lighting Hims...   \n",
              "39                b US strikes  kill    in Pakistan     \n",
              "\n",
              "                                                    1  \\\n",
              "37  b Brian Haw  Britains most loved peace protest...   \n",
              "38  b Surveillance of Skype messages found in China     \n",
              "39  b A script written by the BBC and the governme...   \n",
              "\n",
              "                                                    2  \\\n",
              "37  b Suicidal teenager urged to Jump by crowd  so...   \n",
              "38  b Russia   US economic dominance over   World ...   \n",
              "39  b Jewish settlers trying to stop olive harvest...   \n",
              "\n",
              "                                                    3  \\\n",
              "37  b British envoy says mission in Afghanistan is...   \n",
              "38                b  Hundreds join  settler violence    \n",
              "39  b Medvedev   The U S  financial crisis should ...   \n",
              "\n",
              "                                                    4  \\\n",
              "37  b More Blowback   The U S  backed Ethiopian mi...   \n",
              "38  b After a few cryptic reports in the European ...   \n",
              "39  b Cokie Roberts Once Again Proves She Doesn t ...   \n",
              "\n",
              "                                                    5  \\\n",
              "37                     b The Atlas of the Real World    \n",
              "38  b The United Nations is raising its security l...   \n",
              "39  b  How symbolic that Chinese astronauts take a...   \n",
              "\n",
              "                                                    6  \\\n",
              "37  b Should Germany prosecute Holocaust deniers l...   \n",
              "38  b Amid the chaos on Wall Street  the question ...   \n",
              "39                   b Life in Somalia s pirate town    \n",
              "\n",
              "                                                    7  \\\n",
              "37  b US navy happy to extend blockade of pirate s...   \n",
              "38  b Alternative to German bank crisis  The trans...   \n",
              "39  b Britain  Forty percent of children live in p...   \n",
              "\n",
              "                                                    8  \\\n",
              "37  b Sources  Man blamed for Bhutto killing is dead    \n",
              "38   b UK university probes  Nazi  initiation video     \n",
              "39  b How they see us  A dangerous juncture in Afg...   \n",
              "\n",
              "                                                    9  ...  \\\n",
              "37  b  In Bolivia  we nationalized for the people ...  ...   \n",
              "38                    b The Atlas of the Real World    ...   \n",
              "39  b Young immigrant females age         now requ...  ...   \n",
              "\n",
              "                                                   15  \\\n",
              "37  b Cost of massive unemployment in Iraq could b...   \n",
              "38           b US approves Indian nuclear trade deal    \n",
              "39            b Bangkok Sex Tycoon Runs For Governor    \n",
              "\n",
              "                                                   16  \\\n",
              "37     b Somali pirates deny fatal onboard shoot out    \n",
              "38  b Retailers Need to Realign Wall Street Report...   \n",
              "39  b Signs of a pending depression  The Economist...   \n",
              "\n",
              "                                                   17  \\\n",
              "37    b     Hindu pilgrims die in stampede at temple    \n",
              "38  b Even after war  many Georgians revere Stalin...   \n",
              "39             b The Jewel of Medina   out on Monday    \n",
              "\n",
              "                                                   18  \\\n",
              "37  b MI  secrets found on camera sold on eBay  Ne...   \n",
              "38  b Putin accuses Ukraine of aiding Georgia duri...   \n",
              "39  b Phallic charms  buffalo amulets at heart of ...   \n",
              "\n",
              "                                                   19  \\\n",
              "37  b Security Analyst Warns of Rise of Organized ...   \n",
              "38  b US Senate approves Indo US nuclear deal  end...   \n",
              "39  b An explosion in the South Ossetian capital o...   \n",
              "\n",
              "                                                   20  \\\n",
              "37  b For you you to call my God INVISIBLE is a ca...   \n",
              "38                    b Murder Capitals of the World    \n",
              "39                 b Kenya s wild and dangerous west    \n",
              "\n",
              "                                                   21  \\\n",
              "37  b A Palestinian    years  kept their children ...   \n",
              "38           b  Russia to deploy new nuclear missile    \n",
              "39  b The Forgotten Wars  less than    of people k...   \n",
              "\n",
              "                                                   22  \\\n",
              "37  b Pakistani Taliban Leader Dead Or Dying   Bai...   \n",
              "38  b Capturing the database state  community phot...   \n",
              "39   b Israeli settlers turn on their own soldiers      \n",
              "\n",
              "                                                   23  \\\n",
              "37    b Canada   CBC National News covers      Truth    \n",
              "38  b Life in Zimbabwe      a teachers monthly pay...   \n",
              "39  b Development Doesn t Require Big Government P...   \n",
              "\n",
              "                                                   24  \n",
              "37    b Dusty Foggo Gets Green Light for Green Badge   \n",
              "38  b A Canadian Explains Why The American Electio...  \n",
              "39  b The Bailing Out Continues in Europe  Belgium...  \n",
              "\n",
              "[3 rows x 25 columns]"
            ],
            "text/html": [
              "\n",
              "  <div id=\"df-bc28e83f-91c3-4456-936d-883609c0b5ad\" class=\"colab-df-container\">\n",
              "    <div>\n",
              "<style scoped>\n",
              "    .dataframe tbody tr th:only-of-type {\n",
              "        vertical-align: middle;\n",
              "    }\n",
              "\n",
              "    .dataframe tbody tr th {\n",
              "        vertical-align: top;\n",
              "    }\n",
              "\n",
              "    .dataframe thead th {\n",
              "        text-align: right;\n",
              "    }\n",
              "</style>\n",
              "<table border=\"1\" class=\"dataframe\">\n",
              "  <thead>\n",
              "    <tr style=\"text-align: right;\">\n",
              "      <th></th>\n",
              "      <th>0</th>\n",
              "      <th>1</th>\n",
              "      <th>2</th>\n",
              "      <th>3</th>\n",
              "      <th>4</th>\n",
              "      <th>5</th>\n",
              "      <th>6</th>\n",
              "      <th>7</th>\n",
              "      <th>8</th>\n",
              "      <th>9</th>\n",
              "      <th>...</th>\n",
              "      <th>15</th>\n",
              "      <th>16</th>\n",
              "      <th>17</th>\n",
              "      <th>18</th>\n",
              "      <th>19</th>\n",
              "      <th>20</th>\n",
              "      <th>21</th>\n",
              "      <th>22</th>\n",
              "      <th>23</th>\n",
              "      <th>24</th>\n",
              "    </tr>\n",
              "  </thead>\n",
              "  <tbody>\n",
              "    <tr>\n",
              "      <th>37</th>\n",
              "      <td>b  Fucking hell     it  s fucking Great Britai...</td>\n",
              "      <td>b Brian Haw  Britains most loved peace protest...</td>\n",
              "      <td>b Suicidal teenager urged to Jump by crowd  so...</td>\n",
              "      <td>b British envoy says mission in Afghanistan is...</td>\n",
              "      <td>b More Blowback   The U S  backed Ethiopian mi...</td>\n",
              "      <td>b The Atlas of the Real World</td>\n",
              "      <td>b Should Germany prosecute Holocaust deniers l...</td>\n",
              "      <td>b US navy happy to extend blockade of pirate s...</td>\n",
              "      <td>b Sources  Man blamed for Bhutto killing is dead</td>\n",
              "      <td>b  In Bolivia  we nationalized for the people ...</td>\n",
              "      <td>...</td>\n",
              "      <td>b Cost of massive unemployment in Iraq could b...</td>\n",
              "      <td>b Somali pirates deny fatal onboard shoot out</td>\n",
              "      <td>b     Hindu pilgrims die in stampede at temple</td>\n",
              "      <td>b MI  secrets found on camera sold on eBay  Ne...</td>\n",
              "      <td>b Security Analyst Warns of Rise of Organized ...</td>\n",
              "      <td>b For you you to call my God INVISIBLE is a ca...</td>\n",
              "      <td>b A Palestinian    years  kept their children ...</td>\n",
              "      <td>b Pakistani Taliban Leader Dead Or Dying   Bai...</td>\n",
              "      <td>b Canada   CBC National News covers      Truth</td>\n",
              "      <td>b Dusty Foggo Gets Green Light for Green Badge</td>\n",
              "    </tr>\n",
              "    <tr>\n",
              "      <th>38</th>\n",
              "      <td>b Mexican Farm Leader Dies After Lighting Hims...</td>\n",
              "      <td>b Surveillance of Skype messages found in China</td>\n",
              "      <td>b Russia   US economic dominance over   World ...</td>\n",
              "      <td>b  Hundreds join  settler violence</td>\n",
              "      <td>b After a few cryptic reports in the European ...</td>\n",
              "      <td>b The United Nations is raising its security l...</td>\n",
              "      <td>b Amid the chaos on Wall Street  the question ...</td>\n",
              "      <td>b Alternative to German bank crisis  The trans...</td>\n",
              "      <td>b UK university probes  Nazi  initiation video</td>\n",
              "      <td>b The Atlas of the Real World</td>\n",
              "      <td>...</td>\n",
              "      <td>b US approves Indian nuclear trade deal</td>\n",
              "      <td>b Retailers Need to Realign Wall Street Report...</td>\n",
              "      <td>b Even after war  many Georgians revere Stalin...</td>\n",
              "      <td>b Putin accuses Ukraine of aiding Georgia duri...</td>\n",
              "      <td>b US Senate approves Indo US nuclear deal  end...</td>\n",
              "      <td>b Murder Capitals of the World</td>\n",
              "      <td>b  Russia to deploy new nuclear missile</td>\n",
              "      <td>b Capturing the database state  community phot...</td>\n",
              "      <td>b Life in Zimbabwe      a teachers monthly pay...</td>\n",
              "      <td>b A Canadian Explains Why The American Electio...</td>\n",
              "    </tr>\n",
              "    <tr>\n",
              "      <th>39</th>\n",
              "      <td>b US strikes  kill    in Pakistan</td>\n",
              "      <td>b A script written by the BBC and the governme...</td>\n",
              "      <td>b Jewish settlers trying to stop olive harvest...</td>\n",
              "      <td>b Medvedev   The U S  financial crisis should ...</td>\n",
              "      <td>b Cokie Roberts Once Again Proves She Doesn t ...</td>\n",
              "      <td>b  How symbolic that Chinese astronauts take a...</td>\n",
              "      <td>b Life in Somalia s pirate town</td>\n",
              "      <td>b Britain  Forty percent of children live in p...</td>\n",
              "      <td>b How they see us  A dangerous juncture in Afg...</td>\n",
              "      <td>b Young immigrant females age         now requ...</td>\n",
              "      <td>...</td>\n",
              "      <td>b Bangkok Sex Tycoon Runs For Governor</td>\n",
              "      <td>b Signs of a pending depression  The Economist...</td>\n",
              "      <td>b The Jewel of Medina   out on Monday</td>\n",
              "      <td>b Phallic charms  buffalo amulets at heart of ...</td>\n",
              "      <td>b An explosion in the South Ossetian capital o...</td>\n",
              "      <td>b Kenya s wild and dangerous west</td>\n",
              "      <td>b The Forgotten Wars  less than    of people k...</td>\n",
              "      <td>b Israeli settlers turn on their own soldiers</td>\n",
              "      <td>b Development Doesn t Require Big Government P...</td>\n",
              "      <td>b The Bailing Out Continues in Europe  Belgium...</td>\n",
              "    </tr>\n",
              "  </tbody>\n",
              "</table>\n",
              "<p>3 rows × 25 columns</p>\n",
              "</div>\n",
              "    <div class=\"colab-df-buttons\">\n",
              "\n",
              "  <div class=\"colab-df-container\">\n",
              "    <button class=\"colab-df-convert\" onclick=\"convertToInteractive('df-bc28e83f-91c3-4456-936d-883609c0b5ad')\"\n",
              "            title=\"Convert this dataframe to an interactive table.\"\n",
              "            style=\"display:none;\">\n",
              "\n",
              "  <svg xmlns=\"http://www.w3.org/2000/svg\" height=\"24px\" viewBox=\"0 -960 960 960\">\n",
              "    <path d=\"M120-120v-720h720v720H120Zm60-500h600v-160H180v160Zm220 220h160v-160H400v160Zm0 220h160v-160H400v160ZM180-400h160v-160H180v160Zm440 0h160v-160H620v160ZM180-180h160v-160H180v160Zm440 0h160v-160H620v160Z\"/>\n",
              "  </svg>\n",
              "    </button>\n",
              "\n",
              "  <style>\n",
              "    .colab-df-container {\n",
              "      display:flex;\n",
              "      gap: 12px;\n",
              "    }\n",
              "\n",
              "    .colab-df-convert {\n",
              "      background-color: #E8F0FE;\n",
              "      border: none;\n",
              "      border-radius: 50%;\n",
              "      cursor: pointer;\n",
              "      display: none;\n",
              "      fill: #1967D2;\n",
              "      height: 32px;\n",
              "      padding: 0 0 0 0;\n",
              "      width: 32px;\n",
              "    }\n",
              "\n",
              "    .colab-df-convert:hover {\n",
              "      background-color: #E2EBFA;\n",
              "      box-shadow: 0px 1px 2px rgba(60, 64, 67, 0.3), 0px 1px 3px 1px rgba(60, 64, 67, 0.15);\n",
              "      fill: #174EA6;\n",
              "    }\n",
              "\n",
              "    .colab-df-buttons div {\n",
              "      margin-bottom: 4px;\n",
              "    }\n",
              "\n",
              "    [theme=dark] .colab-df-convert {\n",
              "      background-color: #3B4455;\n",
              "      fill: #D2E3FC;\n",
              "    }\n",
              "\n",
              "    [theme=dark] .colab-df-convert:hover {\n",
              "      background-color: #434B5C;\n",
              "      box-shadow: 0px 1px 3px 1px rgba(0, 0, 0, 0.15);\n",
              "      filter: drop-shadow(0px 1px 2px rgba(0, 0, 0, 0.3));\n",
              "      fill: #FFFFFF;\n",
              "    }\n",
              "  </style>\n",
              "\n",
              "    <script>\n",
              "      const buttonEl =\n",
              "        document.querySelector('#df-bc28e83f-91c3-4456-936d-883609c0b5ad button.colab-df-convert');\n",
              "      buttonEl.style.display =\n",
              "        google.colab.kernel.accessAllowed ? 'block' : 'none';\n",
              "\n",
              "      async function convertToInteractive(key) {\n",
              "        const element = document.querySelector('#df-bc28e83f-91c3-4456-936d-883609c0b5ad');\n",
              "        const dataTable =\n",
              "          await google.colab.kernel.invokeFunction('convertToInteractive',\n",
              "                                                    [key], {});\n",
              "        if (!dataTable) return;\n",
              "\n",
              "        const docLinkHtml = 'Like what you see? Visit the ' +\n",
              "          '<a target=\"_blank\" href=https://colab.research.google.com/notebooks/data_table.ipynb>data table notebook</a>'\n",
              "          + ' to learn more about interactive tables.';\n",
              "        element.innerHTML = '';\n",
              "        dataTable['output_type'] = 'display_data';\n",
              "        await google.colab.output.renderOutput(dataTable, element);\n",
              "        const docLink = document.createElement('div');\n",
              "        docLink.innerHTML = docLinkHtml;\n",
              "        element.appendChild(docLink);\n",
              "      }\n",
              "    </script>\n",
              "  </div>\n",
              "\n",
              "\n",
              "<div id=\"df-c48a7d05-defd-44cc-af1b-d3dbcc58b294\">\n",
              "  <button class=\"colab-df-quickchart\" onclick=\"quickchart('df-c48a7d05-defd-44cc-af1b-d3dbcc58b294')\"\n",
              "            title=\"Suggest charts\"\n",
              "            style=\"display:none;\">\n",
              "\n",
              "<svg xmlns=\"http://www.w3.org/2000/svg\" height=\"24px\"viewBox=\"0 0 24 24\"\n",
              "     width=\"24px\">\n",
              "    <g>\n",
              "        <path d=\"M19 3H5c-1.1 0-2 .9-2 2v14c0 1.1.9 2 2 2h14c1.1 0 2-.9 2-2V5c0-1.1-.9-2-2-2zM9 17H7v-7h2v7zm4 0h-2V7h2v10zm4 0h-2v-4h2v4z\"/>\n",
              "    </g>\n",
              "</svg>\n",
              "  </button>\n",
              "\n",
              "<style>\n",
              "  .colab-df-quickchart {\n",
              "      --bg-color: #E8F0FE;\n",
              "      --fill-color: #1967D2;\n",
              "      --hover-bg-color: #E2EBFA;\n",
              "      --hover-fill-color: #174EA6;\n",
              "      --disabled-fill-color: #AAA;\n",
              "      --disabled-bg-color: #DDD;\n",
              "  }\n",
              "\n",
              "  [theme=dark] .colab-df-quickchart {\n",
              "      --bg-color: #3B4455;\n",
              "      --fill-color: #D2E3FC;\n",
              "      --hover-bg-color: #434B5C;\n",
              "      --hover-fill-color: #FFFFFF;\n",
              "      --disabled-bg-color: #3B4455;\n",
              "      --disabled-fill-color: #666;\n",
              "  }\n",
              "\n",
              "  .colab-df-quickchart {\n",
              "    background-color: var(--bg-color);\n",
              "    border: none;\n",
              "    border-radius: 50%;\n",
              "    cursor: pointer;\n",
              "    display: none;\n",
              "    fill: var(--fill-color);\n",
              "    height: 32px;\n",
              "    padding: 0;\n",
              "    width: 32px;\n",
              "  }\n",
              "\n",
              "  .colab-df-quickchart:hover {\n",
              "    background-color: var(--hover-bg-color);\n",
              "    box-shadow: 0 1px 2px rgba(60, 64, 67, 0.3), 0 1px 3px 1px rgba(60, 64, 67, 0.15);\n",
              "    fill: var(--button-hover-fill-color);\n",
              "  }\n",
              "\n",
              "  .colab-df-quickchart-complete:disabled,\n",
              "  .colab-df-quickchart-complete:disabled:hover {\n",
              "    background-color: var(--disabled-bg-color);\n",
              "    fill: var(--disabled-fill-color);\n",
              "    box-shadow: none;\n",
              "  }\n",
              "\n",
              "  .colab-df-spinner {\n",
              "    border: 2px solid var(--fill-color);\n",
              "    border-color: transparent;\n",
              "    border-bottom-color: var(--fill-color);\n",
              "    animation:\n",
              "      spin 1s steps(1) infinite;\n",
              "  }\n",
              "\n",
              "  @keyframes spin {\n",
              "    0% {\n",
              "      border-color: transparent;\n",
              "      border-bottom-color: var(--fill-color);\n",
              "      border-left-color: var(--fill-color);\n",
              "    }\n",
              "    20% {\n",
              "      border-color: transparent;\n",
              "      border-left-color: var(--fill-color);\n",
              "      border-top-color: var(--fill-color);\n",
              "    }\n",
              "    30% {\n",
              "      border-color: transparent;\n",
              "      border-left-color: var(--fill-color);\n",
              "      border-top-color: var(--fill-color);\n",
              "      border-right-color: var(--fill-color);\n",
              "    }\n",
              "    40% {\n",
              "      border-color: transparent;\n",
              "      border-right-color: var(--fill-color);\n",
              "      border-top-color: var(--fill-color);\n",
              "    }\n",
              "    60% {\n",
              "      border-color: transparent;\n",
              "      border-right-color: var(--fill-color);\n",
              "    }\n",
              "    80% {\n",
              "      border-color: transparent;\n",
              "      border-right-color: var(--fill-color);\n",
              "      border-bottom-color: var(--fill-color);\n",
              "    }\n",
              "    90% {\n",
              "      border-color: transparent;\n",
              "      border-bottom-color: var(--fill-color);\n",
              "    }\n",
              "  }\n",
              "</style>\n",
              "\n",
              "  <script>\n",
              "    async function quickchart(key) {\n",
              "      const quickchartButtonEl =\n",
              "        document.querySelector('#' + key + ' button');\n",
              "      quickchartButtonEl.disabled = true;  // To prevent multiple clicks.\n",
              "      quickchartButtonEl.classList.add('colab-df-spinner');\n",
              "      try {\n",
              "        const charts = await google.colab.kernel.invokeFunction(\n",
              "            'suggestCharts', [key], {});\n",
              "      } catch (error) {\n",
              "        console.error('Error during call to suggestCharts:', error);\n",
              "      }\n",
              "      quickchartButtonEl.classList.remove('colab-df-spinner');\n",
              "      quickchartButtonEl.classList.add('colab-df-quickchart-complete');\n",
              "    }\n",
              "    (() => {\n",
              "      let quickchartButtonEl =\n",
              "        document.querySelector('#df-c48a7d05-defd-44cc-af1b-d3dbcc58b294 button');\n",
              "      quickchartButtonEl.style.display =\n",
              "        google.colab.kernel.accessAllowed ? 'block' : 'none';\n",
              "    })();\n",
              "  </script>\n",
              "</div>\n",
              "    </div>\n",
              "  </div>\n"
            ]
          },
          "metadata": {},
          "execution_count": 10
        }
      ],
      "source": [
        "# Menghapus karakter khusus\n",
        "data_train = train.iloc[:, 2:27]\n",
        "data_train.replace(\"[^a-zA-Z]\", \" \", regex=True, inplace=True)\n",
        "\n",
        "list1 = [i for i in range(25)]\n",
        "new_Index = [str(i) for i in list1]\n",
        "data_train.columns = new_Index\n",
        "\n",
        "data_train.head(3)"
      ]
    },
    {
      "cell_type": "code",
      "execution_count": 11,
      "id": "6722d9f6",
      "metadata": {
        "execution": {
          "iopub.execute_input": "2022-08-05T17:41:17.817330Z",
          "iopub.status.busy": "2022-08-05T17:41:17.817056Z",
          "iopub.status.idle": "2022-08-05T17:41:17.931972Z",
          "shell.execute_reply": "2022-08-05T17:41:17.931247Z"
        },
        "papermill": {
          "duration": 0.128326,
          "end_time": "2022-08-05T17:41:17.933750",
          "exception": false,
          "start_time": "2022-08-05T17:41:17.805424",
          "status": "completed"
        },
        "tags": [],
        "colab": {
          "base_uri": "https://localhost:8080/",
          "height": 540
        },
        "id": "6722d9f6",
        "outputId": "c10a7e39-9a19-47ab-880a-96a1f70566e2"
      },
      "outputs": [
        {
          "output_type": "execute_result",
          "data": {
            "text/plain": [
              "                                                    0  \\\n",
              "37    fucking hell     it  s fucking great britain...   \n",
              "38   mexican farm leader dies after lighting himse...   \n",
              "39                  us strikes  kill    in pakistan     \n",
              "\n",
              "                                                    1  \\\n",
              "37   brian haw  britains most loved peace proteste...   \n",
              "38    surveillance of skype messages found in china     \n",
              "39   a script written by the bbc and the governmen...   \n",
              "\n",
              "                                                    2  \\\n",
              "37   suicidal teenager urged to jump by crowd  so ...   \n",
              "38   russia   us economic dominance over   world n...   \n",
              "39   jewish settlers trying to stop olive harvest ...   \n",
              "\n",
              "                                                    3  \\\n",
              "37   british envoy says mission in afghanistan is ...   \n",
              "38                   hundreds join  settler violence    \n",
              "39   medvedev   the u s  financial crisis should b...   \n",
              "\n",
              "                                                    4  \\\n",
              "37   more blowback   the u s  backed ethiopian mil...   \n",
              "38   after a few cryptic reports in the european m...   \n",
              "39   cokie roberts once again proves she doesn t b...   \n",
              "\n",
              "                                                    5  \\\n",
              "37                       the atlas of the real world    \n",
              "38   the united nations is raising its security le...   \n",
              "39    how symbolic that chinese astronauts take a ...   \n",
              "\n",
              "                                                    6  \\\n",
              "37   should germany prosecute holocaust deniers li...   \n",
              "38   amid the chaos on wall street  the question l...   \n",
              "39                     life in somalia s pirate town    \n",
              "\n",
              "                                                    7  \\\n",
              "37   us navy happy to extend blockade of pirate ship    \n",
              "38   alternative to german bank crisis  the transf...   \n",
              "39   britain  forty percent of children live in po...   \n",
              "\n",
              "                                                    8  \\\n",
              "37    sources  man blamed for bhutto killing is dead    \n",
              "38     uk university probes  nazi  initiation video     \n",
              "39   how they see us  a dangerous juncture in afgh...   \n",
              "\n",
              "                                                    9  ...  \\\n",
              "37    in bolivia  we nationalized for the people t...  ...   \n",
              "38                      the atlas of the real world    ...   \n",
              "39   young immigrant females age         now requi...  ...   \n",
              "\n",
              "                                                   15  \\\n",
              "37   cost of massive unemployment in iraq could be...   \n",
              "38             us approves indian nuclear trade deal    \n",
              "39              bangkok sex tycoon runs for governor    \n",
              "\n",
              "                                                   16  \\\n",
              "37       somali pirates deny fatal onboard shoot out    \n",
              "38   retailers need to realign wall street reporti...   \n",
              "39   signs of a pending depression  the economist ...   \n",
              "\n",
              "                                                   17  \\\n",
              "37          hindu pilgrims die in stampede at temple    \n",
              "38   even after war  many georgians revere stalin ...   \n",
              "39               the jewel of medina   out on monday    \n",
              "\n",
              "                                                   18  \\\n",
              "37   mi  secrets found on camera sold on ebay  new...   \n",
              "38   putin accuses ukraine of aiding georgia durin...   \n",
              "39   phallic charms  buffalo amulets at heart of p...   \n",
              "\n",
              "                                                   19  \\\n",
              "37   security analyst warns of rise of organized c...   \n",
              "38   us senate approves indo us nuclear deal  ends...   \n",
              "39   an explosion in the south ossetian capital of...   \n",
              "\n",
              "                                                   20  \\\n",
              "37   for you you to call my god invisible is a cal...   \n",
              "38                      murder capitals of the world    \n",
              "39                   kenya s wild and dangerous west    \n",
              "\n",
              "                                                   21  \\\n",
              "37   a palestinian    years  kept their children i...   \n",
              "38              russia to deploy new nuclear missile    \n",
              "39   the forgotten wars  less than    of people kn...   \n",
              "\n",
              "                                                   22  \\\n",
              "37   pakistani taliban leader dead or dying   bait...   \n",
              "38   capturing the database state  community photo...   \n",
              "39     israeli settlers turn on their own soldiers      \n",
              "\n",
              "                                                   23  \\\n",
              "37      canada   cbc national news covers      truth    \n",
              "38   life in zimbabwe      a teachers monthly pay ...   \n",
              "39   development doesn t require big government po...   \n",
              "\n",
              "                                                   24  \n",
              "37      dusty foggo gets green light for green badge   \n",
              "38   a canadian explains why the american election...  \n",
              "39   the bailing out continues in europe  belgium ...  \n",
              "\n",
              "[3 rows x 25 columns]"
            ],
            "text/html": [
              "\n",
              "  <div id=\"df-9eb82559-9279-4f02-b4e8-e4fa1600ac18\" class=\"colab-df-container\">\n",
              "    <div>\n",
              "<style scoped>\n",
              "    .dataframe tbody tr th:only-of-type {\n",
              "        vertical-align: middle;\n",
              "    }\n",
              "\n",
              "    .dataframe tbody tr th {\n",
              "        vertical-align: top;\n",
              "    }\n",
              "\n",
              "    .dataframe thead th {\n",
              "        text-align: right;\n",
              "    }\n",
              "</style>\n",
              "<table border=\"1\" class=\"dataframe\">\n",
              "  <thead>\n",
              "    <tr style=\"text-align: right;\">\n",
              "      <th></th>\n",
              "      <th>0</th>\n",
              "      <th>1</th>\n",
              "      <th>2</th>\n",
              "      <th>3</th>\n",
              "      <th>4</th>\n",
              "      <th>5</th>\n",
              "      <th>6</th>\n",
              "      <th>7</th>\n",
              "      <th>8</th>\n",
              "      <th>9</th>\n",
              "      <th>...</th>\n",
              "      <th>15</th>\n",
              "      <th>16</th>\n",
              "      <th>17</th>\n",
              "      <th>18</th>\n",
              "      <th>19</th>\n",
              "      <th>20</th>\n",
              "      <th>21</th>\n",
              "      <th>22</th>\n",
              "      <th>23</th>\n",
              "      <th>24</th>\n",
              "    </tr>\n",
              "  </thead>\n",
              "  <tbody>\n",
              "    <tr>\n",
              "      <th>37</th>\n",
              "      <td>fucking hell     it  s fucking great britain...</td>\n",
              "      <td>brian haw  britains most loved peace proteste...</td>\n",
              "      <td>suicidal teenager urged to jump by crowd  so ...</td>\n",
              "      <td>british envoy says mission in afghanistan is ...</td>\n",
              "      <td>more blowback   the u s  backed ethiopian mil...</td>\n",
              "      <td>the atlas of the real world</td>\n",
              "      <td>should germany prosecute holocaust deniers li...</td>\n",
              "      <td>us navy happy to extend blockade of pirate ship</td>\n",
              "      <td>sources  man blamed for bhutto killing is dead</td>\n",
              "      <td>in bolivia  we nationalized for the people t...</td>\n",
              "      <td>...</td>\n",
              "      <td>cost of massive unemployment in iraq could be...</td>\n",
              "      <td>somali pirates deny fatal onboard shoot out</td>\n",
              "      <td>hindu pilgrims die in stampede at temple</td>\n",
              "      <td>mi  secrets found on camera sold on ebay  new...</td>\n",
              "      <td>security analyst warns of rise of organized c...</td>\n",
              "      <td>for you you to call my god invisible is a cal...</td>\n",
              "      <td>a palestinian    years  kept their children i...</td>\n",
              "      <td>pakistani taliban leader dead or dying   bait...</td>\n",
              "      <td>canada   cbc national news covers      truth</td>\n",
              "      <td>dusty foggo gets green light for green badge</td>\n",
              "    </tr>\n",
              "    <tr>\n",
              "      <th>38</th>\n",
              "      <td>mexican farm leader dies after lighting himse...</td>\n",
              "      <td>surveillance of skype messages found in china</td>\n",
              "      <td>russia   us economic dominance over   world n...</td>\n",
              "      <td>hundreds join  settler violence</td>\n",
              "      <td>after a few cryptic reports in the european m...</td>\n",
              "      <td>the united nations is raising its security le...</td>\n",
              "      <td>amid the chaos on wall street  the question l...</td>\n",
              "      <td>alternative to german bank crisis  the transf...</td>\n",
              "      <td>uk university probes  nazi  initiation video</td>\n",
              "      <td>the atlas of the real world</td>\n",
              "      <td>...</td>\n",
              "      <td>us approves indian nuclear trade deal</td>\n",
              "      <td>retailers need to realign wall street reporti...</td>\n",
              "      <td>even after war  many georgians revere stalin ...</td>\n",
              "      <td>putin accuses ukraine of aiding georgia durin...</td>\n",
              "      <td>us senate approves indo us nuclear deal  ends...</td>\n",
              "      <td>murder capitals of the world</td>\n",
              "      <td>russia to deploy new nuclear missile</td>\n",
              "      <td>capturing the database state  community photo...</td>\n",
              "      <td>life in zimbabwe      a teachers monthly pay ...</td>\n",
              "      <td>a canadian explains why the american election...</td>\n",
              "    </tr>\n",
              "    <tr>\n",
              "      <th>39</th>\n",
              "      <td>us strikes  kill    in pakistan</td>\n",
              "      <td>a script written by the bbc and the governmen...</td>\n",
              "      <td>jewish settlers trying to stop olive harvest ...</td>\n",
              "      <td>medvedev   the u s  financial crisis should b...</td>\n",
              "      <td>cokie roberts once again proves she doesn t b...</td>\n",
              "      <td>how symbolic that chinese astronauts take a ...</td>\n",
              "      <td>life in somalia s pirate town</td>\n",
              "      <td>britain  forty percent of children live in po...</td>\n",
              "      <td>how they see us  a dangerous juncture in afgh...</td>\n",
              "      <td>young immigrant females age         now requi...</td>\n",
              "      <td>...</td>\n",
              "      <td>bangkok sex tycoon runs for governor</td>\n",
              "      <td>signs of a pending depression  the economist ...</td>\n",
              "      <td>the jewel of medina   out on monday</td>\n",
              "      <td>phallic charms  buffalo amulets at heart of p...</td>\n",
              "      <td>an explosion in the south ossetian capital of...</td>\n",
              "      <td>kenya s wild and dangerous west</td>\n",
              "      <td>the forgotten wars  less than    of people kn...</td>\n",
              "      <td>israeli settlers turn on their own soldiers</td>\n",
              "      <td>development doesn t require big government po...</td>\n",
              "      <td>the bailing out continues in europe  belgium ...</td>\n",
              "    </tr>\n",
              "  </tbody>\n",
              "</table>\n",
              "<p>3 rows × 25 columns</p>\n",
              "</div>\n",
              "    <div class=\"colab-df-buttons\">\n",
              "\n",
              "  <div class=\"colab-df-container\">\n",
              "    <button class=\"colab-df-convert\" onclick=\"convertToInteractive('df-9eb82559-9279-4f02-b4e8-e4fa1600ac18')\"\n",
              "            title=\"Convert this dataframe to an interactive table.\"\n",
              "            style=\"display:none;\">\n",
              "\n",
              "  <svg xmlns=\"http://www.w3.org/2000/svg\" height=\"24px\" viewBox=\"0 -960 960 960\">\n",
              "    <path d=\"M120-120v-720h720v720H120Zm60-500h600v-160H180v160Zm220 220h160v-160H400v160Zm0 220h160v-160H400v160ZM180-400h160v-160H180v160Zm440 0h160v-160H620v160ZM180-180h160v-160H180v160Zm440 0h160v-160H620v160Z\"/>\n",
              "  </svg>\n",
              "    </button>\n",
              "\n",
              "  <style>\n",
              "    .colab-df-container {\n",
              "      display:flex;\n",
              "      gap: 12px;\n",
              "    }\n",
              "\n",
              "    .colab-df-convert {\n",
              "      background-color: #E8F0FE;\n",
              "      border: none;\n",
              "      border-radius: 50%;\n",
              "      cursor: pointer;\n",
              "      display: none;\n",
              "      fill: #1967D2;\n",
              "      height: 32px;\n",
              "      padding: 0 0 0 0;\n",
              "      width: 32px;\n",
              "    }\n",
              "\n",
              "    .colab-df-convert:hover {\n",
              "      background-color: #E2EBFA;\n",
              "      box-shadow: 0px 1px 2px rgba(60, 64, 67, 0.3), 0px 1px 3px 1px rgba(60, 64, 67, 0.15);\n",
              "      fill: #174EA6;\n",
              "    }\n",
              "\n",
              "    .colab-df-buttons div {\n",
              "      margin-bottom: 4px;\n",
              "    }\n",
              "\n",
              "    [theme=dark] .colab-df-convert {\n",
              "      background-color: #3B4455;\n",
              "      fill: #D2E3FC;\n",
              "    }\n",
              "\n",
              "    [theme=dark] .colab-df-convert:hover {\n",
              "      background-color: #434B5C;\n",
              "      box-shadow: 0px 1px 3px 1px rgba(0, 0, 0, 0.15);\n",
              "      filter: drop-shadow(0px 1px 2px rgba(0, 0, 0, 0.3));\n",
              "      fill: #FFFFFF;\n",
              "    }\n",
              "  </style>\n",
              "\n",
              "    <script>\n",
              "      const buttonEl =\n",
              "        document.querySelector('#df-9eb82559-9279-4f02-b4e8-e4fa1600ac18 button.colab-df-convert');\n",
              "      buttonEl.style.display =\n",
              "        google.colab.kernel.accessAllowed ? 'block' : 'none';\n",
              "\n",
              "      async function convertToInteractive(key) {\n",
              "        const element = document.querySelector('#df-9eb82559-9279-4f02-b4e8-e4fa1600ac18');\n",
              "        const dataTable =\n",
              "          await google.colab.kernel.invokeFunction('convertToInteractive',\n",
              "                                                    [key], {});\n",
              "        if (!dataTable) return;\n",
              "\n",
              "        const docLinkHtml = 'Like what you see? Visit the ' +\n",
              "          '<a target=\"_blank\" href=https://colab.research.google.com/notebooks/data_table.ipynb>data table notebook</a>'\n",
              "          + ' to learn more about interactive tables.';\n",
              "        element.innerHTML = '';\n",
              "        dataTable['output_type'] = 'display_data';\n",
              "        await google.colab.output.renderOutput(dataTable, element);\n",
              "        const docLink = document.createElement('div');\n",
              "        docLink.innerHTML = docLinkHtml;\n",
              "        element.appendChild(docLink);\n",
              "      }\n",
              "    </script>\n",
              "  </div>\n",
              "\n",
              "\n",
              "<div id=\"df-f17ac6dd-112f-4414-ab38-7b394d2f3ab9\">\n",
              "  <button class=\"colab-df-quickchart\" onclick=\"quickchart('df-f17ac6dd-112f-4414-ab38-7b394d2f3ab9')\"\n",
              "            title=\"Suggest charts\"\n",
              "            style=\"display:none;\">\n",
              "\n",
              "<svg xmlns=\"http://www.w3.org/2000/svg\" height=\"24px\"viewBox=\"0 0 24 24\"\n",
              "     width=\"24px\">\n",
              "    <g>\n",
              "        <path d=\"M19 3H5c-1.1 0-2 .9-2 2v14c0 1.1.9 2 2 2h14c1.1 0 2-.9 2-2V5c0-1.1-.9-2-2-2zM9 17H7v-7h2v7zm4 0h-2V7h2v10zm4 0h-2v-4h2v4z\"/>\n",
              "    </g>\n",
              "</svg>\n",
              "  </button>\n",
              "\n",
              "<style>\n",
              "  .colab-df-quickchart {\n",
              "      --bg-color: #E8F0FE;\n",
              "      --fill-color: #1967D2;\n",
              "      --hover-bg-color: #E2EBFA;\n",
              "      --hover-fill-color: #174EA6;\n",
              "      --disabled-fill-color: #AAA;\n",
              "      --disabled-bg-color: #DDD;\n",
              "  }\n",
              "\n",
              "  [theme=dark] .colab-df-quickchart {\n",
              "      --bg-color: #3B4455;\n",
              "      --fill-color: #D2E3FC;\n",
              "      --hover-bg-color: #434B5C;\n",
              "      --hover-fill-color: #FFFFFF;\n",
              "      --disabled-bg-color: #3B4455;\n",
              "      --disabled-fill-color: #666;\n",
              "  }\n",
              "\n",
              "  .colab-df-quickchart {\n",
              "    background-color: var(--bg-color);\n",
              "    border: none;\n",
              "    border-radius: 50%;\n",
              "    cursor: pointer;\n",
              "    display: none;\n",
              "    fill: var(--fill-color);\n",
              "    height: 32px;\n",
              "    padding: 0;\n",
              "    width: 32px;\n",
              "  }\n",
              "\n",
              "  .colab-df-quickchart:hover {\n",
              "    background-color: var(--hover-bg-color);\n",
              "    box-shadow: 0 1px 2px rgba(60, 64, 67, 0.3), 0 1px 3px 1px rgba(60, 64, 67, 0.15);\n",
              "    fill: var(--button-hover-fill-color);\n",
              "  }\n",
              "\n",
              "  .colab-df-quickchart-complete:disabled,\n",
              "  .colab-df-quickchart-complete:disabled:hover {\n",
              "    background-color: var(--disabled-bg-color);\n",
              "    fill: var(--disabled-fill-color);\n",
              "    box-shadow: none;\n",
              "  }\n",
              "\n",
              "  .colab-df-spinner {\n",
              "    border: 2px solid var(--fill-color);\n",
              "    border-color: transparent;\n",
              "    border-bottom-color: var(--fill-color);\n",
              "    animation:\n",
              "      spin 1s steps(1) infinite;\n",
              "  }\n",
              "\n",
              "  @keyframes spin {\n",
              "    0% {\n",
              "      border-color: transparent;\n",
              "      border-bottom-color: var(--fill-color);\n",
              "      border-left-color: var(--fill-color);\n",
              "    }\n",
              "    20% {\n",
              "      border-color: transparent;\n",
              "      border-left-color: var(--fill-color);\n",
              "      border-top-color: var(--fill-color);\n",
              "    }\n",
              "    30% {\n",
              "      border-color: transparent;\n",
              "      border-left-color: var(--fill-color);\n",
              "      border-top-color: var(--fill-color);\n",
              "      border-right-color: var(--fill-color);\n",
              "    }\n",
              "    40% {\n",
              "      border-color: transparent;\n",
              "      border-right-color: var(--fill-color);\n",
              "      border-top-color: var(--fill-color);\n",
              "    }\n",
              "    60% {\n",
              "      border-color: transparent;\n",
              "      border-right-color: var(--fill-color);\n",
              "    }\n",
              "    80% {\n",
              "      border-color: transparent;\n",
              "      border-right-color: var(--fill-color);\n",
              "      border-bottom-color: var(--fill-color);\n",
              "    }\n",
              "    90% {\n",
              "      border-color: transparent;\n",
              "      border-bottom-color: var(--fill-color);\n",
              "    }\n",
              "  }\n",
              "</style>\n",
              "\n",
              "  <script>\n",
              "    async function quickchart(key) {\n",
              "      const quickchartButtonEl =\n",
              "        document.querySelector('#' + key + ' button');\n",
              "      quickchartButtonEl.disabled = true;  // To prevent multiple clicks.\n",
              "      quickchartButtonEl.classList.add('colab-df-spinner');\n",
              "      try {\n",
              "        const charts = await google.colab.kernel.invokeFunction(\n",
              "            'suggestCharts', [key], {});\n",
              "      } catch (error) {\n",
              "        console.error('Error during call to suggestCharts:', error);\n",
              "      }\n",
              "      quickchartButtonEl.classList.remove('colab-df-spinner');\n",
              "      quickchartButtonEl.classList.add('colab-df-quickchart-complete');\n",
              "    }\n",
              "    (() => {\n",
              "      let quickchartButtonEl =\n",
              "        document.querySelector('#df-f17ac6dd-112f-4414-ab38-7b394d2f3ab9 button');\n",
              "      quickchartButtonEl.style.display =\n",
              "        google.colab.kernel.accessAllowed ? 'block' : 'none';\n",
              "    })();\n",
              "  </script>\n",
              "</div>\n",
              "    </div>\n",
              "  </div>\n"
            ]
          },
          "metadata": {},
          "execution_count": 11
        }
      ],
      "source": [
        "# Mengubah judul berita menjadi huruf kecil\n",
        "for index in new_Index:\n",
        "    data_train[index] = data_train[index].str.lower()\n",
        "\n",
        "# Menghapus unicode dalam teks: \"b ...\"\n",
        "data_train.replace(\"b \", \" \", regex=True, inplace=True)\n",
        "\n",
        "data_train.head(3)"
      ]
    },
    {
      "cell_type": "code",
      "execution_count": 12,
      "id": "7a8da1fb",
      "metadata": {
        "execution": {
          "iopub.execute_input": "2022-08-05T17:41:17.957648Z",
          "iopub.status.busy": "2022-08-05T17:41:17.956791Z",
          "iopub.status.idle": "2022-08-05T17:41:18.200149Z",
          "shell.execute_reply": "2022-08-05T17:41:18.199008Z"
        },
        "papermill": {
          "duration": 0.257019,
          "end_time": "2022-08-05T17:41:18.201848",
          "exception": false,
          "start_time": "2022-08-05T17:41:17.944829",
          "status": "completed"
        },
        "tags": [],
        "colab": {
          "base_uri": "https://localhost:8080/",
          "height": 192
        },
        "id": "7a8da1fb",
        "outputId": "2d076149-998f-4c61-b9e0-28dbee635dc1"
      },
      "outputs": [
        {
          "output_type": "execute_result",
          "data": {
            "text/plain": [
              "' suicidal teenager urged to jump by crowd  so he did   british envoy says mission in afghanistan is doomed  according to leaked memo    more blowback   the u s  backed ethiopian military has secreted away scores of  suspects     including pregnant women and children    and fueled anti american rancor in africa    the atlas of the real world   should germany prosecute holocaust deniers like gerald toben   should england extradite them    us navy happy to extend blockade of pirate ship   sources  man blamed for bhutto killing is dead    in bolivia  we nationalized for the people to have money  while the united states wants to nationalize debt and a crisis of the wealthy     the new democratic party  ndp  of canada is standing by candidate bev collins over beliefs about the sept            attacks    voter turnout  a global survey    somalia  world can use force against the pirates  things are going to get interesting       after being accused of flirting with sarah palin  fatwah is issued against pakistani prime minister for  indecent behavior for a muslim     trio of warlords blamed for surge in afghanistan violence   cost of massive unemployment in iraq could be paid in blood   somali pirates deny fatal onboard shoot out       hindu pilgrims die in stampede at temple   mi  secrets found on camera sold on ebay  newspaper says info includes names  school records of al qaida suspects   security analyst warns of rise of organized crime in zimbabwe part   of     for you you to call my god invisible is a call for action   my country will wipe you and your kind from this earth very soon  islam is a foolish cult  america hates you and will see you destroyed    a palestinian    years  kept their children in the basement   pakistani taliban leader dead or dying   baitullah mehsud very ill  officials say group scrambling for new leaders  taliban says he s getting better   canada   cbc national news covers      truth   dusty foggo gets green light for green badge '"
            ],
            "application/vnd.google.colaboratory.intrinsic+json": {
              "type": "string"
            }
          },
          "metadata": {},
          "execution_count": 12
        }
      ],
      "source": [
        "# Menggabungkan frasa dari top1 hingga top25\n",
        "train_final = []\n",
        "for row in range(0, len(data_train.index)):\n",
        "    train_final.append(' '.join(str(x) for x in data_train.iloc[row, 2:26]))\n",
        "\n",
        "train_final[0]"
      ]
    },
    {
      "cell_type": "code",
      "execution_count": 13,
      "id": "5fd19fc6",
      "metadata": {
        "execution": {
          "iopub.execute_input": "2022-08-05T17:41:18.224825Z",
          "iopub.status.busy": "2022-08-05T17:41:18.224261Z",
          "iopub.status.idle": "2022-08-05T17:41:18.366933Z",
          "shell.execute_reply": "2022-08-05T17:41:18.366007Z"
        },
        "papermill": {
          "duration": 0.156114,
          "end_time": "2022-08-05T17:41:18.368924",
          "exception": false,
          "start_time": "2022-08-05T17:41:18.212810",
          "status": "completed"
        },
        "tags": [],
        "colab": {
          "base_uri": "https://localhost:8080/",
          "height": 192
        },
        "id": "5fd19fc6",
        "outputId": "bd6df000-1470-4987-abdb-443887973fc8"
      },
      "outputs": [
        {
          "output_type": "execute_result",
          "data": {
            "text/plain": [
              "' georgia  downs two russian warplanes  as countries move to brink of war   breaking  musharraf to be impeached    russia today  columns of troops roll into south ossetia  footage from fighting  youtube    russian tanks are moving towards the capital of south ossetia  which has reportedly been completely destroyed by georgian artillery fire   afghan children raped with  impunity   u n  official says   this is sick  a three year old was raped and they do nothing       russian tanks have entered south ossetia whilst georgia shoots down two russian jets    breaking  georgia invades south ossetia  russia warned it would intervene on so s side   the  enemy combatent  trials are nothing but a sham  salim haman has been sentenced to       years  but will be kept longer anyway just because they feel like it    georgian troops retreat from s  osettain capital  presumably leaving several hundred people killed   video    did the u s  prep georgia for war with russia    rice gives green light for israel to attack iran  says u s  has no veto over israeli military ops   announcing class action lawsuit on behalf of american public against the fbi   so   russia and georgia are at war and the nyt s top story is opening ceremonies of the olympics   what a fucking disgrace and yet further proof of the decline of journalism    china tells bush to stay out of other countries  affairs   did world war iii start today    georgia invades south ossetia   if russia gets involved  will nato absor georgia and unleash a full scale war    al qaeda faces islamist backlash   condoleezza rice   the us would not act to prevent an israeli strike on iran   israeli defense minister ehud barak   israel is prepared for uncompromising victory in the case of military hostilities     this is a busy day   the european union has approved new sanctions against iran in protest at its nuclear programme    georgia will withdraw       soldiers from iraq to help fight off russian forces in georgia s breakaway region of south ossetia   why the pentagon thinks attacking iran is a bad idea   us news  amp  world report   caucasus in crisis  georgia invades south ossetia   indian shoe manufactory    and again in a series of  you do not like your work     visitors suffering from mental illnesses banned from olympics   no help for mexico s kidnapping surge '"
            ],
            "application/vnd.google.colaboratory.intrinsic+json": {
              "type": "string"
            }
          },
          "metadata": {},
          "execution_count": 13
        }
      ],
      "source": [
        "# Melakukan perlakuan yang sama untuk data uji\n",
        "\n",
        "# Menghapus karakter khusus\n",
        "data_test = test.iloc[:, 2:27]\n",
        "data_test.replace(\"[^a-zA-Z]\", \" \", regex=True, inplace=True)\n",
        "\n",
        "# Mengubah judul berita menjadi huruf kecil\n",
        "data_test.columns = new_Index\n",
        "for index in new_Index:\n",
        "    data_test[index] = data_test[index].str.lower()\n",
        "\n",
        "# Menghapus unicode dalam teks: \"b ...\"\n",
        "data_test.replace(\"b \", \" \", regex=True, inplace=True)\n",
        "\n",
        "# Menggabungkan frasa dari top1 hingga top25\n",
        "test_final = []\n",
        "for row in range(0, len(data_test.index)):\n",
        "    test_final.append(' '.join(str(x) for x in data_test.iloc[row, 0:25]))\n",
        "\n",
        "test_final[0]"
      ]
    },
    {
      "cell_type": "markdown",
      "id": "843947a2",
      "metadata": {
        "papermill": {
          "duration": 0.0109,
          "end_time": "2022-08-05T17:41:18.391109",
          "exception": false,
          "start_time": "2022-08-05T17:41:18.380209",
          "status": "completed"
        },
        "tags": [],
        "id": "843947a2"
      },
      "source": [
        "**<h2>CountVectorizer**"
      ]
    },
    {
      "cell_type": "markdown",
      "id": "6c7c6fcc",
      "metadata": {
        "papermill": {
          "duration": 0.011024,
          "end_time": "2022-08-05T17:41:18.413219",
          "exception": false,
          "start_time": "2022-08-05T17:41:18.402195",
          "status": "completed"
        },
        "tags": [],
        "id": "6c7c6fcc"
      },
      "source": [
        "'CountVectorizer' adalah algoritma pemrosesan teks yang digunakan untuk mengonversi kata-kata ke dalam bentuk numerik dan juga menghitung frekuensi kemunculan kata-kata dalam sebuah set teks.\n",
        "\n",
        "Secara sederhana, algoritma ini menggambarkan setiap kata sebagai kolom dalam sebuah vektor, dan jumlah berapa kali kata tersebut muncul dalam set teks adalah nilai yang diberikan untuk vektor tersebut."
      ]
    },
    {
      "cell_type": "markdown",
      "id": "317b18f7",
      "metadata": {
        "papermill": {
          "duration": 0.01075,
          "end_time": "2022-08-05T17:41:18.435038",
          "exception": false,
          "start_time": "2022-08-05T17:41:18.424288",
          "status": "completed"
        },
        "tags": [],
        "id": "317b18f7"
      },
      "source": [
        "**<h2>Naive Bayes Model**"
      ]
    },
    {
      "cell_type": "markdown",
      "id": "023fad53",
      "metadata": {
        "papermill": {
          "duration": 0.010841,
          "end_time": "2022-08-05T17:41:18.457484",
          "exception": false,
          "start_time": "2022-08-05T17:41:18.446643",
          "status": "completed"
        },
        "tags": [],
        "id": "023fad53"
      },
      "source": [
        "Algoritma Naive Bayes adalah sebuah klasifikasi yang didasarkan pada probabilitas masing-masing kejadian terjadi, tanpa memperhatikan korelasi antara fitur-fitur yang dianalisis.\n",
        "\n",
        "Karena memiliki bagian matematika yang relatif sederhana, algoritma ini memiliki kinerja yang baik dan membutuhkan sedikit observasi untuk mencapai akurasi yang baik, sehingga banyak digunakan dalam fitur-fitur kategoris dan dalam pemrosesan kata karena memberikan relevansi yang sama untuk setiap fitur yang dianalisis."
      ]
    },
    {
      "cell_type": "code",
      "execution_count": 14,
      "id": "80f9ba51",
      "metadata": {
        "execution": {
          "iopub.execute_input": "2022-08-05T17:41:18.480677Z",
          "iopub.status.busy": "2022-08-05T17:41:18.480355Z",
          "iopub.status.idle": "2022-08-05T17:41:19.025281Z",
          "shell.execute_reply": "2022-08-05T17:41:19.024347Z"
        },
        "papermill": {
          "duration": 0.559277,
          "end_time": "2022-08-05T17:41:19.027766",
          "exception": false,
          "start_time": "2022-08-05T17:41:18.468489",
          "status": "completed"
        },
        "tags": [],
        "id": "80f9ba51"
      },
      "outputs": [],
      "source": [
        "# Implementasi Count Vectorizer\n",
        "countvec = CountVectorizer()\n",
        "traindataset = countvec.fit_transform(train_final)"
      ]
    },
    {
      "cell_type": "code",
      "execution_count": 15,
      "id": "864505c2",
      "metadata": {
        "execution": {
          "iopub.execute_input": "2022-08-05T17:41:19.051288Z",
          "iopub.status.busy": "2022-08-05T17:41:19.050734Z",
          "iopub.status.idle": "2022-08-05T17:41:19.064719Z",
          "shell.execute_reply": "2022-08-05T17:41:19.064009Z"
        },
        "papermill": {
          "duration": 0.027563,
          "end_time": "2022-08-05T17:41:19.066476",
          "exception": false,
          "start_time": "2022-08-05T17:41:19.038913",
          "status": "completed"
        },
        "tags": [],
        "colab": {
          "base_uri": "https://localhost:8080/",
          "height": 74
        },
        "id": "864505c2",
        "outputId": "0aefa547-35b6-4dc8-c6fa-ebbebd62e074"
      },
      "outputs": [
        {
          "output_type": "execute_result",
          "data": {
            "text/plain": [
              "MultinomialNB()"
            ],
            "text/html": [
              "<style>#sk-container-id-1 {color: black;background-color: white;}#sk-container-id-1 pre{padding: 0;}#sk-container-id-1 div.sk-toggleable {background-color: white;}#sk-container-id-1 label.sk-toggleable__label {cursor: pointer;display: block;width: 100%;margin-bottom: 0;padding: 0.3em;box-sizing: border-box;text-align: center;}#sk-container-id-1 label.sk-toggleable__label-arrow:before {content: \"▸\";float: left;margin-right: 0.25em;color: #696969;}#sk-container-id-1 label.sk-toggleable__label-arrow:hover:before {color: black;}#sk-container-id-1 div.sk-estimator:hover label.sk-toggleable__label-arrow:before {color: black;}#sk-container-id-1 div.sk-toggleable__content {max-height: 0;max-width: 0;overflow: hidden;text-align: left;background-color: #f0f8ff;}#sk-container-id-1 div.sk-toggleable__content pre {margin: 0.2em;color: black;border-radius: 0.25em;background-color: #f0f8ff;}#sk-container-id-1 input.sk-toggleable__control:checked~div.sk-toggleable__content {max-height: 200px;max-width: 100%;overflow: auto;}#sk-container-id-1 input.sk-toggleable__control:checked~label.sk-toggleable__label-arrow:before {content: \"▾\";}#sk-container-id-1 div.sk-estimator input.sk-toggleable__control:checked~label.sk-toggleable__label {background-color: #d4ebff;}#sk-container-id-1 div.sk-label input.sk-toggleable__control:checked~label.sk-toggleable__label {background-color: #d4ebff;}#sk-container-id-1 input.sk-hidden--visually {border: 0;clip: rect(1px 1px 1px 1px);clip: rect(1px, 1px, 1px, 1px);height: 1px;margin: -1px;overflow: hidden;padding: 0;position: absolute;width: 1px;}#sk-container-id-1 div.sk-estimator {font-family: monospace;background-color: #f0f8ff;border: 1px dotted black;border-radius: 0.25em;box-sizing: border-box;margin-bottom: 0.5em;}#sk-container-id-1 div.sk-estimator:hover {background-color: #d4ebff;}#sk-container-id-1 div.sk-parallel-item::after {content: \"\";width: 100%;border-bottom: 1px solid gray;flex-grow: 1;}#sk-container-id-1 div.sk-label:hover label.sk-toggleable__label {background-color: #d4ebff;}#sk-container-id-1 div.sk-serial::before {content: \"\";position: absolute;border-left: 1px solid gray;box-sizing: border-box;top: 0;bottom: 0;left: 50%;z-index: 0;}#sk-container-id-1 div.sk-serial {display: flex;flex-direction: column;align-items: center;background-color: white;padding-right: 0.2em;padding-left: 0.2em;position: relative;}#sk-container-id-1 div.sk-item {position: relative;z-index: 1;}#sk-container-id-1 div.sk-parallel {display: flex;align-items: stretch;justify-content: center;background-color: white;position: relative;}#sk-container-id-1 div.sk-item::before, #sk-container-id-1 div.sk-parallel-item::before {content: \"\";position: absolute;border-left: 1px solid gray;box-sizing: border-box;top: 0;bottom: 0;left: 50%;z-index: -1;}#sk-container-id-1 div.sk-parallel-item {display: flex;flex-direction: column;z-index: 1;position: relative;background-color: white;}#sk-container-id-1 div.sk-parallel-item:first-child::after {align-self: flex-end;width: 50%;}#sk-container-id-1 div.sk-parallel-item:last-child::after {align-self: flex-start;width: 50%;}#sk-container-id-1 div.sk-parallel-item:only-child::after {width: 0;}#sk-container-id-1 div.sk-dashed-wrapped {border: 1px dashed gray;margin: 0 0.4em 0.5em 0.4em;box-sizing: border-box;padding-bottom: 0.4em;background-color: white;}#sk-container-id-1 div.sk-label label {font-family: monospace;font-weight: bold;display: inline-block;line-height: 1.2em;}#sk-container-id-1 div.sk-label-container {text-align: center;}#sk-container-id-1 div.sk-container {/* jupyter's `normalize.less` sets `[hidden] { display: none; }` but bootstrap.min.css set `[hidden] { display: none !important; }` so we also need the `!important` here to be able to override the default hidden behavior on the sphinx rendered scikit-learn.org. See: https://github.com/scikit-learn/scikit-learn/issues/21755 */display: inline-block !important;position: relative;}#sk-container-id-1 div.sk-text-repr-fallback {display: none;}</style><div id=\"sk-container-id-1\" class=\"sk-top-container\"><div class=\"sk-text-repr-fallback\"><pre>MultinomialNB()</pre><b>In a Jupyter environment, please rerun this cell to show the HTML representation or trust the notebook. <br />On GitHub, the HTML representation is unable to render, please try loading this page with nbviewer.org.</b></div><div class=\"sk-container\" hidden><div class=\"sk-item\"><div class=\"sk-estimator sk-toggleable\"><input class=\"sk-toggleable__control sk-hidden--visually\" id=\"sk-estimator-id-1\" type=\"checkbox\" checked><label for=\"sk-estimator-id-1\" class=\"sk-toggleable__label sk-toggleable__label-arrow\">MultinomialNB</label><div class=\"sk-toggleable__content\"><pre>MultinomialNB()</pre></div></div></div></div></div>"
            ]
          },
          "metadata": {},
          "execution_count": 15
        }
      ],
      "source": [
        "# Implementasi Naive Bayes\n",
        "NB_model = MultinomialNB()\n",
        "NB_model.fit(traindataset, train['Label'])"
      ]
    },
    {
      "cell_type": "code",
      "execution_count": 16,
      "id": "fd29dd16",
      "metadata": {
        "execution": {
          "iopub.execute_input": "2022-08-05T17:41:19.090168Z",
          "iopub.status.busy": "2022-08-05T17:41:19.089517Z",
          "iopub.status.idle": "2022-08-05T17:41:19.201517Z",
          "shell.execute_reply": "2022-08-05T17:41:19.200826Z"
        },
        "papermill": {
          "duration": 0.12586,
          "end_time": "2022-08-05T17:41:19.203534",
          "exception": false,
          "start_time": "2022-08-05T17:41:19.077674",
          "status": "completed"
        },
        "tags": [],
        "id": "fd29dd16"
      },
      "outputs": [],
      "source": [
        "# Melakukan prediksi dengan data uji\n",
        "testdataset = countvec.transform(test_final)\n",
        "predictions = NB_model.predict(testdataset)"
      ]
    },
    {
      "cell_type": "code",
      "execution_count": 17,
      "id": "b25acdef",
      "metadata": {
        "execution": {
          "iopub.execute_input": "2022-08-05T17:41:19.229123Z",
          "iopub.status.busy": "2022-08-05T17:41:19.227766Z",
          "iopub.status.idle": "2022-08-05T17:41:19.241032Z",
          "shell.execute_reply": "2022-08-05T17:41:19.239315Z"
        },
        "papermill": {
          "duration": 0.028334,
          "end_time": "2022-08-05T17:41:19.243566",
          "exception": false,
          "start_time": "2022-08-05T17:41:19.215232",
          "status": "completed"
        },
        "tags": [],
        "colab": {
          "base_uri": "https://localhost:8080/"
        },
        "id": "b25acdef",
        "outputId": "768181e9-9af7-4e65-e960-3c0a59e9ed98"
      },
      "outputs": [
        {
          "output_type": "stream",
          "name": "stdout",
          "text": [
            "[[139 399]\n",
            " [202 424]]\n",
            "0.4836769759450172\n",
            "              precision    recall  f1-score   support\n",
            "\n",
            "           0       0.41      0.26      0.32       538\n",
            "           1       0.52      0.68      0.59       626\n",
            "\n",
            "    accuracy                           0.48      1164\n",
            "   macro avg       0.46      0.47      0.45      1164\n",
            "weighted avg       0.47      0.48      0.46      1164\n",
            "\n"
          ]
        }
      ],
      "source": [
        "# Mengevaluasi model\n",
        "matrix = confusion_matrix(test['Label'], predictions)\n",
        "print(matrix)\n",
        "score = accuracy_score(test['Label'], predictions)\n",
        "print(score)\n",
        "report = classification_report(test['Label'], predictions)\n",
        "print(report)"
      ]
    },
    {
      "cell_type": "code",
      "source": [
        "import matplotlib.pyplot as plt\n",
        "import seaborn as sns\n",
        "\n",
        "# Memplot matriks\n",
        "plt.figure(figsize=(8,6))\n",
        "sns.heatmap(matrix, annot=True, cmap='Blues', fmt='g')\n",
        "plt.xlabel('Predicted labels')\n",
        "plt.ylabel('True labels')\n",
        "plt.title('Confusion Matrix')\n",
        "plt.show()"
      ],
      "metadata": {
        "colab": {
          "base_uri": "https://localhost:8080/",
          "height": 564
        },
        "id": "s6MaiGkEs41R",
        "outputId": "75fc7448-9867-48fa-c507-28990a0424b8"
      },
      "id": "s6MaiGkEs41R",
      "execution_count": 18,
      "outputs": [
        {
          "output_type": "display_data",
          "data": {
            "text/plain": [
              "<Figure size 800x600 with 2 Axes>"
            ],
            "image/png": "[encoded data removed]"
          },
          "metadata": {}
        }
      ]
    },
    {
      "cell_type": "markdown",
      "id": "42afe361",
      "metadata": {
        "papermill": {
          "duration": 0.011767,
          "end_time": "2022-08-05T17:41:19.266818",
          "exception": false,
          "start_time": "2022-08-05T17:41:19.255051",
          "status": "completed"
        },
        "tags": [],
        "id": "42afe361"
      },
      "source": [
        "Dengan melihat hasilnya, diperhatikan bahwa kinerja yang baik telah diperoleh, tetapi belum mencapai persyaratan awal yang telah ditetapkan.\n",
        "\n",
        "Salah satu cara untuk mencoba meningkatkan kinerja model ini adalah dengan mengubah algoritma pemrosesan kata yang digunakan, yang dalam kasus ini adalah CountVectorizer, ke jenis lain.\n",
        "\n",
        "Salah satu algoritma pemrosesan kata yang banyak digunakan adalah TF-IDF, dan akan digunakan sebagai alternatif untuk meningkatkan akurasi model."
      ]
    },
    {
      "cell_type": "markdown",
      "id": "63cbbefe",
      "metadata": {
        "papermill": {
          "duration": 0.010603,
          "end_time": "2022-08-05T17:41:19.288576",
          "exception": false,
          "start_time": "2022-08-05T17:41:19.277973",
          "status": "completed"
        },
        "tags": [],
        "id": "63cbbefe"
      },
      "source": [
        "**<h1> TF-IDF**"
      ]
    },
    {
      "cell_type": "markdown",
      "id": "277ea914",
      "metadata": {
        "papermill": {
          "duration": 0.011395,
          "end_time": "2022-08-05T17:41:19.310696",
          "exception": false,
          "start_time": "2022-08-05T17:41:19.299301",
          "status": "completed"
        },
        "tags": [],
        "id": "277ea914"
      },
      "source": [
        "Untuk memahami TF-IDF, dapat dibagi menjadi dua bagian: TF (term frequency) dan IDF (inverse document frequency).\n",
        "\n",
        "Frekuensi Term (TF) bekerja dengan melihat frekuensi dari sebuah term tertentu yang Anda perhatikan dalam dokumen, secara sederhana, ini merepresentasikan berapa kali sebuah kata muncul dalam sebuah dokumen.\n",
        "\n",
        "Inverse document frequency (IDF) mewakili seberapa tidak umum atau umumnya sebuah kata dalam dokumen tersebut. Jadi semakin jarang sebuah kata muncul dalam teks, semakin besar relevansinya atau skornya.\n",
        "\n",
        "Ini adalah algoritma pemrosesan kata yang banyak digunakan dalam situasi di mana kata-kata yang berbeda lebih relevan, seperti dalam kasus ini mungkin bahwa sebuah berita 'baru' tentang kejadian di seluruh dunia sangat memengaruhi pergerakan DJIA yang dianalisis."
      ]
    },
    {
      "cell_type": "code",
      "execution_count": 19,
      "id": "6946fde9",
      "metadata": {
        "execution": {
          "iopub.execute_input": "2022-08-05T17:41:19.334543Z",
          "iopub.status.busy": "2022-08-05T17:41:19.333925Z",
          "iopub.status.idle": "2022-08-05T17:41:20.026435Z",
          "shell.execute_reply": "2022-08-05T17:41:20.025210Z"
        },
        "papermill": {
          "duration": 0.707274,
          "end_time": "2022-08-05T17:41:20.029220",
          "exception": false,
          "start_time": "2022-08-05T17:41:19.321946",
          "status": "completed"
        },
        "tags": [],
        "colab": {
          "base_uri": "https://localhost:8080/"
        },
        "id": "6946fde9",
        "outputId": "4abdfe00-4280-4a19-f47f-698377f00c39"
      },
      "outputs": [
        {
          "output_type": "stream",
          "name": "stdout",
          "text": [
            "[[  0 538]\n",
            " [  0 626]]\n",
            "0.5378006872852233\n",
            "              precision    recall  f1-score   support\n",
            "\n",
            "           0       0.00      0.00      0.00       538\n",
            "           1       0.54      1.00      0.70       626\n",
            "\n",
            "    accuracy                           0.54      1164\n",
            "   macro avg       0.27      0.50      0.35      1164\n",
            "weighted avg       0.29      0.54      0.38      1164\n",
            "\n"
          ]
        },
        {
          "output_type": "stream",
          "name": "stderr",
          "text": [
            "/usr/local/lib/python3.10/dist-packages/sklearn/metrics/_classification.py:1344: UndefinedMetricWarning:\n",
            "\n",
            "Precision and F-score are ill-defined and being set to 0.0 in labels with no predicted samples. Use `zero_division` parameter to control this behavior.\n",
            "\n",
            "/usr/local/lib/python3.10/dist-packages/sklearn/metrics/_classification.py:1344: UndefinedMetricWarning:\n",
            "\n",
            "Precision and F-score are ill-defined and being set to 0.0 in labels with no predicted samples. Use `zero_division` parameter to control this behavior.\n",
            "\n",
            "/usr/local/lib/python3.10/dist-packages/sklearn/metrics/_classification.py:1344: UndefinedMetricWarning:\n",
            "\n",
            "Precision and F-score are ill-defined and being set to 0.0 in labels with no predicted samples. Use `zero_division` parameter to control this behavior.\n",
            "\n"
          ]
        }
      ],
      "source": [
        "# Implementasi TF-IDF Vectorizer\n",
        "tfidfvec = TfidfVectorizer()\n",
        "traindataset = tfidfvec.fit_transform(train_final)\n",
        "\n",
        "# Implementasi Naive Bayes\n",
        "NB_model = MultinomialNB()\n",
        "NB_model.fit(traindataset, train['Label'])\n",
        "\n",
        "testdataset = tfidfvec.transform(test_final)\n",
        "predictions = NB_model.predict(testdataset)\n",
        "\n",
        "matrix = confusion_matrix(test['Label'], predictions)\n",
        "print(matrix)\n",
        "score = accuracy_score(test['Label'], predictions)\n",
        "print(score)\n",
        "report = classification_report(test['Label'], predictions)\n",
        "print(report)"
      ]
    },
    {
      "cell_type": "code",
      "source": [
        "import matplotlib.pyplot as plt\n",
        "import seaborn as sns\n",
        "\n",
        "# Plot confusion matrix\n",
        "plt.figure(figsize=(8, 6))\n",
        "sns.heatmap(matrix, annot=True, fmt='d', cmap='Blues', xticklabels=['Negatif', 'Positif'], yticklabels=['Negatif', 'Positif'])\n",
        "plt.xlabel('Prediksi')\n",
        "plt.ylabel('Aktual')\n",
        "plt.title('Confusion Matrix')\n",
        "plt.show()"
      ],
      "metadata": {
        "colab": {
          "base_uri": "https://localhost:8080/",
          "height": 564
        },
        "id": "rGm71KqZ4oJM",
        "outputId": "94561e05-52a1-4adf-ffee-61701dba7913"
      },
      "id": "rGm71KqZ4oJM",
      "execution_count": 20,
      "outputs": [
        {
          "output_type": "display_data",
          "data": {
            "text/plain": [
              "<Figure size 800x600 with 2 Axes>"
            ],
            "image/png": "[encoded data removed]"
          },
          "metadata": {}
        }
      ]
    },
    {
      "cell_type": "markdown",
      "id": "f18e605e",
      "metadata": {
        "papermill": {
          "duration": 0.010947,
          "end_time": "2022-08-05T17:41:20.052128",
          "exception": false,
          "start_time": "2022-08-05T17:41:20.041181",
          "status": "completed"
        },
        "tags": [],
        "id": "f18e605e"
      },
      "source": [
        "Dengan memperhatikan hasil yang dihasilkan, terlihat bahwa akurasi yang diperoleh sangat rendah. Saat menganalisis matriks kebingungan yang dihasilkan, kita melihat bahwa model hanya tidak belajar, karena 'menandai' hanya satu jenis hasil.\n",
        "\n",
        "Berdasarkan ini, salah satu pilihan kita adalah untuk mengubah model pembelajaran mesin yang diterapkan atau menerapkan algoritma pemrosesan kata lainnya.\n",
        "Namun, apakah ini hasil terbaik yang mungkin dapat disajikan oleh jenis model ini? Untuk memeriksa ini, akan diperlukan untuk memodifikasi hiperparameter model, baik di CountVectorizer atau TfidfVectorizer, maupun di Naive Bayes.\n",
        "\n",
        "Namun, apa itu hiperparameter? Hiperparameter adalah parameter yang dapat disesuaikan yang memungkinkan Anda mengontrol proses pelatihan model. Seperti dalam jaringan saraf tiruan, jumlah lapisan tersembunyi dan jumlah node di setiap lapisan adalah hiperparameter yang kita pilih sebelum model memulai pelatihannya, yang secara langsung memengaruhi hasil akhirnya.\n",
        "\n",
        "Tetapi bagaimana cara memilih hiperparameter terbaik? Saat ini, ada beberapa algoritma yang bertujuan untuk memilih hiperparameter terbaik ini, seperti 'optuna'."
      ]
    },
    {
      "cell_type": "markdown",
      "id": "c36ed392",
      "metadata": {
        "papermill": {
          "duration": 0.011175,
          "end_time": "2022-08-05T17:41:20.074649",
          "exception": false,
          "start_time": "2022-08-05T17:41:20.063474",
          "status": "completed"
        },
        "tags": [],
        "id": "c36ed392"
      },
      "source": [
        "**<h1> Optuna Optimizer**"
      ]
    },
    {
      "cell_type": "markdown",
      "id": "e915c773",
      "metadata": {
        "papermill": {
          "duration": 0.0109,
          "end_time": "2022-08-05T17:41:20.097060",
          "exception": false,
          "start_time": "2022-08-05T17:41:20.086160",
          "status": "completed"
        },
        "tags": [],
        "id": "e915c773"
      },
      "source": [
        "Secara praktis, dalam Optuna, kita mendefinisikan sebuah fungsi objektif yang perlu dioptimalkan, yang dalam kasus ini melibatkan baik model Naive Bayes maupun CountVectorizer.\n",
        "\n",
        "Fungsi objektif ini akan membuat objek trial yang berisi \"saran\" untuk setiap hiperparameter yang kita pilih. Saran-saran ini bisa berupa bilangan bulat dalam rentang tertentu, bilangan pecahan, kategori, atau jenis lain yang tersedia.\n",
        "\n",
        "Terakhir, kita mendefinisikan sebuah objek study yang memanggil metode optimize, yang melakukan sejumlah percobaan yang ditentukan (atau tidak terbatas) untuk memaksimalkan metrik kinerja atau meminimalkan fungsi biaya yang ditetapkan."
      ]
    },
    {
      "cell_type": "code",
      "execution_count": 21,
      "id": "4f823d1d",
      "metadata": {
        "execution": {
          "iopub.execute_input": "2022-08-05T17:41:20.120987Z",
          "iopub.status.busy": "2022-08-05T17:41:20.120706Z",
          "iopub.status.idle": "2022-08-05T17:41:20.124768Z",
          "shell.execute_reply": "2022-08-05T17:41:20.123812Z"
        },
        "papermill": {
          "duration": 0.018785,
          "end_time": "2022-08-05T17:41:20.126796",
          "exception": false,
          "start_time": "2022-08-05T17:41:20.108011",
          "status": "completed"
        },
        "tags": [],
        "id": "4f823d1d"
      },
      "outputs": [],
      "source": [
        "# Membuat model yang akan dioptimalkan dengan pipeline\n",
        "model = Pipeline([\n",
        "    ('CountVec', CountVectorizer()),\n",
        "    ('multNB', MultinomialNB())\n",
        "])\n"
      ]
    },
    {
      "cell_type": "code",
      "execution_count": 22,
      "id": "df1ad880",
      "metadata": {
        "execution": {
          "iopub.execute_input": "2022-08-05T17:41:20.150634Z",
          "iopub.status.busy": "2022-08-05T17:41:20.150259Z",
          "iopub.status.idle": "2022-08-05T17:41:20.155595Z",
          "shell.execute_reply": "2022-08-05T17:41:20.154805Z"
        },
        "papermill": {
          "duration": 0.019363,
          "end_time": "2022-08-05T17:41:20.157627",
          "exception": false,
          "start_time": "2022-08-05T17:41:20.138264",
          "status": "completed"
        },
        "tags": [],
        "id": "df1ad880"
      },
      "outputs": [],
      "source": [
        "# Fungsi untuk memeriksa kinerja akurasi model dalam proses optimasi\n",
        "def model_performance(model, X=test_final, y=test['Label']):\n",
        "\n",
        "    y_pred = model.predict(X)\n",
        "    return round(accuracy_score(y_pred, y), 3)"
      ]
    },
    {
      "cell_type": "code",
      "execution_count": 23,
      "id": "8e30cbea",
      "metadata": {
        "execution": {
          "iopub.execute_input": "2022-08-05T17:41:20.182564Z",
          "iopub.status.busy": "2022-08-05T17:41:20.182196Z",
          "iopub.status.idle": "2022-08-05T17:41:20.189674Z",
          "shell.execute_reply": "2022-08-05T17:41:20.188322Z"
        },
        "papermill": {
          "duration": 0.022209,
          "end_time": "2022-08-05T17:41:20.192007",
          "exception": false,
          "start_time": "2022-08-05T17:41:20.169798",
          "status": "completed"
        },
        "tags": [],
        "id": "8e30cbea"
      },
      "outputs": [],
      "source": [
        "# Mendefinisikan fungsi objektif\n",
        "def objective(trial):\n",
        "    # Mendefinisikan hiperparameter yang akan dievaluasi\n",
        "    x_ngram = trial.suggest_int('CountVec__ngram_range', 1, 4)\n",
        "    CountVec__max_features = trial.suggest_int('CountVec__max_features', 500, 20000)\n",
        "    multNB__alpha = trial.suggest_uniform('multNB__alpha', 0.0, 1)\n",
        "    multNB__fit_prior = trial.suggest_categorical('multNB__fit_prior', [True, False])\n",
        "\n",
        "    params = {\n",
        "        'CountVec__ngram_range': (x_ngram, x_ngram),\n",
        "        'CountVec__max_features': CountVec__max_features,\n",
        "        'multNB__alpha': multNB__alpha ,\n",
        "        'multNB__fit_prior': multNB__fit_prior\n",
        "    }\n",
        "\n",
        "    model.set_params(**params)\n",
        "    model.fit(train_final, train['Label'])\n",
        "\n",
        "    # Mengembalikan akurasi setelah menerapkan fungsi pemeriksaan kinerja model\n",
        "    return model_performance(model)"
      ]
    },
    {
      "cell_type": "code",
      "execution_count": 24,
      "id": "1039483e",
      "metadata": {
        "execution": {
          "iopub.execute_input": "2022-08-05T17:41:20.215980Z",
          "iopub.status.busy": "2022-08-05T17:41:20.215518Z",
          "iopub.status.idle": "2022-08-05T18:03:23.456919Z",
          "shell.execute_reply": "2022-08-05T18:03:23.455981Z"
        },
        "papermill": {
          "duration": 1323.255445,
          "end_time": "2022-08-05T18:03:23.458902",
          "exception": false,
          "start_time": "2022-08-05T17:41:20.203457",
          "status": "completed"
        },
        "scrolled": true,
        "tags": [],
        "colab": {
          "base_uri": "https://localhost:8080/"
        },
        "id": "1039483e",
        "outputId": "9308f53b-eca0-4651-be7b-8ea67a381d26"
      },
      "outputs": [
        {
          "output_type": "stream",
          "name": "stderr",
          "text": [
            "[I 2024-02-09 14:51:42,299] A new study created in memory with name: no-name-f46704aa-87f3-4bfe-a9ec-fa7da433a6ab\n",
            "<ipython-input-23-6ddba722c23d>:6: FutureWarning:\n",
            "\n",
            "suggest_uniform has been deprecated in v3.0.0. This feature will be removed in v6.0.0. See https://github.com/optuna/optuna/releases/tag/v3.0.0. Use suggest_float instead.\n",
            "\n",
            "[I 2024-02-09 14:51:44,765] Trial 0 finished with value: 0.489 and parameters: {'CountVec__ngram_range': 4, 'CountVec__max_features': 5543, 'multNB__alpha': 0.876319585486905, 'multNB__fit_prior': True}. Best is trial 0 with value: 0.489.\n",
            "<ipython-input-23-6ddba722c23d>:6: FutureWarning:\n",
            "\n",
            "suggest_uniform has been deprecated in v3.0.0. This feature will be removed in v6.0.0. See https://github.com/optuna/optuna/releases/tag/v3.0.0. Use suggest_float instead.\n",
            "\n",
            "[I 2024-02-09 14:51:46,724] Trial 1 finished with value: 0.493 and parameters: {'CountVec__ngram_range': 2, 'CountVec__max_features': 10492, 'multNB__alpha': 0.46777008871734094, 'multNB__fit_prior': True}. Best is trial 1 with value: 0.493.\n",
            "<ipython-input-23-6ddba722c23d>:6: FutureWarning:\n",
            "\n",
            "suggest_uniform has been deprecated in v3.0.0. This feature will be removed in v6.0.0. See https://github.com/optuna/optuna/releases/tag/v3.0.0. Use suggest_float instead.\n",
            "\n",
            "[I 2024-02-09 14:51:47,581] Trial 2 finished with value: 0.475 and parameters: {'CountVec__ngram_range': 1, 'CountVec__max_features': 4587, 'multNB__alpha': 0.4200603138919312, 'multNB__fit_prior': False}. Best is trial 1 with value: 0.493.\n",
            "<ipython-input-23-6ddba722c23d>:6: FutureWarning:\n",
            "\n",
            "suggest_uniform has been deprecated in v3.0.0. This feature will be removed in v6.0.0. See https://github.com/optuna/optuna/releases/tag/v3.0.0. Use suggest_float instead.\n",
            "\n",
            "[I 2024-02-09 14:51:49,921] Trial 3 finished with value: 0.497 and parameters: {'CountVec__ngram_range': 4, 'CountVec__max_features': 2176, 'multNB__alpha': 0.9600619085858713, 'multNB__fit_prior': True}. Best is trial 3 with value: 0.497.\n",
            "<ipython-input-23-6ddba722c23d>:6: FutureWarning:\n",
            "\n",
            "suggest_uniform has been deprecated in v3.0.0. This feature will be removed in v6.0.0. See https://github.com/optuna/optuna/releases/tag/v3.0.0. Use suggest_float instead.\n",
            "\n",
            "[I 2024-02-09 14:51:50,786] Trial 4 finished with value: 0.488 and parameters: {'CountVec__ngram_range': 1, 'CountVec__max_features': 12696, 'multNB__alpha': 0.2327979545198594, 'multNB__fit_prior': True}. Best is trial 3 with value: 0.497.\n",
            "<ipython-input-23-6ddba722c23d>:6: FutureWarning:\n",
            "\n",
            "suggest_uniform has been deprecated in v3.0.0. This feature will be removed in v6.0.0. See https://github.com/optuna/optuna/releases/tag/v3.0.0. Use suggest_float instead.\n",
            "\n",
            "[I 2024-02-09 14:51:53,925] Trial 5 finished with value: 0.496 and parameters: {'CountVec__ngram_range': 4, 'CountVec__max_features': 19303, 'multNB__alpha': 0.8751293115169456, 'multNB__fit_prior': True}. Best is trial 3 with value: 0.497.\n",
            "<ipython-input-23-6ddba722c23d>:6: FutureWarning:\n",
            "\n",
            "suggest_uniform has been deprecated in v3.0.0. This feature will be removed in v6.0.0. See https://github.com/optuna/optuna/releases/tag/v3.0.0. Use suggest_float instead.\n",
            "\n",
            "[I 2024-02-09 14:51:56,208] Trial 6 finished with value: 0.511 and parameters: {'CountVec__ngram_range': 3, 'CountVec__max_features': 10327, 'multNB__alpha': 0.20898272680337582, 'multNB__fit_prior': False}. Best is trial 6 with value: 0.511.\n",
            "<ipython-input-23-6ddba722c23d>:6: FutureWarning:\n",
            "\n",
            "suggest_uniform has been deprecated in v3.0.0. This feature will be removed in v6.0.0. See https://github.com/optuna/optuna/releases/tag/v3.0.0. Use suggest_float instead.\n",
            "\n",
            "[I 2024-02-09 14:51:58,555] Trial 7 finished with value: 0.497 and parameters: {'CountVec__ngram_range': 4, 'CountVec__max_features': 2390, 'multNB__alpha': 0.31837509371830663, 'multNB__fit_prior': True}. Best is trial 6 with value: 0.511.\n",
            "<ipython-input-23-6ddba722c23d>:6: FutureWarning:\n",
            "\n",
            "suggest_uniform has been deprecated in v3.0.0. This feature will be removed in v6.0.0. See https://github.com/optuna/optuna/releases/tag/v3.0.0. Use suggest_float instead.\n",
            "\n",
            "[I 2024-02-09 14:52:00,891] Trial 8 finished with value: 0.496 and parameters: {'CountVec__ngram_range': 4, 'CountVec__max_features': 12898, 'multNB__alpha': 0.7410726887704727, 'multNB__fit_prior': True}. Best is trial 6 with value: 0.511.\n",
            "<ipython-input-23-6ddba722c23d>:6: FutureWarning:\n",
            "\n",
            "suggest_uniform has been deprecated in v3.0.0. This feature will be removed in v6.0.0. See https://github.com/optuna/optuna/releases/tag/v3.0.0. Use suggest_float instead.\n",
            "\n",
            "[I 2024-02-09 14:52:02,810] Trial 9 finished with value: 0.496 and parameters: {'CountVec__ngram_range': 2, 'CountVec__max_features': 14510, 'multNB__alpha': 0.5032756870596957, 'multNB__fit_prior': False}. Best is trial 6 with value: 0.511.\n"
          ]
        }
      ],
      "source": [
        "# Menerapkan optimasi\n",
        "study = optuna.create_study(direction=\"maximize\")\n",
        "study.optimize(objective, n_trials=10)"
      ]
    },
    {
      "cell_type": "code",
      "execution_count": 25,
      "id": "7bded2f1",
      "metadata": {
        "execution": {
          "iopub.execute_input": "2022-08-05T18:03:23.524187Z",
          "iopub.status.busy": "2022-08-05T18:03:23.523007Z",
          "iopub.status.idle": "2022-08-05T18:03:23.586529Z",
          "shell.execute_reply": "2022-08-05T18:03:23.585414Z"
        },
        "papermill": {
          "duration": 0.098415,
          "end_time": "2022-08-05T18:03:23.588710",
          "exception": false,
          "start_time": "2022-08-05T18:03:23.490295",
          "status": "completed"
        },
        "tags": [],
        "colab": {
          "base_uri": "https://localhost:8080/",
          "height": 542
        },
        "id": "7bded2f1",
        "outputId": "88b794d9-2c34-413d-fa12-01eeab652bf9"
      },
      "outputs": [
        {
          "output_type": "display_data",
          "data": {
            "text/html": [
              "<html>\n",
              "<head><meta charset=\"utf-8\" /></head>\n",
              "<body>\n",
              "    <div>            <script src=\"https://cdnjs.cloudflare.com/ajax/libs/mathjax/2.7.5/MathJax.js?config=TeX-AMS-MML_SVG\"></script><script type=\"text/javascript\">if (window.MathJax && window.MathJax.Hub && window.MathJax.Hub.Config) {window.MathJax.Hub.Config({SVG: {font: \"STIX-Web\"}});}</script>                <script type=\"text/javascript\">window.PlotlyConfig = {MathJaxConfig: 'local'};</script>\n",
              "        <script charset=\"utf-8\" src=\"https://cdn.plot.ly/plotly-2.24.1.min.js\"></script>                <div id=\"25839e18-b6c5-42c6-8ed1-5a2e0bd8a5c9\" class=\"plotly-graph-div\" style=\"height:525px; width:100%;\"></div>            <script type=\"text/javascript\">                                    window.PLOTLYENV=window.PLOTLYENV || {};                                    if (document.getElementById(\"25839e18-b6c5-42c6-8ed1-5a2e0bd8a5c9\")) {                    Plotly.newPlot(                        \"25839e18-b6c5-42c6-8ed1-5a2e0bd8a5c9\",                        [{\"mode\":\"markers\",\"name\":\"Objective Value\",\"x\":[0,1,2,3,4,5,6,7,8,9],\"y\":[0.489,0.493,0.475,0.497,0.488,0.496,0.511,0.497,0.496,0.496],\"type\":\"scatter\"},{\"mode\":\"lines\",\"name\":\"Best Value\",\"x\":[0,1,2,3,4,5,6,7,8,9],\"y\":[0.489,0.493,0.493,0.497,0.497,0.497,0.511,0.511,0.511,0.511],\"type\":\"scatter\"},{\"marker\":{\"color\":\"#cccccc\"},\"mode\":\"markers\",\"name\":\"Infeasible Trial\",\"showlegend\":false,\"x\":[],\"y\":[],\"type\":\"scatter\"}],                        {\"title\":{\"text\":\"Optimization History Plot\"},\"xaxis\":{\"title\":{\"text\":\"Trial\"}},\"yaxis\":{\"title\":{\"text\":\"Objective Value\"}},\"template\":{\"data\":{\"histogram2dcontour\":[{\"type\":\"histogram2dcontour\",\"colorbar\":{\"outlinewidth\":0,\"ticks\":\"\"},\"colorscale\":[[0.0,\"#0d0887\"],[0.1111111111111111,\"#46039f\"],[0.2222222222222222,\"#7201a8\"],[0.3333333333333333,\"#9c179e\"],[0.4444444444444444,\"#bd3786\"],[0.5555555555555556,\"#d8576b\"],[0.6666666666666666,\"#ed7953\"],[0.7777777777777778,\"#fb9f3a\"],[0.8888888888888888,\"#fdca26\"],[1.0,\"#f0f921\"]]}],\"choropleth\":[{\"type\":\"choropleth\",\"colorbar\":{\"outlinewidth\":0,\"ticks\":\"\"}}],\"histogram2d\":[{\"type\":\"histogram2d\",\"colorbar\":{\"outlinewidth\":0,\"ticks\":\"\"},\"colorscale\":[[0.0,\"#0d0887\"],[0.1111111111111111,\"#46039f\"],[0.2222222222222222,\"#7201a8\"],[0.3333333333333333,\"#9c179e\"],[0.4444444444444444,\"#bd3786\"],[0.5555555555555556,\"#d8576b\"],[0.6666666666666666,\"#ed7953\"],[0.7777777777777778,\"#fb9f3a\"],[0.8888888888888888,\"#fdca26\"],[1.0,\"#f0f921\"]]}],\"heatmap\":[{\"type\":\"heatmap\",\"colorbar\":{\"outlinewidth\":0,\"ticks\":\"\"},\"colorscale\":[[0.0,\"#0d0887\"],[0.1111111111111111,\"#46039f\"],[0.2222222222222222,\"#7201a8\"],[0.3333333333333333,\"#9c179e\"],[0.4444444444444444,\"#bd3786\"],[0.5555555555555556,\"#d8576b\"],[0.6666666666666666,\"#ed7953\"],[0.7777777777777778,\"#fb9f3a\"],[0.8888888888888888,\"#fdca26\"],[1.0,\"#f0f921\"]]}],\"heatmapgl\":[{\"type\":\"heatmapgl\",\"colorbar\":{\"outlinewidth\":0,\"ticks\":\"\"},\"colorscale\":[[0.0,\"#0d0887\"],[0.1111111111111111,\"#46039f\"],[0.2222222222222222,\"#7201a8\"],[0.3333333333333333,\"#9c179e\"],[0.4444444444444444,\"#bd3786\"],[0.5555555555555556,\"#d8576b\"],[0.6666666666666666,\"#ed7953\"],[0.7777777777777778,\"#fb9f3a\"],[0.8888888888888888,\"#fdca26\"],[1.0,\"#f0f921\"]]}],\"contourcarpet\":[{\"type\":\"contourcarpet\",\"colorbar\":{\"outlinewidth\":0,\"ticks\":\"\"}}],\"contour\":[{\"type\":\"contour\",\"colorbar\":{\"outlinewidth\":0,\"ticks\":\"\"},\"colorscale\":[[0.0,\"#0d0887\"],[0.1111111111111111,\"#46039f\"],[0.2222222222222222,\"#7201a8\"],[0.3333333333333333,\"#9c179e\"],[0.4444444444444444,\"#bd3786\"],[0.5555555555555556,\"#d8576b\"],[0.6666666666666666,\"#ed7953\"],[0.7777777777777778,\"#fb9f3a\"],[0.8888888888888888,\"#fdca26\"],[1.0,\"#f0f921\"]]}],\"surface\":[{\"type\":\"surface\",\"colorbar\":{\"outlinewidth\":0,\"ticks\":\"\"},\"colorscale\":[[0.0,\"#0d0887\"],[0.1111111111111111,\"#46039f\"],[0.2222222222222222,\"#7201a8\"],[0.3333333333333333,\"#9c179e\"],[0.4444444444444444,\"#bd3786\"],[0.5555555555555556,\"#d8576b\"],[0.6666666666666666,\"#ed7953\"],[0.7777777777777778,\"#fb9f3a\"],[0.8888888888888888,\"#fdca26\"],[1.0,\"#f0f921\"]]}],\"mesh3d\":[{\"type\":\"mesh3d\",\"colorbar\":{\"outlinewidth\":0,\"ticks\":\"\"}}],\"scatter\":[{\"fillpattern\":{\"fillmode\":\"overlay\",\"size\":10,\"solidity\":0.2},\"type\":\"scatter\"}],\"parcoords\":[{\"type\":\"parcoords\",\"line\":{\"colorbar\":{\"outlinewidth\":0,\"ticks\":\"\"}}}],\"scatterpolargl\":[{\"type\":\"scatterpolargl\",\"marker\":{\"colorbar\":{\"outlinewidth\":0,\"ticks\":\"\"}}}],\"bar\":[{\"error_x\":{\"color\":\"#2a3f5f\"},\"error_y\":{\"color\":\"#2a3f5f\"},\"marker\":{\"line\":{\"color\":\"#E5ECF6\",\"width\":0.5},\"pattern\":{\"fillmode\":\"overlay\",\"size\":10,\"solidity\":0.2}},\"type\":\"bar\"}],\"scattergeo\":[{\"type\":\"scattergeo\",\"marker\":{\"colorbar\":{\"outlinewidth\":0,\"ticks\":\"\"}}}],\"scatterpolar\":[{\"type\":\"scatterpolar\",\"marker\":{\"colorbar\":{\"outlinewidth\":0,\"ticks\":\"\"}}}],\"histogram\":[{\"marker\":{\"pattern\":{\"fillmode\":\"overlay\",\"size\":10,\"solidity\":0.2}},\"type\":\"histogram\"}],\"scattergl\":[{\"type\":\"scattergl\",\"marker\":{\"colorbar\":{\"outlinewidth\":0,\"ticks\":\"\"}}}],\"scatter3d\":[{\"type\":\"scatter3d\",\"line\":{\"colorbar\":{\"outlinewidth\":0,\"ticks\":\"\"}},\"marker\":{\"colorbar\":{\"outlinewidth\":0,\"ticks\":\"\"}}}],\"scattermapbox\":[{\"type\":\"scattermapbox\",\"marker\":{\"colorbar\":{\"outlinewidth\":0,\"ticks\":\"\"}}}],\"scatterternary\":[{\"type\":\"scatterternary\",\"marker\":{\"colorbar\":{\"outlinewidth\":0,\"ticks\":\"\"}}}],\"scattercarpet\":[{\"type\":\"scattercarpet\",\"marker\":{\"colorbar\":{\"outlinewidth\":0,\"ticks\":\"\"}}}],\"carpet\":[{\"aaxis\":{\"endlinecolor\":\"#2a3f5f\",\"gridcolor\":\"white\",\"linecolor\":\"white\",\"minorgridcolor\":\"white\",\"startlinecolor\":\"#2a3f5f\"},\"baxis\":{\"endlinecolor\":\"#2a3f5f\",\"gridcolor\":\"white\",\"linecolor\":\"white\",\"minorgridcolor\":\"white\",\"startlinecolor\":\"#2a3f5f\"},\"type\":\"carpet\"}],\"table\":[{\"cells\":{\"fill\":{\"color\":\"#EBF0F8\"},\"line\":{\"color\":\"white\"}},\"header\":{\"fill\":{\"color\":\"#C8D4E3\"},\"line\":{\"color\":\"white\"}},\"type\":\"table\"}],\"barpolar\":[{\"marker\":{\"line\":{\"color\":\"#E5ECF6\",\"width\":0.5},\"pattern\":{\"fillmode\":\"overlay\",\"size\":10,\"solidity\":0.2}},\"type\":\"barpolar\"}],\"pie\":[{\"automargin\":true,\"type\":\"pie\"}]},\"layout\":{\"autotypenumbers\":\"strict\",\"colorway\":[\"#636efa\",\"#EF553B\",\"#00cc96\",\"#ab63fa\",\"#FFA15A\",\"#19d3f3\",\"#FF6692\",\"#B6E880\",\"#FF97FF\",\"#FECB52\"],\"font\":{\"color\":\"#2a3f5f\"},\"hovermode\":\"closest\",\"hoverlabel\":{\"align\":\"left\"},\"paper_bgcolor\":\"white\",\"plot_bgcolor\":\"#E5ECF6\",\"polar\":{\"bgcolor\":\"#E5ECF6\",\"angularaxis\":{\"gridcolor\":\"white\",\"linecolor\":\"white\",\"ticks\":\"\"},\"radialaxis\":{\"gridcolor\":\"white\",\"linecolor\":\"white\",\"ticks\":\"\"}},\"ternary\":{\"bgcolor\":\"#E5ECF6\",\"aaxis\":{\"gridcolor\":\"white\",\"linecolor\":\"white\",\"ticks\":\"\"},\"baxis\":{\"gridcolor\":\"white\",\"linecolor\":\"white\",\"ticks\":\"\"},\"caxis\":{\"gridcolor\":\"white\",\"linecolor\":\"white\",\"ticks\":\"\"}},\"coloraxis\":{\"colorbar\":{\"outlinewidth\":0,\"ticks\":\"\"}},\"colorscale\":{\"sequential\":[[0.0,\"#0d0887\"],[0.1111111111111111,\"#46039f\"],[0.2222222222222222,\"#7201a8\"],[0.3333333333333333,\"#9c179e\"],[0.4444444444444444,\"#bd3786\"],[0.5555555555555556,\"#d8576b\"],[0.6666666666666666,\"#ed7953\"],[0.7777777777777778,\"#fb9f3a\"],[0.8888888888888888,\"#fdca26\"],[1.0,\"#f0f921\"]],\"sequentialminus\":[[0.0,\"#0d0887\"],[0.1111111111111111,\"#46039f\"],[0.2222222222222222,\"#7201a8\"],[0.3333333333333333,\"#9c179e\"],[0.4444444444444444,\"#bd3786\"],[0.5555555555555556,\"#d8576b\"],[0.6666666666666666,\"#ed7953\"],[0.7777777777777778,\"#fb9f3a\"],[0.8888888888888888,\"#fdca26\"],[1.0,\"#f0f921\"]],\"diverging\":[[0,\"#8e0152\"],[0.1,\"#c51b7d\"],[0.2,\"#de77ae\"],[0.3,\"#f1b6da\"],[0.4,\"#fde0ef\"],[0.5,\"#f7f7f7\"],[0.6,\"#e6f5d0\"],[0.7,\"#b8e186\"],[0.8,\"#7fbc41\"],[0.9,\"#4d9221\"],[1,\"#276419\"]]},\"xaxis\":{\"gridcolor\":\"white\",\"linecolor\":\"white\",\"ticks\":\"\",\"title\":{\"standoff\":15},\"zerolinecolor\":\"white\",\"automargin\":true,\"zerolinewidth\":2},\"yaxis\":{\"gridcolor\":\"white\",\"linecolor\":\"white\",\"ticks\":\"\",\"title\":{\"standoff\":15},\"zerolinecolor\":\"white\",\"automargin\":true,\"zerolinewidth\":2},\"scene\":{\"xaxis\":{\"backgroundcolor\":\"#E5ECF6\",\"gridcolor\":\"white\",\"linecolor\":\"white\",\"showbackground\":true,\"ticks\":\"\",\"zerolinecolor\":\"white\",\"gridwidth\":2},\"yaxis\":{\"backgroundcolor\":\"#E5ECF6\",\"gridcolor\":\"white\",\"linecolor\":\"white\",\"showbackground\":true,\"ticks\":\"\",\"zerolinecolor\":\"white\",\"gridwidth\":2},\"zaxis\":{\"backgroundcolor\":\"#E5ECF6\",\"gridcolor\":\"white\",\"linecolor\":\"white\",\"showbackground\":true,\"ticks\":\"\",\"zerolinecolor\":\"white\",\"gridwidth\":2}},\"shapedefaults\":{\"line\":{\"color\":\"#2a3f5f\"}},\"annotationdefaults\":{\"arrowcolor\":\"#2a3f5f\",\"arrowhead\":0,\"arrowwidth\":1},\"geo\":{\"bgcolor\":\"white\",\"landcolor\":\"#E5ECF6\",\"subunitcolor\":\"white\",\"showland\":true,\"showlakes\":true,\"lakecolor\":\"white\"},\"title\":{\"x\":0.05},\"mapbox\":{\"style\":\"light\"}}}},                        {\"responsive\": true}                    ).then(function(){\n",
              "                            \n",
              "var gd = document.getElementById('25839e18-b6c5-42c6-8ed1-5a2e0bd8a5c9');\n",
              "var x = new MutationObserver(function (mutations, observer) {{\n",
              "        var display = window.getComputedStyle(gd).display;\n",
              "        if (!display || display === 'none') {{\n",
              "            console.log([gd, 'removed!']);\n",
              "            Plotly.purge(gd);\n",
              "            observer.disconnect();\n",
              "        }}\n",
              "}});\n",
              "\n",
              "// Listen for the removal of the full notebook cells\n",
              "var notebookContainer = gd.closest('#notebook-container');\n",
              "if (notebookContainer) {{\n",
              "    x.observe(notebookContainer, {childList: true});\n",
              "}}\n",
              "\n",
              "// Listen for the clearing of the current output cell\n",
              "var outputEl = gd.closest('.output');\n",
              "if (outputEl) {{\n",
              "    x.observe(outputEl, {childList: true});\n",
              "}}\n",
              "\n",
              "                        })                };                            </script>        </div>\n",
              "</body>\n",
              "</html>"
            ]
          },
          "metadata": {}
        }
      ],
      "source": [
        "plot_optimization_history(study)"
      ]
    },
    {
      "cell_type": "code",
      "execution_count": 26,
      "id": "1cfef99f",
      "metadata": {
        "execution": {
          "iopub.execute_input": "2022-08-05T18:03:23.653048Z",
          "iopub.status.busy": "2022-08-05T18:03:23.652758Z",
          "iopub.status.idle": "2022-08-05T18:03:23.845262Z",
          "shell.execute_reply": "2022-08-05T18:03:23.844656Z"
        },
        "papermill": {
          "duration": 0.226682,
          "end_time": "2022-08-05T18:03:23.847156",
          "exception": false,
          "start_time": "2022-08-05T18:03:23.620474",
          "status": "completed"
        },
        "tags": [],
        "colab": {
          "base_uri": "https://localhost:8080/",
          "height": 562
        },
        "id": "1cfef99f",
        "outputId": "094f87bd-bb90-439f-b600-226c1f788ca0"
      },
      "outputs": [
        {
          "output_type": "display_data",
          "data": {
            "text/html": [
              "<html>\n",
              "<head><meta charset=\"utf-8\" /></head>\n",
              "<body>\n",
              "    <div>            <script src=\"https://cdnjs.cloudflare.com/ajax/libs/mathjax/2.7.5/MathJax.js?config=TeX-AMS-MML_SVG\"></script><script type=\"text/javascript\">if (window.MathJax && window.MathJax.Hub && window.MathJax.Hub.Config) {window.MathJax.Hub.Config({SVG: {font: \"STIX-Web\"}});}</script>                <script type=\"text/javascript\">window.PlotlyConfig = {MathJaxConfig: 'local'};</script>\n",
              "        <script charset=\"utf-8\" src=\"https://cdn.plot.ly/plotly-2.24.1.min.js\"></script>                <div id=\"16d7c8a5-a07c-44f8-8f3c-6f087e5af2ae\" class=\"plotly-graph-div\" style=\"height:525px; width:1200px;\"></div>            <script type=\"text/javascript\">                                    window.PLOTLYENV=window.PLOTLYENV || {};                                    if (document.getElementById(\"16d7c8a5-a07c-44f8-8f3c-6f087e5af2ae\")) {                    Plotly.newPlot(                        \"16d7c8a5-a07c-44f8-8f3c-6f087e5af2ae\",                        [{\"marker\":{\"color\":[0,1,2,3,4,5,6,7,8,9],\"colorbar\":{\"title\":{\"text\":\"Trial\"},\"x\":1.0,\"xpad\":40},\"colorscale\":[[0.0,\"rgb(247,251,255)\"],[0.125,\"rgb(222,235,247)\"],[0.25,\"rgb(198,219,239)\"],[0.375,\"rgb(158,202,225)\"],[0.5,\"rgb(107,174,214)\"],[0.625,\"rgb(66,146,198)\"],[0.75,\"rgb(33,113,181)\"],[0.875,\"rgb(8,81,156)\"],[1.0,\"rgb(8,48,107)\"]],\"line\":{\"color\":\"Grey\",\"width\":0.5},\"showscale\":true},\"mode\":\"markers\",\"name\":\"Feasible Trial\",\"showlegend\":false,\"x\":[5543,10492,4587,2176,12696,19303,10327,2390,12898,14510],\"y\":[0.489,0.493,0.475,0.497,0.488,0.496,0.511,0.497,0.496,0.496],\"type\":\"scatter\",\"xaxis\":\"x\",\"yaxis\":\"y\"},{\"marker\":{\"color\":[0,1,2,3,4,5,6,7,8,9],\"colorbar\":{\"title\":{\"text\":\"Trial\"},\"x\":1.0,\"xpad\":40},\"colorscale\":[[0.0,\"rgb(247,251,255)\"],[0.125,\"rgb(222,235,247)\"],[0.25,\"rgb(198,219,239)\"],[0.375,\"rgb(158,202,225)\"],[0.5,\"rgb(107,174,214)\"],[0.625,\"rgb(66,146,198)\"],[0.75,\"rgb(33,113,181)\"],[0.875,\"rgb(8,81,156)\"],[1.0,\"rgb(8,48,107)\"]],\"line\":{\"color\":\"Grey\",\"width\":0.5},\"showscale\":false},\"mode\":\"markers\",\"name\":\"Feasible Trial\",\"showlegend\":false,\"x\":[4,2,1,4,1,4,3,4,4,2],\"y\":[0.489,0.493,0.475,0.497,0.488,0.496,0.511,0.497,0.496,0.496],\"type\":\"scatter\",\"xaxis\":\"x2\",\"yaxis\":\"y2\"},{\"marker\":{\"color\":[0,1,2,3,4,5,6,7,8,9],\"colorbar\":{\"title\":{\"text\":\"Trial\"},\"x\":1.0,\"xpad\":40},\"colorscale\":[[0.0,\"rgb(247,251,255)\"],[0.125,\"rgb(222,235,247)\"],[0.25,\"rgb(198,219,239)\"],[0.375,\"rgb(158,202,225)\"],[0.5,\"rgb(107,174,214)\"],[0.625,\"rgb(66,146,198)\"],[0.75,\"rgb(33,113,181)\"],[0.875,\"rgb(8,81,156)\"],[1.0,\"rgb(8,48,107)\"]],\"line\":{\"color\":\"Grey\",\"width\":0.5},\"showscale\":false},\"mode\":\"markers\",\"name\":\"Feasible Trial\",\"showlegend\":false,\"x\":[0.876319585486905,0.46777008871734094,0.4200603138919312,0.9600619085858713,0.2327979545198594,0.8751293115169456,0.20898272680337582,0.31837509371830663,0.7410726887704727,0.5032756870596957],\"y\":[0.489,0.493,0.475,0.497,0.488,0.496,0.511,0.497,0.496,0.496],\"type\":\"scatter\",\"xaxis\":\"x3\",\"yaxis\":\"y3\"},{\"marker\":{\"color\":[0,1,2,3,4,5,6,7,8,9],\"colorbar\":{\"title\":{\"text\":\"Trial\"},\"x\":1.0,\"xpad\":40},\"colorscale\":[[0.0,\"rgb(247,251,255)\"],[0.125,\"rgb(222,235,247)\"],[0.25,\"rgb(198,219,239)\"],[0.375,\"rgb(158,202,225)\"],[0.5,\"rgb(107,174,214)\"],[0.625,\"rgb(66,146,198)\"],[0.75,\"rgb(33,113,181)\"],[0.875,\"rgb(8,81,156)\"],[1.0,\"rgb(8,48,107)\"]],\"line\":{\"color\":\"Grey\",\"width\":0.5},\"showscale\":false},\"mode\":\"markers\",\"name\":\"Feasible Trial\",\"showlegend\":false,\"x\":[true,true,false,true,true,true,false,true,true,false],\"y\":[0.489,0.493,0.475,0.497,0.488,0.496,0.511,0.497,0.496,0.496],\"type\":\"scatter\",\"xaxis\":\"x4\",\"yaxis\":\"y4\"}],                        {\"template\":{\"data\":{\"histogram2dcontour\":[{\"type\":\"histogram2dcontour\",\"colorbar\":{\"outlinewidth\":0,\"ticks\":\"\"},\"colorscale\":[[0.0,\"#0d0887\"],[0.1111111111111111,\"#46039f\"],[0.2222222222222222,\"#7201a8\"],[0.3333333333333333,\"#9c179e\"],[0.4444444444444444,\"#bd3786\"],[0.5555555555555556,\"#d8576b\"],[0.6666666666666666,\"#ed7953\"],[0.7777777777777778,\"#fb9f3a\"],[0.8888888888888888,\"#fdca26\"],[1.0,\"#f0f921\"]]}],\"choropleth\":[{\"type\":\"choropleth\",\"colorbar\":{\"outlinewidth\":0,\"ticks\":\"\"}}],\"histogram2d\":[{\"type\":\"histogram2d\",\"colorbar\":{\"outlinewidth\":0,\"ticks\":\"\"},\"colorscale\":[[0.0,\"#0d0887\"],[0.1111111111111111,\"#46039f\"],[0.2222222222222222,\"#7201a8\"],[0.3333333333333333,\"#9c179e\"],[0.4444444444444444,\"#bd3786\"],[0.5555555555555556,\"#d8576b\"],[0.6666666666666666,\"#ed7953\"],[0.7777777777777778,\"#fb9f3a\"],[0.8888888888888888,\"#fdca26\"],[1.0,\"#f0f921\"]]}],\"heatmap\":[{\"type\":\"heatmap\",\"colorbar\":{\"outlinewidth\":0,\"ticks\":\"\"},\"colorscale\":[[0.0,\"#0d0887\"],[0.1111111111111111,\"#46039f\"],[0.2222222222222222,\"#7201a8\"],[0.3333333333333333,\"#9c179e\"],[0.4444444444444444,\"#bd3786\"],[0.5555555555555556,\"#d8576b\"],[0.6666666666666666,\"#ed7953\"],[0.7777777777777778,\"#fb9f3a\"],[0.8888888888888888,\"#fdca26\"],[1.0,\"#f0f921\"]]}],\"heatmapgl\":[{\"type\":\"heatmapgl\",\"colorbar\":{\"outlinewidth\":0,\"ticks\":\"\"},\"colorscale\":[[0.0,\"#0d0887\"],[0.1111111111111111,\"#46039f\"],[0.2222222222222222,\"#7201a8\"],[0.3333333333333333,\"#9c179e\"],[0.4444444444444444,\"#bd3786\"],[0.5555555555555556,\"#d8576b\"],[0.6666666666666666,\"#ed7953\"],[0.7777777777777778,\"#fb9f3a\"],[0.8888888888888888,\"#fdca26\"],[1.0,\"#f0f921\"]]}],\"contourcarpet\":[{\"type\":\"contourcarpet\",\"colorbar\":{\"outlinewidth\":0,\"ticks\":\"\"}}],\"contour\":[{\"type\":\"contour\",\"colorbar\":{\"outlinewidth\":0,\"ticks\":\"\"},\"colorscale\":[[0.0,\"#0d0887\"],[0.1111111111111111,\"#46039f\"],[0.2222222222222222,\"#7201a8\"],[0.3333333333333333,\"#9c179e\"],[0.4444444444444444,\"#bd3786\"],[0.5555555555555556,\"#d8576b\"],[0.6666666666666666,\"#ed7953\"],[0.7777777777777778,\"#fb9f3a\"],[0.8888888888888888,\"#fdca26\"],[1.0,\"#f0f921\"]]}],\"surface\":[{\"type\":\"surface\",\"colorbar\":{\"outlinewidth\":0,\"ticks\":\"\"},\"colorscale\":[[0.0,\"#0d0887\"],[0.1111111111111111,\"#46039f\"],[0.2222222222222222,\"#7201a8\"],[0.3333333333333333,\"#9c179e\"],[0.4444444444444444,\"#bd3786\"],[0.5555555555555556,\"#d8576b\"],[0.6666666666666666,\"#ed7953\"],[0.7777777777777778,\"#fb9f3a\"],[0.8888888888888888,\"#fdca26\"],[1.0,\"#f0f921\"]]}],\"mesh3d\":[{\"type\":\"mesh3d\",\"colorbar\":{\"outlinewidth\":0,\"ticks\":\"\"}}],\"scatter\":[{\"fillpattern\":{\"fillmode\":\"overlay\",\"size\":10,\"solidity\":0.2},\"type\":\"scatter\"}],\"parcoords\":[{\"type\":\"parcoords\",\"line\":{\"colorbar\":{\"outlinewidth\":0,\"ticks\":\"\"}}}],\"scatterpolargl\":[{\"type\":\"scatterpolargl\",\"marker\":{\"colorbar\":{\"outlinewidth\":0,\"ticks\":\"\"}}}],\"bar\":[{\"error_x\":{\"color\":\"#2a3f5f\"},\"error_y\":{\"color\":\"#2a3f5f\"},\"marker\":{\"line\":{\"color\":\"#E5ECF6\",\"width\":0.5},\"pattern\":{\"fillmode\":\"overlay\",\"size\":10,\"solidity\":0.2}},\"type\":\"bar\"}],\"scattergeo\":[{\"type\":\"scattergeo\",\"marker\":{\"colorbar\":{\"outlinewidth\":0,\"ticks\":\"\"}}}],\"scatterpolar\":[{\"type\":\"scatterpolar\",\"marker\":{\"colorbar\":{\"outlinewidth\":0,\"ticks\":\"\"}}}],\"histogram\":[{\"marker\":{\"pattern\":{\"fillmode\":\"overlay\",\"size\":10,\"solidity\":0.2}},\"type\":\"histogram\"}],\"scattergl\":[{\"type\":\"scattergl\",\"marker\":{\"colorbar\":{\"outlinewidth\":0,\"ticks\":\"\"}}}],\"scatter3d\":[{\"type\":\"scatter3d\",\"line\":{\"colorbar\":{\"outlinewidth\":0,\"ticks\":\"\"}},\"marker\":{\"colorbar\":{\"outlinewidth\":0,\"ticks\":\"\"}}}],\"scattermapbox\":[{\"type\":\"scattermapbox\",\"marker\":{\"colorbar\":{\"outlinewidth\":0,\"ticks\":\"\"}}}],\"scatterternary\":[{\"type\":\"scatterternary\",\"marker\":{\"colorbar\":{\"outlinewidth\":0,\"ticks\":\"\"}}}],\"scattercarpet\":[{\"type\":\"scattercarpet\",\"marker\":{\"colorbar\":{\"outlinewidth\":0,\"ticks\":\"\"}}}],\"carpet\":[{\"aaxis\":{\"endlinecolor\":\"#2a3f5f\",\"gridcolor\":\"white\",\"linecolor\":\"white\",\"minorgridcolor\":\"white\",\"startlinecolor\":\"#2a3f5f\"},\"baxis\":{\"endlinecolor\":\"#2a3f5f\",\"gridcolor\":\"white\",\"linecolor\":\"white\",\"minorgridcolor\":\"white\",\"startlinecolor\":\"#2a3f5f\"},\"type\":\"carpet\"}],\"table\":[{\"cells\":{\"fill\":{\"color\":\"#EBF0F8\"},\"line\":{\"color\":\"white\"}},\"header\":{\"fill\":{\"color\":\"#C8D4E3\"},\"line\":{\"color\":\"white\"}},\"type\":\"table\"}],\"barpolar\":[{\"marker\":{\"line\":{\"color\":\"#E5ECF6\",\"width\":0.5},\"pattern\":{\"fillmode\":\"overlay\",\"size\":10,\"solidity\":0.2}},\"type\":\"barpolar\"}],\"pie\":[{\"automargin\":true,\"type\":\"pie\"}]},\"layout\":{\"autotypenumbers\":\"strict\",\"colorway\":[\"#636efa\",\"#EF553B\",\"#00cc96\",\"#ab63fa\",\"#FFA15A\",\"#19d3f3\",\"#FF6692\",\"#B6E880\",\"#FF97FF\",\"#FECB52\"],\"font\":{\"color\":\"#2a3f5f\"},\"hovermode\":\"closest\",\"hoverlabel\":{\"align\":\"left\"},\"paper_bgcolor\":\"white\",\"plot_bgcolor\":\"#E5ECF6\",\"polar\":{\"bgcolor\":\"#E5ECF6\",\"angularaxis\":{\"gridcolor\":\"white\",\"linecolor\":\"white\",\"ticks\":\"\"},\"radialaxis\":{\"gridcolor\":\"white\",\"linecolor\":\"white\",\"ticks\":\"\"}},\"ternary\":{\"bgcolor\":\"#E5ECF6\",\"aaxis\":{\"gridcolor\":\"white\",\"linecolor\":\"white\",\"ticks\":\"\"},\"baxis\":{\"gridcolor\":\"white\",\"linecolor\":\"white\",\"ticks\":\"\"},\"caxis\":{\"gridcolor\":\"white\",\"linecolor\":\"white\",\"ticks\":\"\"}},\"coloraxis\":{\"colorbar\":{\"outlinewidth\":0,\"ticks\":\"\"}},\"colorscale\":{\"sequential\":[[0.0,\"#0d0887\"],[0.1111111111111111,\"#46039f\"],[0.2222222222222222,\"#7201a8\"],[0.3333333333333333,\"#9c179e\"],[0.4444444444444444,\"#bd3786\"],[0.5555555555555556,\"#d8576b\"],[0.6666666666666666,\"#ed7953\"],[0.7777777777777778,\"#fb9f3a\"],[0.8888888888888888,\"#fdca26\"],[1.0,\"#f0f921\"]],\"sequentialminus\":[[0.0,\"#0d0887\"],[0.1111111111111111,\"#46039f\"],[0.2222222222222222,\"#7201a8\"],[0.3333333333333333,\"#9c179e\"],[0.4444444444444444,\"#bd3786\"],[0.5555555555555556,\"#d8576b\"],[0.6666666666666666,\"#ed7953\"],[0.7777777777777778,\"#fb9f3a\"],[0.8888888888888888,\"#fdca26\"],[1.0,\"#f0f921\"]],\"diverging\":[[0,\"#8e0152\"],[0.1,\"#c51b7d\"],[0.2,\"#de77ae\"],[0.3,\"#f1b6da\"],[0.4,\"#fde0ef\"],[0.5,\"#f7f7f7\"],[0.6,\"#e6f5d0\"],[0.7,\"#b8e186\"],[0.8,\"#7fbc41\"],[0.9,\"#4d9221\"],[1,\"#276419\"]]},\"xaxis\":{\"gridcolor\":\"white\",\"linecolor\":\"white\",\"ticks\":\"\",\"title\":{\"standoff\":15},\"zerolinecolor\":\"white\",\"automargin\":true,\"zerolinewidth\":2},\"yaxis\":{\"gridcolor\":\"white\",\"linecolor\":\"white\",\"ticks\":\"\",\"title\":{\"standoff\":15},\"zerolinecolor\":\"white\",\"automargin\":true,\"zerolinewidth\":2},\"scene\":{\"xaxis\":{\"backgroundcolor\":\"#E5ECF6\",\"gridcolor\":\"white\",\"linecolor\":\"white\",\"showbackground\":true,\"ticks\":\"\",\"zerolinecolor\":\"white\",\"gridwidth\":2},\"yaxis\":{\"backgroundcolor\":\"#E5ECF6\",\"gridcolor\":\"white\",\"linecolor\":\"white\",\"showbackground\":true,\"ticks\":\"\",\"zerolinecolor\":\"white\",\"gridwidth\":2},\"zaxis\":{\"backgroundcolor\":\"#E5ECF6\",\"gridcolor\":\"white\",\"linecolor\":\"white\",\"showbackground\":true,\"ticks\":\"\",\"zerolinecolor\":\"white\",\"gridwidth\":2}},\"shapedefaults\":{\"line\":{\"color\":\"#2a3f5f\"}},\"annotationdefaults\":{\"arrowcolor\":\"#2a3f5f\",\"arrowhead\":0,\"arrowwidth\":1},\"geo\":{\"bgcolor\":\"white\",\"landcolor\":\"#E5ECF6\",\"subunitcolor\":\"white\",\"showland\":true,\"showlakes\":true,\"lakecolor\":\"white\"},\"title\":{\"x\":0.05},\"mapbox\":{\"style\":\"light\"}}},\"xaxis\":{\"anchor\":\"y\",\"domain\":[0.0,0.2125],\"title\":{\"text\":\"CountVec__max_features\"}},\"yaxis\":{\"anchor\":\"x\",\"domain\":[0.0,1.0],\"title\":{\"text\":\"Objective Value\"}},\"xaxis2\":{\"anchor\":\"y2\",\"domain\":[0.2625,0.475],\"title\":{\"text\":\"CountVec__ngram_range\"}},\"yaxis2\":{\"anchor\":\"x2\",\"domain\":[0.0,1.0],\"matches\":\"y\",\"showticklabels\":false},\"xaxis3\":{\"anchor\":\"y3\",\"domain\":[0.525,0.7375],\"title\":{\"text\":\"multNB__alpha\"}},\"yaxis3\":{\"anchor\":\"x3\",\"domain\":[0.0,1.0],\"matches\":\"y\",\"showticklabels\":false},\"xaxis4\":{\"anchor\":\"y4\",\"domain\":[0.7875,1.0],\"title\":{\"text\":\"multNB__fit_prior\"},\"type\":\"category\",\"categoryorder\":\"array\",\"categoryarray\":[true,false]},\"yaxis4\":{\"anchor\":\"x4\",\"domain\":[0.0,1.0],\"matches\":\"y\",\"showticklabels\":false},\"title\":{\"text\":\"Slice Plot\"},\"width\":1200},                        {\"responsive\": true}                    ).then(function(){\n",
              "                            \n",
              "var gd = document.getElementById('16d7c8a5-a07c-44f8-8f3c-6f087e5af2ae');\n",
              "var x = new MutationObserver(function (mutations, observer) {{\n",
              "        var display = window.getComputedStyle(gd).display;\n",
              "        if (!display || display === 'none') {{\n",
              "            console.log([gd, 'removed!']);\n",
              "            Plotly.purge(gd);\n",
              "            observer.disconnect();\n",
              "        }}\n",
              "}});\n",
              "\n",
              "// Listen for the removal of the full notebook cells\n",
              "var notebookContainer = gd.closest('#notebook-container');\n",
              "if (notebookContainer) {{\n",
              "    x.observe(notebookContainer, {childList: true});\n",
              "}}\n",
              "\n",
              "// Listen for the clearing of the current output cell\n",
              "var outputEl = gd.closest('.output');\n",
              "if (outputEl) {{\n",
              "    x.observe(outputEl, {childList: true});\n",
              "}}\n",
              "\n",
              "                        })                };                            </script>        </div>\n",
              "</body>\n",
              "</html>"
            ]
          },
          "metadata": {}
        }
      ],
      "source": [
        "plot_slice(study)"
      ]
    },
    {
      "cell_type": "markdown",
      "id": "81938197",
      "metadata": {
        "papermill": {
          "duration": 0.032415,
          "end_time": "2022-08-05T18:03:23.912065",
          "exception": false,
          "start_time": "2022-08-05T18:03:23.879650",
          "status": "completed"
        },
        "tags": [],
        "id": "81938197"
      },
      "source": [
        "Melihat nilai hiperparameter yang digunakan, kita melihat bahwa konversi model terjadi dalam rentang yang ditentukan.\n",
        "\n",
        "Jika nilai-nilai tersebut mendekati wilayah batas, maka akan perlu untuk menjalankan optimasi lagi dengan memperluas rentang beberapa hiperparameter."
      ]
    },
    {
      "cell_type": "code",
      "execution_count": 27,
      "id": "693726d6",
      "metadata": {
        "execution": {
          "iopub.execute_input": "2022-08-05T18:03:23.978095Z",
          "iopub.status.busy": "2022-08-05T18:03:23.977642Z",
          "iopub.status.idle": "2022-08-05T18:03:29.108064Z",
          "shell.execute_reply": "2022-08-05T18:03:29.107221Z"
        },
        "papermill": {
          "duration": 5.165694,
          "end_time": "2022-08-05T18:03:29.109825",
          "exception": false,
          "start_time": "2022-08-05T18:03:23.944131",
          "status": "completed"
        },
        "tags": [],
        "colab": {
          "base_uri": "https://localhost:8080/",
          "height": 542
        },
        "id": "693726d6",
        "outputId": "b85e125b-2971-4b06-b11c-96134aef61c7"
      },
      "outputs": [
        {
          "output_type": "display_data",
          "data": {
            "text/html": [
              "<html>\n",
              "<head><meta charset=\"utf-8\" /></head>\n",
              "<body>\n",
              "    <div>            <script src=\"https://cdnjs.cloudflare.com/ajax/libs/mathjax/2.7.5/MathJax.js?config=TeX-AMS-MML_SVG\"></script><script type=\"text/javascript\">if (window.MathJax && window.MathJax.Hub && window.MathJax.Hub.Config) {window.MathJax.Hub.Config({SVG: {font: \"STIX-Web\"}});}</script>                <script type=\"text/javascript\">window.PlotlyConfig = {MathJaxConfig: 'local'};</script>\n",
              "        <script charset=\"utf-8\" src=\"https://cdn.plot.ly/plotly-2.24.1.min.js\"></script>                <div id=\"144bc22c-d7f9-40e9-bd07-0be304389a8e\" class=\"plotly-graph-div\" style=\"height:525px; width:100%;\"></div>            <script type=\"text/javascript\">                                    window.PLOTLYENV=window.PLOTLYENV || {};                                    if (document.getElementById(\"144bc22c-d7f9-40e9-bd07-0be304389a8e\")) {                    Plotly.newPlot(                        \"144bc22c-d7f9-40e9-bd07-0be304389a8e\",                        [{\"cliponaxis\":false,\"hovertemplate\":[\"CountVec__max_features (IntDistribution): 0.09640930335466755\\u003cextra\\u003e\\u003c\\u002fextra\\u003e\",\"multNB__fit_prior (CategoricalDistribution): 0.16717523856860272\\u003cextra\\u003e\\u003c\\u002fextra\\u003e\",\"CountVec__ngram_range (IntDistribution): 0.2901107047576132\\u003cextra\\u003e\\u003c\\u002fextra\\u003e\",\"multNB__alpha (FloatDistribution): 0.44630475331911657\\u003cextra\\u003e\\u003c\\u002fextra\\u003e\"],\"name\":\"Objective Value\",\"orientation\":\"h\",\"text\":[\"0.10\",\"0.17\",\"0.29\",\"0.45\"],\"textposition\":\"outside\",\"x\":[0.09640930335466755,0.16717523856860272,0.2901107047576132,0.44630475331911657],\"y\":[\"CountVec__max_features\",\"multNB__fit_prior\",\"CountVec__ngram_range\",\"multNB__alpha\"],\"type\":\"bar\"}],                        {\"title\":{\"text\":\"Hyperparameter Importances\"},\"xaxis\":{\"title\":{\"text\":\"Hyperparameter Importance\"}},\"yaxis\":{\"title\":{\"text\":\"Hyperparameter\"}},\"template\":{\"data\":{\"histogram2dcontour\":[{\"type\":\"histogram2dcontour\",\"colorbar\":{\"outlinewidth\":0,\"ticks\":\"\"},\"colorscale\":[[0.0,\"#0d0887\"],[0.1111111111111111,\"#46039f\"],[0.2222222222222222,\"#7201a8\"],[0.3333333333333333,\"#9c179e\"],[0.4444444444444444,\"#bd3786\"],[0.5555555555555556,\"#d8576b\"],[0.6666666666666666,\"#ed7953\"],[0.7777777777777778,\"#fb9f3a\"],[0.8888888888888888,\"#fdca26\"],[1.0,\"#f0f921\"]]}],\"choropleth\":[{\"type\":\"choropleth\",\"colorbar\":{\"outlinewidth\":0,\"ticks\":\"\"}}],\"histogram2d\":[{\"type\":\"histogram2d\",\"colorbar\":{\"outlinewidth\":0,\"ticks\":\"\"},\"colorscale\":[[0.0,\"#0d0887\"],[0.1111111111111111,\"#46039f\"],[0.2222222222222222,\"#7201a8\"],[0.3333333333333333,\"#9c179e\"],[0.4444444444444444,\"#bd3786\"],[0.5555555555555556,\"#d8576b\"],[0.6666666666666666,\"#ed7953\"],[0.7777777777777778,\"#fb9f3a\"],[0.8888888888888888,\"#fdca26\"],[1.0,\"#f0f921\"]]}],\"heatmap\":[{\"type\":\"heatmap\",\"colorbar\":{\"outlinewidth\":0,\"ticks\":\"\"},\"colorscale\":[[0.0,\"#0d0887\"],[0.1111111111111111,\"#46039f\"],[0.2222222222222222,\"#7201a8\"],[0.3333333333333333,\"#9c179e\"],[0.4444444444444444,\"#bd3786\"],[0.5555555555555556,\"#d8576b\"],[0.6666666666666666,\"#ed7953\"],[0.7777777777777778,\"#fb9f3a\"],[0.8888888888888888,\"#fdca26\"],[1.0,\"#f0f921\"]]}],\"heatmapgl\":[{\"type\":\"heatmapgl\",\"colorbar\":{\"outlinewidth\":0,\"ticks\":\"\"},\"colorscale\":[[0.0,\"#0d0887\"],[0.1111111111111111,\"#46039f\"],[0.2222222222222222,\"#7201a8\"],[0.3333333333333333,\"#9c179e\"],[0.4444444444444444,\"#bd3786\"],[0.5555555555555556,\"#d8576b\"],[0.6666666666666666,\"#ed7953\"],[0.7777777777777778,\"#fb9f3a\"],[0.8888888888888888,\"#fdca26\"],[1.0,\"#f0f921\"]]}],\"contourcarpet\":[{\"type\":\"contourcarpet\",\"colorbar\":{\"outlinewidth\":0,\"ticks\":\"\"}}],\"contour\":[{\"type\":\"contour\",\"colorbar\":{\"outlinewidth\":0,\"ticks\":\"\"},\"colorscale\":[[0.0,\"#0d0887\"],[0.1111111111111111,\"#46039f\"],[0.2222222222222222,\"#7201a8\"],[0.3333333333333333,\"#9c179e\"],[0.4444444444444444,\"#bd3786\"],[0.5555555555555556,\"#d8576b\"],[0.6666666666666666,\"#ed7953\"],[0.7777777777777778,\"#fb9f3a\"],[0.8888888888888888,\"#fdca26\"],[1.0,\"#f0f921\"]]}],\"surface\":[{\"type\":\"surface\",\"colorbar\":{\"outlinewidth\":0,\"ticks\":\"\"},\"colorscale\":[[0.0,\"#0d0887\"],[0.1111111111111111,\"#46039f\"],[0.2222222222222222,\"#7201a8\"],[0.3333333333333333,\"#9c179e\"],[0.4444444444444444,\"#bd3786\"],[0.5555555555555556,\"#d8576b\"],[0.6666666666666666,\"#ed7953\"],[0.7777777777777778,\"#fb9f3a\"],[0.8888888888888888,\"#fdca26\"],[1.0,\"#f0f921\"]]}],\"mesh3d\":[{\"type\":\"mesh3d\",\"colorbar\":{\"outlinewidth\":0,\"ticks\":\"\"}}],\"scatter\":[{\"fillpattern\":{\"fillmode\":\"overlay\",\"size\":10,\"solidity\":0.2},\"type\":\"scatter\"}],\"parcoords\":[{\"type\":\"parcoords\",\"line\":{\"colorbar\":{\"outlinewidth\":0,\"ticks\":\"\"}}}],\"scatterpolargl\":[{\"type\":\"scatterpolargl\",\"marker\":{\"colorbar\":{\"outlinewidth\":0,\"ticks\":\"\"}}}],\"bar\":[{\"error_x\":{\"color\":\"#2a3f5f\"},\"error_y\":{\"color\":\"#2a3f5f\"},\"marker\":{\"line\":{\"color\":\"#E5ECF6\",\"width\":0.5},\"pattern\":{\"fillmode\":\"overlay\",\"size\":10,\"solidity\":0.2}},\"type\":\"bar\"}],\"scattergeo\":[{\"type\":\"scattergeo\",\"marker\":{\"colorbar\":{\"outlinewidth\":0,\"ticks\":\"\"}}}],\"scatterpolar\":[{\"type\":\"scatterpolar\",\"marker\":{\"colorbar\":{\"outlinewidth\":0,\"ticks\":\"\"}}}],\"histogram\":[{\"marker\":{\"pattern\":{\"fillmode\":\"overlay\",\"size\":10,\"solidity\":0.2}},\"type\":\"histogram\"}],\"scattergl\":[{\"type\":\"scattergl\",\"marker\":{\"colorbar\":{\"outlinewidth\":0,\"ticks\":\"\"}}}],\"scatter3d\":[{\"type\":\"scatter3d\",\"line\":{\"colorbar\":{\"outlinewidth\":0,\"ticks\":\"\"}},\"marker\":{\"colorbar\":{\"outlinewidth\":0,\"ticks\":\"\"}}}],\"scattermapbox\":[{\"type\":\"scattermapbox\",\"marker\":{\"colorbar\":{\"outlinewidth\":0,\"ticks\":\"\"}}}],\"scatterternary\":[{\"type\":\"scatterternary\",\"marker\":{\"colorbar\":{\"outlinewidth\":0,\"ticks\":\"\"}}}],\"scattercarpet\":[{\"type\":\"scattercarpet\",\"marker\":{\"colorbar\":{\"outlinewidth\":0,\"ticks\":\"\"}}}],\"carpet\":[{\"aaxis\":{\"endlinecolor\":\"#2a3f5f\",\"gridcolor\":\"white\",\"linecolor\":\"white\",\"minorgridcolor\":\"white\",\"startlinecolor\":\"#2a3f5f\"},\"baxis\":{\"endlinecolor\":\"#2a3f5f\",\"gridcolor\":\"white\",\"linecolor\":\"white\",\"minorgridcolor\":\"white\",\"startlinecolor\":\"#2a3f5f\"},\"type\":\"carpet\"}],\"table\":[{\"cells\":{\"fill\":{\"color\":\"#EBF0F8\"},\"line\":{\"color\":\"white\"}},\"header\":{\"fill\":{\"color\":\"#C8D4E3\"},\"line\":{\"color\":\"white\"}},\"type\":\"table\"}],\"barpolar\":[{\"marker\":{\"line\":{\"color\":\"#E5ECF6\",\"width\":0.5},\"pattern\":{\"fillmode\":\"overlay\",\"size\":10,\"solidity\":0.2}},\"type\":\"barpolar\"}],\"pie\":[{\"automargin\":true,\"type\":\"pie\"}]},\"layout\":{\"autotypenumbers\":\"strict\",\"colorway\":[\"#636efa\",\"#EF553B\",\"#00cc96\",\"#ab63fa\",\"#FFA15A\",\"#19d3f3\",\"#FF6692\",\"#B6E880\",\"#FF97FF\",\"#FECB52\"],\"font\":{\"color\":\"#2a3f5f\"},\"hovermode\":\"closest\",\"hoverlabel\":{\"align\":\"left\"},\"paper_bgcolor\":\"white\",\"plot_bgcolor\":\"#E5ECF6\",\"polar\":{\"bgcolor\":\"#E5ECF6\",\"angularaxis\":{\"gridcolor\":\"white\",\"linecolor\":\"white\",\"ticks\":\"\"},\"radialaxis\":{\"gridcolor\":\"white\",\"linecolor\":\"white\",\"ticks\":\"\"}},\"ternary\":{\"bgcolor\":\"#E5ECF6\",\"aaxis\":{\"gridcolor\":\"white\",\"linecolor\":\"white\",\"ticks\":\"\"},\"baxis\":{\"gridcolor\":\"white\",\"linecolor\":\"white\",\"ticks\":\"\"},\"caxis\":{\"gridcolor\":\"white\",\"linecolor\":\"white\",\"ticks\":\"\"}},\"coloraxis\":{\"colorbar\":{\"outlinewidth\":0,\"ticks\":\"\"}},\"colorscale\":{\"sequential\":[[0.0,\"#0d0887\"],[0.1111111111111111,\"#46039f\"],[0.2222222222222222,\"#7201a8\"],[0.3333333333333333,\"#9c179e\"],[0.4444444444444444,\"#bd3786\"],[0.5555555555555556,\"#d8576b\"],[0.6666666666666666,\"#ed7953\"],[0.7777777777777778,\"#fb9f3a\"],[0.8888888888888888,\"#fdca26\"],[1.0,\"#f0f921\"]],\"sequentialminus\":[[0.0,\"#0d0887\"],[0.1111111111111111,\"#46039f\"],[0.2222222222222222,\"#7201a8\"],[0.3333333333333333,\"#9c179e\"],[0.4444444444444444,\"#bd3786\"],[0.5555555555555556,\"#d8576b\"],[0.6666666666666666,\"#ed7953\"],[0.7777777777777778,\"#fb9f3a\"],[0.8888888888888888,\"#fdca26\"],[1.0,\"#f0f921\"]],\"diverging\":[[0,\"#8e0152\"],[0.1,\"#c51b7d\"],[0.2,\"#de77ae\"],[0.3,\"#f1b6da\"],[0.4,\"#fde0ef\"],[0.5,\"#f7f7f7\"],[0.6,\"#e6f5d0\"],[0.7,\"#b8e186\"],[0.8,\"#7fbc41\"],[0.9,\"#4d9221\"],[1,\"#276419\"]]},\"xaxis\":{\"gridcolor\":\"white\",\"linecolor\":\"white\",\"ticks\":\"\",\"title\":{\"standoff\":15},\"zerolinecolor\":\"white\",\"automargin\":true,\"zerolinewidth\":2},\"yaxis\":{\"gridcolor\":\"white\",\"linecolor\":\"white\",\"ticks\":\"\",\"title\":{\"standoff\":15},\"zerolinecolor\":\"white\",\"automargin\":true,\"zerolinewidth\":2},\"scene\":{\"xaxis\":{\"backgroundcolor\":\"#E5ECF6\",\"gridcolor\":\"white\",\"linecolor\":\"white\",\"showbackground\":true,\"ticks\":\"\",\"zerolinecolor\":\"white\",\"gridwidth\":2},\"yaxis\":{\"backgroundcolor\":\"#E5ECF6\",\"gridcolor\":\"white\",\"linecolor\":\"white\",\"showbackground\":true,\"ticks\":\"\",\"zerolinecolor\":\"white\",\"gridwidth\":2},\"zaxis\":{\"backgroundcolor\":\"#E5ECF6\",\"gridcolor\":\"white\",\"linecolor\":\"white\",\"showbackground\":true,\"ticks\":\"\",\"zerolinecolor\":\"white\",\"gridwidth\":2}},\"shapedefaults\":{\"line\":{\"color\":\"#2a3f5f\"}},\"annotationdefaults\":{\"arrowcolor\":\"#2a3f5f\",\"arrowhead\":0,\"arrowwidth\":1},\"geo\":{\"bgcolor\":\"white\",\"landcolor\":\"#E5ECF6\",\"subunitcolor\":\"white\",\"showland\":true,\"showlakes\":true,\"lakecolor\":\"white\"},\"title\":{\"x\":0.05},\"mapbox\":{\"style\":\"light\"}}}},                        {\"responsive\": true}                    ).then(function(){\n",
              "                            \n",
              "var gd = document.getElementById('144bc22c-d7f9-40e9-bd07-0be304389a8e');\n",
              "var x = new MutationObserver(function (mutations, observer) {{\n",
              "        var display = window.getComputedStyle(gd).display;\n",
              "        if (!display || display === 'none') {{\n",
              "            console.log([gd, 'removed!']);\n",
              "            Plotly.purge(gd);\n",
              "            observer.disconnect();\n",
              "        }}\n",
              "}});\n",
              "\n",
              "// Listen for the removal of the full notebook cells\n",
              "var notebookContainer = gd.closest('#notebook-container');\n",
              "if (notebookContainer) {{\n",
              "    x.observe(notebookContainer, {childList: true});\n",
              "}}\n",
              "\n",
              "// Listen for the clearing of the current output cell\n",
              "var outputEl = gd.closest('.output');\n",
              "if (outputEl) {{\n",
              "    x.observe(outputEl, {childList: true});\n",
              "}}\n",
              "\n",
              "                        })                };                            </script>        </div>\n",
              "</body>\n",
              "</html>"
            ]
          },
          "metadata": {}
        }
      ],
      "source": [
        "plot_param_importances(study)"
      ]
    },
    {
      "cell_type": "markdown",
      "id": "9b440486",
      "metadata": {
        "papermill": {
          "duration": 0.032886,
          "end_time": "2022-08-05T18:03:29.176606",
          "exception": false,
          "start_time": "2022-08-05T18:03:29.143720",
          "status": "completed"
        },
        "tags": [],
        "id": "9b440486"
      },
      "source": [
        "Melihat grafik pentingnya hiperparameter, jika perlu menjalankan optimasi lagi dan memiliki waktu pemrosesan yang tinggi, beberapa hiperparameter tersebut bisa dihapus, seperti fit_prior dan alpha dari model Naive Bayes."
      ]
    },
    {
      "cell_type": "code",
      "execution_count": 28,
      "id": "c4a61a50",
      "metadata": {
        "execution": {
          "iopub.execute_input": "2022-08-05T18:03:29.243464Z",
          "iopub.status.busy": "2022-08-05T18:03:29.243121Z",
          "iopub.status.idle": "2022-08-05T18:03:29.248095Z",
          "shell.execute_reply": "2022-08-05T18:03:29.247538Z"
        },
        "papermill": {
          "duration": 0.040135,
          "end_time": "2022-08-05T18:03:29.249809",
          "exception": false,
          "start_time": "2022-08-05T18:03:29.209674",
          "status": "completed"
        },
        "tags": [],
        "colab": {
          "base_uri": "https://localhost:8080/"
        },
        "id": "c4a61a50",
        "outputId": "bc5b43a1-4273-4a07-90d8-0d796189fe15"
      },
      "outputs": [
        {
          "output_type": "execute_result",
          "data": {
            "text/plain": [
              "{'CountVec__ngram_range': 3,\n",
              " 'CountVec__max_features': 10327,\n",
              " 'multNB__alpha': 0.20898272680337582,\n",
              " 'multNB__fit_prior': False}"
            ]
          },
          "metadata": {},
          "execution_count": 28
        }
      ],
      "source": [
        "study.best_params"
      ]
    },
    {
      "cell_type": "code",
      "execution_count": 29,
      "id": "c1936f2b",
      "metadata": {
        "execution": {
          "iopub.execute_input": "2022-08-05T18:03:29.316526Z",
          "iopub.status.busy": "2022-08-05T18:03:29.316217Z",
          "iopub.status.idle": "2022-08-05T18:03:32.647502Z",
          "shell.execute_reply": "2022-08-05T18:03:32.642318Z"
        },
        "papermill": {
          "duration": 3.367426,
          "end_time": "2022-08-05T18:03:32.649833",
          "exception": false,
          "start_time": "2022-08-05T18:03:29.282407",
          "status": "completed"
        },
        "tags": [],
        "colab": {
          "base_uri": "https://localhost:8080/"
        },
        "id": "c1936f2b",
        "outputId": "2b36f398-4162-424b-86dd-2e50cd9d65cf"
      },
      "outputs": [
        {
          "output_type": "stream",
          "name": "stdout",
          "text": [
            "[[249 289]\n",
            " [293 333]]\n",
            "0.5\n",
            "              precision    recall  f1-score   support\n",
            "\n",
            "           0       0.46      0.46      0.46       538\n",
            "           1       0.54      0.53      0.53       626\n",
            "\n",
            "    accuracy                           0.50      1164\n",
            "   macro avg       0.50      0.50      0.50      1164\n",
            "weighted avg       0.50      0.50      0.50      1164\n",
            "\n"
          ]
        }
      ],
      "source": [
        "CountVec = CountVectorizer(ngram_range=(3, 3), max_features=14397)\n",
        "x_train = CountVec.fit_transform(train_final)\n",
        "y_train = train['Label']\n",
        "\n",
        "# Menerapkan model Naive Bayes\n",
        "NBmodel = MultinomialNB(alpha=0.317, fit_prior=True)  # Membuat model\n",
        "NBmodel.fit(x_train, y_train)\n",
        "\n",
        "# Melakukan prediksi model\n",
        "x_test = CountVec.transform(test_final)\n",
        "y_test = test['Label']\n",
        "prediction = NBmodel.predict(x_test)\n",
        "\n",
        "# Memeriksa akurasi model\n",
        "matrix = confusion_matrix(y_test, prediction)\n",
        "print(matrix)\n",
        "score = accuracy_score(y_test, prediction)\n",
        "print(score)\n",
        "report = classification_report(y_test, prediction)\n",
        "print(report)"
      ]
    },
    {
      "cell_type": "code",
      "source": [
        "import matplotlib.pyplot as plt\n",
        "import seaborn as sns\n",
        "\n",
        "# Membuat confusion matrix\n",
        "plt.figure(figsize=(8, 6))\n",
        "sns.heatmap(matrix, annot=True, fmt=\"d\", cmap=\"Blues\", cbar=False,\n",
        "            xticklabels=['Negative', 'Positive'], yticklabels=['Negative', 'Positive'])\n",
        "plt.xlabel('Predicted Label')\n",
        "plt.ylabel('True Label')\n",
        "plt.title('Confusion Matrix')\n",
        "plt.show()\n"
      ],
      "metadata": {
        "colab": {
          "base_uri": "https://localhost:8080/",
          "height": 564
        },
        "id": "EC9BZWyd7aE8",
        "outputId": "61b0b4c6-94d6-4e38-d9c8-f5ccfa31ba49"
      },
      "id": "EC9BZWyd7aE8",
      "execution_count": 30,
      "outputs": [
        {
          "output_type": "display_data",
          "data": {
            "text/plain": [
              "<Figure size 800x600 with 1 Axes>"
            ],
            "image/png": "[encoded data removed]"
          },
          "metadata": {}
        }
      ]
    },
    {
      "cell_type": "code",
      "source": [
        "# Plot Classification Report\n",
        "report_dict = classification_report(y_test, prediction, output_dict=True)\n",
        "plt.figure(figsize=(8, 6))\n",
        "sns.heatmap(pd.DataFrame(report_dict).iloc[:-1, :].T, annot=True, cmap=\"Blues\")\n",
        "plt.title('Classification Report')\n",
        "plt.show()\n"
      ],
      "metadata": {
        "colab": {
          "base_uri": "https://localhost:8080/",
          "height": 545
        },
        "id": "2PijNQqa7eCl",
        "outputId": "90a3c4db-b2cf-448a-ecb3-ff9e04370951"
      },
      "id": "2PijNQqa7eCl",
      "execution_count": 31,
      "outputs": [
        {
          "output_type": "display_data",
          "data": {
            "text/plain": [
              "<Figure size 800x600 with 2 Axes>"
            ],
            "image/png": "[encoded data removed]"
          },
          "metadata": {}
        }
      ]
    },
    {
      "cell_type": "markdown",
      "id": "116aaee7",
      "metadata": {
        "papermill": {
          "duration": 0.032181,
          "end_time": "2022-08-05T18:03:32.714135",
          "exception": false,
          "start_time": "2022-08-05T18:03:32.681954",
          "status": "completed"
        },
        "tags": [],
        "id": "116aaee7"
      },
      "source": [
        "Melihat hasil optimasi, terdapat peningkatan dalam hasil akhir yang diperoleh, meningkat dari 82.5% menjadi 86.7%, mencapai tujuan yang awalnya ditetapkan.\n",
        "\n",
        "Namun, sebelum menganggapnya sebagai model final, perlu untuk mengevaluasi model Naive Bayes bersama dengan TF-IDF vectorizer."
      ]
    },
    {
      "cell_type": "code",
      "execution_count": 32,
      "id": "1630b095",
      "metadata": {
        "execution": {
          "iopub.execute_input": "2022-08-05T18:03:32.779018Z",
          "iopub.status.busy": "2022-08-05T18:03:32.778726Z",
          "iopub.status.idle": "2022-08-05T18:03:32.782105Z",
          "shell.execute_reply": "2022-08-05T18:03:32.781642Z"
        },
        "papermill": {
          "duration": 0.037802,
          "end_time": "2022-08-05T18:03:32.783691",
          "exception": false,
          "start_time": "2022-08-05T18:03:32.745889",
          "status": "completed"
        },
        "tags": [],
        "id": "1630b095"
      },
      "outputs": [],
      "source": [
        "# Membuat model yang akan dioptimalkan dengan pipeline\n",
        "model2 = Pipeline([\n",
        "    ('tfidf', TfidfVectorizer()),\n",
        "    ('multNB', MultinomialNB())\n",
        "])\n"
      ]
    },
    {
      "cell_type": "code",
      "execution_count": 33,
      "id": "43b11e8a",
      "metadata": {
        "execution": {
          "iopub.execute_input": "2022-08-05T18:03:32.850056Z",
          "iopub.status.busy": "2022-08-05T18:03:32.849769Z",
          "iopub.status.idle": "2022-08-05T18:25:41.427575Z",
          "shell.execute_reply": "2022-08-05T18:25:41.426438Z"
        },
        "papermill": {
          "duration": 1328.612879,
          "end_time": "2022-08-05T18:25:41.429358",
          "exception": false,
          "start_time": "2022-08-05T18:03:32.816479",
          "status": "completed"
        },
        "scrolled": true,
        "tags": [],
        "colab": {
          "base_uri": "https://localhost:8080/"
        },
        "id": "43b11e8a",
        "outputId": "f9b04467-52c3-4f70-ab4b-7b7ab675ef2c"
      },
      "outputs": [
        {
          "output_type": "stream",
          "name": "stderr",
          "text": [
            "[I 2024-02-09 14:52:43,605] A new study created in memory with name: no-name-7a8f6bfb-918d-45cd-aeb8-5044b7883cd7\n",
            "<ipython-input-33-97c3010d4870>:5: FutureWarning:\n",
            "\n",
            "suggest_uniform has been deprecated in v3.0.0. This feature will be removed in v6.0.0. See https://github.com/optuna/optuna/releases/tag/v3.0.0. Use suggest_float instead.\n",
            "\n",
            "[I 2024-02-09 14:52:48,646] Trial 0 finished with value: 0.533 and parameters: {'tfidf__ngram_range': 3, 'tfidf__max_features': 11093, 'multNB__alpha': 0.904134449057244, 'multNB__fit_prior': True}. Best is trial 0 with value: 0.533.\n",
            "<ipython-input-33-97c3010d4870>:5: FutureWarning:\n",
            "\n",
            "suggest_uniform has been deprecated in v3.0.0. This feature will be removed in v6.0.0. See https://github.com/optuna/optuna/releases/tag/v3.0.0. Use suggest_float instead.\n",
            "\n",
            "[I 2024-02-09 14:52:49,679] Trial 1 finished with value: 0.496 and parameters: {'tfidf__ngram_range': 1, 'tfidf__max_features': 11774, 'multNB__alpha': 0.12039314346151064, 'multNB__fit_prior': False}. Best is trial 0 with value: 0.533.\n",
            "<ipython-input-33-97c3010d4870>:5: FutureWarning:\n",
            "\n",
            "suggest_uniform has been deprecated in v3.0.0. This feature will be removed in v6.0.0. See https://github.com/optuna/optuna/releases/tag/v3.0.0. Use suggest_float instead.\n",
            "\n",
            "[I 2024-02-09 14:52:51,648] Trial 2 finished with value: 0.503 and parameters: {'tfidf__ngram_range': 2, 'tfidf__max_features': 10322, 'multNB__alpha': 0.21654560138840062, 'multNB__fit_prior': True}. Best is trial 0 with value: 0.533.\n",
            "<ipython-input-33-97c3010d4870>:5: FutureWarning:\n",
            "\n",
            "suggest_uniform has been deprecated in v3.0.0. This feature will be removed in v6.0.0. See https://github.com/optuna/optuna/releases/tag/v3.0.0. Use suggest_float instead.\n",
            "\n",
            "[I 2024-02-09 14:52:54,741] Trial 3 finished with value: 0.478 and parameters: {'tfidf__ngram_range': 4, 'tfidf__max_features': 8416, 'multNB__alpha': 0.09136646429648188, 'multNB__fit_prior': False}. Best is trial 0 with value: 0.533.\n",
            "<ipython-input-33-97c3010d4870>:5: FutureWarning:\n",
            "\n",
            "suggest_uniform has been deprecated in v3.0.0. This feature will be removed in v6.0.0. See https://github.com/optuna/optuna/releases/tag/v3.0.0. Use suggest_float instead.\n",
            "\n",
            "[I 2024-02-09 14:52:57,034] Trial 4 finished with value: 0.484 and parameters: {'tfidf__ngram_range': 4, 'tfidf__max_features': 10822, 'multNB__alpha': 0.5634167286152522, 'multNB__fit_prior': False}. Best is trial 0 with value: 0.533.\n",
            "<ipython-input-33-97c3010d4870>:5: FutureWarning:\n",
            "\n",
            "suggest_uniform has been deprecated in v3.0.0. This feature will be removed in v6.0.0. See https://github.com/optuna/optuna/releases/tag/v3.0.0. Use suggest_float instead.\n",
            "\n",
            "[I 2024-02-09 14:52:59,280] Trial 5 finished with value: 0.516 and parameters: {'tfidf__ngram_range': 3, 'tfidf__max_features': 9547, 'multNB__alpha': 0.18085411529826767, 'multNB__fit_prior': False}. Best is trial 0 with value: 0.533.\n",
            "<ipython-input-33-97c3010d4870>:5: FutureWarning:\n",
            "\n",
            "suggest_uniform has been deprecated in v3.0.0. This feature will be removed in v6.0.0. See https://github.com/optuna/optuna/releases/tag/v3.0.0. Use suggest_float instead.\n",
            "\n",
            "[I 2024-02-09 14:53:00,163] Trial 6 finished with value: 0.491 and parameters: {'tfidf__ngram_range': 1, 'tfidf__max_features': 12051, 'multNB__alpha': 0.11354199225923967, 'multNB__fit_prior': False}. Best is trial 0 with value: 0.533.\n",
            "<ipython-input-33-97c3010d4870>:5: FutureWarning:\n",
            "\n",
            "suggest_uniform has been deprecated in v3.0.0. This feature will be removed in v6.0.0. See https://github.com/optuna/optuna/releases/tag/v3.0.0. Use suggest_float instead.\n",
            "\n",
            "[I 2024-02-09 14:53:02,005] Trial 7 finished with value: 0.525 and parameters: {'tfidf__ngram_range': 2, 'tfidf__max_features': 10890, 'multNB__alpha': 0.6070808501187803, 'multNB__fit_prior': True}. Best is trial 0 with value: 0.533.\n",
            "<ipython-input-33-97c3010d4870>:5: FutureWarning:\n",
            "\n",
            "suggest_uniform has been deprecated in v3.0.0. This feature will be removed in v6.0.0. See https://github.com/optuna/optuna/releases/tag/v3.0.0. Use suggest_float instead.\n",
            "\n",
            "[I 2024-02-09 14:53:04,695] Trial 8 finished with value: 0.53 and parameters: {'tfidf__ngram_range': 3, 'tfidf__max_features': 12599, 'multNB__alpha': 0.9328802184362023, 'multNB__fit_prior': True}. Best is trial 0 with value: 0.533.\n",
            "<ipython-input-33-97c3010d4870>:5: FutureWarning:\n",
            "\n",
            "suggest_uniform has been deprecated in v3.0.0. This feature will be removed in v6.0.0. See https://github.com/optuna/optuna/releases/tag/v3.0.0. Use suggest_float instead.\n",
            "\n",
            "[I 2024-02-09 14:53:07,428] Trial 9 finished with value: 0.516 and parameters: {'tfidf__ngram_range': 3, 'tfidf__max_features': 11919, 'multNB__alpha': 0.7470231045885882, 'multNB__fit_prior': False}. Best is trial 0 with value: 0.533.\n"
          ]
        }
      ],
      "source": [
        "def objective2(trial):\n",
        "\n",
        "    x_ngram = trial.suggest_int('tfidf__ngram_range', 1, 4)\n",
        "    tfidf__max_features = trial.suggest_int('tfidf__max_features', 8000, 14000)\n",
        "    multNB__alpha = trial.suggest_uniform('multNB__alpha', 0.0, 1)\n",
        "    multNB__fit_prior = trial.suggest_categorical('multNB__fit_prior', [True, False])\n",
        "\n",
        "    params = {\n",
        "        'tfidf__ngram_range': (x_ngram, x_ngram),\n",
        "        'tfidf__max_features': tfidf__max_features,\n",
        "        'multNB__alpha': multNB__alpha ,\n",
        "        'multNB__fit_prior': multNB__fit_prior\n",
        "    }\n",
        "\n",
        "    model2.set_params(**params)\n",
        "    model2.fit(train_final, train['Label'])\n",
        "\n",
        "    return model_performance(model2)\n",
        "\n",
        "\n",
        "study2 = optuna.create_study(direction=\"maximize\")\n",
        "study2.optimize(objective2, n_trials=10)"
      ]
    },
    {
      "cell_type": "code",
      "execution_count": 34,
      "id": "b12f77a3",
      "metadata": {
        "execution": {
          "iopub.execute_input": "2022-08-05T18:25:41.538717Z",
          "iopub.status.busy": "2022-08-05T18:25:41.538429Z",
          "iopub.status.idle": "2022-08-05T18:25:41.699715Z",
          "shell.execute_reply": "2022-08-05T18:25:41.698745Z"
        },
        "papermill": {
          "duration": 0.217924,
          "end_time": "2022-08-05T18:25:41.701707",
          "exception": false,
          "start_time": "2022-08-05T18:25:41.483783",
          "status": "completed"
        },
        "tags": [],
        "colab": {
          "base_uri": "https://localhost:8080/",
          "height": 562
        },
        "id": "b12f77a3",
        "outputId": "634f782a-f1bf-49ee-d0a5-87c430a6ba7c"
      },
      "outputs": [
        {
          "output_type": "display_data",
          "data": {
            "text/html": [
              "<html>\n",
              "<head><meta charset=\"utf-8\" /></head>\n",
              "<body>\n",
              "    <div>            <script src=\"https://cdnjs.cloudflare.com/ajax/libs/mathjax/2.7.5/MathJax.js?config=TeX-AMS-MML_SVG\"></script><script type=\"text/javascript\">if (window.MathJax && window.MathJax.Hub && window.MathJax.Hub.Config) {window.MathJax.Hub.Config({SVG: {font: \"STIX-Web\"}});}</script>                <script type=\"text/javascript\">window.PlotlyConfig = {MathJaxConfig: 'local'};</script>\n",
              "        <script charset=\"utf-8\" src=\"https://cdn.plot.ly/plotly-2.24.1.min.js\"></script>                <div id=\"c37d3b3d-1a7f-4b1c-b94c-d1b70f0b27d6\" class=\"plotly-graph-div\" style=\"height:525px; width:1200px;\"></div>            <script type=\"text/javascript\">                                    window.PLOTLYENV=window.PLOTLYENV || {};                                    if (document.getElementById(\"c37d3b3d-1a7f-4b1c-b94c-d1b70f0b27d6\")) {                    Plotly.newPlot(                        \"c37d3b3d-1a7f-4b1c-b94c-d1b70f0b27d6\",                        [{\"marker\":{\"color\":[0,1,2,3,4,5,6,7,8,9],\"colorbar\":{\"title\":{\"text\":\"Trial\"},\"x\":1.0,\"xpad\":40},\"colorscale\":[[0.0,\"rgb(247,251,255)\"],[0.125,\"rgb(222,235,247)\"],[0.25,\"rgb(198,219,239)\"],[0.375,\"rgb(158,202,225)\"],[0.5,\"rgb(107,174,214)\"],[0.625,\"rgb(66,146,198)\"],[0.75,\"rgb(33,113,181)\"],[0.875,\"rgb(8,81,156)\"],[1.0,\"rgb(8,48,107)\"]],\"line\":{\"color\":\"Grey\",\"width\":0.5},\"showscale\":true},\"mode\":\"markers\",\"name\":\"Feasible Trial\",\"showlegend\":false,\"x\":[0.904134449057244,0.12039314346151064,0.21654560138840062,0.09136646429648188,0.5634167286152522,0.18085411529826767,0.11354199225923967,0.6070808501187803,0.9328802184362023,0.7470231045885882],\"y\":[0.533,0.496,0.503,0.478,0.484,0.516,0.491,0.525,0.53,0.516],\"type\":\"scatter\",\"xaxis\":\"x\",\"yaxis\":\"y\"},{\"marker\":{\"color\":[0,1,2,3,4,5,6,7,8,9],\"colorbar\":{\"title\":{\"text\":\"Trial\"},\"x\":1.0,\"xpad\":40},\"colorscale\":[[0.0,\"rgb(247,251,255)\"],[0.125,\"rgb(222,235,247)\"],[0.25,\"rgb(198,219,239)\"],[0.375,\"rgb(158,202,225)\"],[0.5,\"rgb(107,174,214)\"],[0.625,\"rgb(66,146,198)\"],[0.75,\"rgb(33,113,181)\"],[0.875,\"rgb(8,81,156)\"],[1.0,\"rgb(8,48,107)\"]],\"line\":{\"color\":\"Grey\",\"width\":0.5},\"showscale\":false},\"mode\":\"markers\",\"name\":\"Feasible Trial\",\"showlegend\":false,\"x\":[true,false,true,false,false,false,false,true,true,false],\"y\":[0.533,0.496,0.503,0.478,0.484,0.516,0.491,0.525,0.53,0.516],\"type\":\"scatter\",\"xaxis\":\"x2\",\"yaxis\":\"y2\"},{\"marker\":{\"color\":[0,1,2,3,4,5,6,7,8,9],\"colorbar\":{\"title\":{\"text\":\"Trial\"},\"x\":1.0,\"xpad\":40},\"colorscale\":[[0.0,\"rgb(247,251,255)\"],[0.125,\"rgb(222,235,247)\"],[0.25,\"rgb(198,219,239)\"],[0.375,\"rgb(158,202,225)\"],[0.5,\"rgb(107,174,214)\"],[0.625,\"rgb(66,146,198)\"],[0.75,\"rgb(33,113,181)\"],[0.875,\"rgb(8,81,156)\"],[1.0,\"rgb(8,48,107)\"]],\"line\":{\"color\":\"Grey\",\"width\":0.5},\"showscale\":false},\"mode\":\"markers\",\"name\":\"Feasible Trial\",\"showlegend\":false,\"x\":[11093,11774,10322,8416,10822,9547,12051,10890,12599,11919],\"y\":[0.533,0.496,0.503,0.478,0.484,0.516,0.491,0.525,0.53,0.516],\"type\":\"scatter\",\"xaxis\":\"x3\",\"yaxis\":\"y3\"},{\"marker\":{\"color\":[0,1,2,3,4,5,6,7,8,9],\"colorbar\":{\"title\":{\"text\":\"Trial\"},\"x\":1.0,\"xpad\":40},\"colorscale\":[[0.0,\"rgb(247,251,255)\"],[0.125,\"rgb(222,235,247)\"],[0.25,\"rgb(198,219,239)\"],[0.375,\"rgb(158,202,225)\"],[0.5,\"rgb(107,174,214)\"],[0.625,\"rgb(66,146,198)\"],[0.75,\"rgb(33,113,181)\"],[0.875,\"rgb(8,81,156)\"],[1.0,\"rgb(8,48,107)\"]],\"line\":{\"color\":\"Grey\",\"width\":0.5},\"showscale\":false},\"mode\":\"markers\",\"name\":\"Feasible Trial\",\"showlegend\":false,\"x\":[3,1,2,4,4,3,1,2,3,3],\"y\":[0.533,0.496,0.503,0.478,0.484,0.516,0.491,0.525,0.53,0.516],\"type\":\"scatter\",\"xaxis\":\"x4\",\"yaxis\":\"y4\"}],                        {\"template\":{\"data\":{\"histogram2dcontour\":[{\"type\":\"histogram2dcontour\",\"colorbar\":{\"outlinewidth\":0,\"ticks\":\"\"},\"colorscale\":[[0.0,\"#0d0887\"],[0.1111111111111111,\"#46039f\"],[0.2222222222222222,\"#7201a8\"],[0.3333333333333333,\"#9c179e\"],[0.4444444444444444,\"#bd3786\"],[0.5555555555555556,\"#d8576b\"],[0.6666666666666666,\"#ed7953\"],[0.7777777777777778,\"#fb9f3a\"],[0.8888888888888888,\"#fdca26\"],[1.0,\"#f0f921\"]]}],\"choropleth\":[{\"type\":\"choropleth\",\"colorbar\":{\"outlinewidth\":0,\"ticks\":\"\"}}],\"histogram2d\":[{\"type\":\"histogram2d\",\"colorbar\":{\"outlinewidth\":0,\"ticks\":\"\"},\"colorscale\":[[0.0,\"#0d0887\"],[0.1111111111111111,\"#46039f\"],[0.2222222222222222,\"#7201a8\"],[0.3333333333333333,\"#9c179e\"],[0.4444444444444444,\"#bd3786\"],[0.5555555555555556,\"#d8576b\"],[0.6666666666666666,\"#ed7953\"],[0.7777777777777778,\"#fb9f3a\"],[0.8888888888888888,\"#fdca26\"],[1.0,\"#f0f921\"]]}],\"heatmap\":[{\"type\":\"heatmap\",\"colorbar\":{\"outlinewidth\":0,\"ticks\":\"\"},\"colorscale\":[[0.0,\"#0d0887\"],[0.1111111111111111,\"#46039f\"],[0.2222222222222222,\"#7201a8\"],[0.3333333333333333,\"#9c179e\"],[0.4444444444444444,\"#bd3786\"],[0.5555555555555556,\"#d8576b\"],[0.6666666666666666,\"#ed7953\"],[0.7777777777777778,\"#fb9f3a\"],[0.8888888888888888,\"#fdca26\"],[1.0,\"#f0f921\"]]}],\"heatmapgl\":[{\"type\":\"heatmapgl\",\"colorbar\":{\"outlinewidth\":0,\"ticks\":\"\"},\"colorscale\":[[0.0,\"#0d0887\"],[0.1111111111111111,\"#46039f\"],[0.2222222222222222,\"#7201a8\"],[0.3333333333333333,\"#9c179e\"],[0.4444444444444444,\"#bd3786\"],[0.5555555555555556,\"#d8576b\"],[0.6666666666666666,\"#ed7953\"],[0.7777777777777778,\"#fb9f3a\"],[0.8888888888888888,\"#fdca26\"],[1.0,\"#f0f921\"]]}],\"contourcarpet\":[{\"type\":\"contourcarpet\",\"colorbar\":{\"outlinewidth\":0,\"ticks\":\"\"}}],\"contour\":[{\"type\":\"contour\",\"colorbar\":{\"outlinewidth\":0,\"ticks\":\"\"},\"colorscale\":[[0.0,\"#0d0887\"],[0.1111111111111111,\"#46039f\"],[0.2222222222222222,\"#7201a8\"],[0.3333333333333333,\"#9c179e\"],[0.4444444444444444,\"#bd3786\"],[0.5555555555555556,\"#d8576b\"],[0.6666666666666666,\"#ed7953\"],[0.7777777777777778,\"#fb9f3a\"],[0.8888888888888888,\"#fdca26\"],[1.0,\"#f0f921\"]]}],\"surface\":[{\"type\":\"surface\",\"colorbar\":{\"outlinewidth\":0,\"ticks\":\"\"},\"colorscale\":[[0.0,\"#0d0887\"],[0.1111111111111111,\"#46039f\"],[0.2222222222222222,\"#7201a8\"],[0.3333333333333333,\"#9c179e\"],[0.4444444444444444,\"#bd3786\"],[0.5555555555555556,\"#d8576b\"],[0.6666666666666666,\"#ed7953\"],[0.7777777777777778,\"#fb9f3a\"],[0.8888888888888888,\"#fdca26\"],[1.0,\"#f0f921\"]]}],\"mesh3d\":[{\"type\":\"mesh3d\",\"colorbar\":{\"outlinewidth\":0,\"ticks\":\"\"}}],\"scatter\":[{\"fillpattern\":{\"fillmode\":\"overlay\",\"size\":10,\"solidity\":0.2},\"type\":\"scatter\"}],\"parcoords\":[{\"type\":\"parcoords\",\"line\":{\"colorbar\":{\"outlinewidth\":0,\"ticks\":\"\"}}}],\"scatterpolargl\":[{\"type\":\"scatterpolargl\",\"marker\":{\"colorbar\":{\"outlinewidth\":0,\"ticks\":\"\"}}}],\"bar\":[{\"error_x\":{\"color\":\"#2a3f5f\"},\"error_y\":{\"color\":\"#2a3f5f\"},\"marker\":{\"line\":{\"color\":\"#E5ECF6\",\"width\":0.5},\"pattern\":{\"fillmode\":\"overlay\",\"size\":10,\"solidity\":0.2}},\"type\":\"bar\"}],\"scattergeo\":[{\"type\":\"scattergeo\",\"marker\":{\"colorbar\":{\"outlinewidth\":0,\"ticks\":\"\"}}}],\"scatterpolar\":[{\"type\":\"scatterpolar\",\"marker\":{\"colorbar\":{\"outlinewidth\":0,\"ticks\":\"\"}}}],\"histogram\":[{\"marker\":{\"pattern\":{\"fillmode\":\"overlay\",\"size\":10,\"solidity\":0.2}},\"type\":\"histogram\"}],\"scattergl\":[{\"type\":\"scattergl\",\"marker\":{\"colorbar\":{\"outlinewidth\":0,\"ticks\":\"\"}}}],\"scatter3d\":[{\"type\":\"scatter3d\",\"line\":{\"colorbar\":{\"outlinewidth\":0,\"ticks\":\"\"}},\"marker\":{\"colorbar\":{\"outlinewidth\":0,\"ticks\":\"\"}}}],\"scattermapbox\":[{\"type\":\"scattermapbox\",\"marker\":{\"colorbar\":{\"outlinewidth\":0,\"ticks\":\"\"}}}],\"scatterternary\":[{\"type\":\"scatterternary\",\"marker\":{\"colorbar\":{\"outlinewidth\":0,\"ticks\":\"\"}}}],\"scattercarpet\":[{\"type\":\"scattercarpet\",\"marker\":{\"colorbar\":{\"outlinewidth\":0,\"ticks\":\"\"}}}],\"carpet\":[{\"aaxis\":{\"endlinecolor\":\"#2a3f5f\",\"gridcolor\":\"white\",\"linecolor\":\"white\",\"minorgridcolor\":\"white\",\"startlinecolor\":\"#2a3f5f\"},\"baxis\":{\"endlinecolor\":\"#2a3f5f\",\"gridcolor\":\"white\",\"linecolor\":\"white\",\"minorgridcolor\":\"white\",\"startlinecolor\":\"#2a3f5f\"},\"type\":\"carpet\"}],\"table\":[{\"cells\":{\"fill\":{\"color\":\"#EBF0F8\"},\"line\":{\"color\":\"white\"}},\"header\":{\"fill\":{\"color\":\"#C8D4E3\"},\"line\":{\"color\":\"white\"}},\"type\":\"table\"}],\"barpolar\":[{\"marker\":{\"line\":{\"color\":\"#E5ECF6\",\"width\":0.5},\"pattern\":{\"fillmode\":\"overlay\",\"size\":10,\"solidity\":0.2}},\"type\":\"barpolar\"}],\"pie\":[{\"automargin\":true,\"type\":\"pie\"}]},\"layout\":{\"autotypenumbers\":\"strict\",\"colorway\":[\"#636efa\",\"#EF553B\",\"#00cc96\",\"#ab63fa\",\"#FFA15A\",\"#19d3f3\",\"#FF6692\",\"#B6E880\",\"#FF97FF\",\"#FECB52\"],\"font\":{\"color\":\"#2a3f5f\"},\"hovermode\":\"closest\",\"hoverlabel\":{\"align\":\"left\"},\"paper_bgcolor\":\"white\",\"plot_bgcolor\":\"#E5ECF6\",\"polar\":{\"bgcolor\":\"#E5ECF6\",\"angularaxis\":{\"gridcolor\":\"white\",\"linecolor\":\"white\",\"ticks\":\"\"},\"radialaxis\":{\"gridcolor\":\"white\",\"linecolor\":\"white\",\"ticks\":\"\"}},\"ternary\":{\"bgcolor\":\"#E5ECF6\",\"aaxis\":{\"gridcolor\":\"white\",\"linecolor\":\"white\",\"ticks\":\"\"},\"baxis\":{\"gridcolor\":\"white\",\"linecolor\":\"white\",\"ticks\":\"\"},\"caxis\":{\"gridcolor\":\"white\",\"linecolor\":\"white\",\"ticks\":\"\"}},\"coloraxis\":{\"colorbar\":{\"outlinewidth\":0,\"ticks\":\"\"}},\"colorscale\":{\"sequential\":[[0.0,\"#0d0887\"],[0.1111111111111111,\"#46039f\"],[0.2222222222222222,\"#7201a8\"],[0.3333333333333333,\"#9c179e\"],[0.4444444444444444,\"#bd3786\"],[0.5555555555555556,\"#d8576b\"],[0.6666666666666666,\"#ed7953\"],[0.7777777777777778,\"#fb9f3a\"],[0.8888888888888888,\"#fdca26\"],[1.0,\"#f0f921\"]],\"sequentialminus\":[[0.0,\"#0d0887\"],[0.1111111111111111,\"#46039f\"],[0.2222222222222222,\"#7201a8\"],[0.3333333333333333,\"#9c179e\"],[0.4444444444444444,\"#bd3786\"],[0.5555555555555556,\"#d8576b\"],[0.6666666666666666,\"#ed7953\"],[0.7777777777777778,\"#fb9f3a\"],[0.8888888888888888,\"#fdca26\"],[1.0,\"#f0f921\"]],\"diverging\":[[0,\"#8e0152\"],[0.1,\"#c51b7d\"],[0.2,\"#de77ae\"],[0.3,\"#f1b6da\"],[0.4,\"#fde0ef\"],[0.5,\"#f7f7f7\"],[0.6,\"#e6f5d0\"],[0.7,\"#b8e186\"],[0.8,\"#7fbc41\"],[0.9,\"#4d9221\"],[1,\"#276419\"]]},\"xaxis\":{\"gridcolor\":\"white\",\"linecolor\":\"white\",\"ticks\":\"\",\"title\":{\"standoff\":15},\"zerolinecolor\":\"white\",\"automargin\":true,\"zerolinewidth\":2},\"yaxis\":{\"gridcolor\":\"white\",\"linecolor\":\"white\",\"ticks\":\"\",\"title\":{\"standoff\":15},\"zerolinecolor\":\"white\",\"automargin\":true,\"zerolinewidth\":2},\"scene\":{\"xaxis\":{\"backgroundcolor\":\"#E5ECF6\",\"gridcolor\":\"white\",\"linecolor\":\"white\",\"showbackground\":true,\"ticks\":\"\",\"zerolinecolor\":\"white\",\"gridwidth\":2},\"yaxis\":{\"backgroundcolor\":\"#E5ECF6\",\"gridcolor\":\"white\",\"linecolor\":\"white\",\"showbackground\":true,\"ticks\":\"\",\"zerolinecolor\":\"white\",\"gridwidth\":2},\"zaxis\":{\"backgroundcolor\":\"#E5ECF6\",\"gridcolor\":\"white\",\"linecolor\":\"white\",\"showbackground\":true,\"ticks\":\"\",\"zerolinecolor\":\"white\",\"gridwidth\":2}},\"shapedefaults\":{\"line\":{\"color\":\"#2a3f5f\"}},\"annotationdefaults\":{\"arrowcolor\":\"#2a3f5f\",\"arrowhead\":0,\"arrowwidth\":1},\"geo\":{\"bgcolor\":\"white\",\"landcolor\":\"#E5ECF6\",\"subunitcolor\":\"white\",\"showland\":true,\"showlakes\":true,\"lakecolor\":\"white\"},\"title\":{\"x\":0.05},\"mapbox\":{\"style\":\"light\"}}},\"xaxis\":{\"anchor\":\"y\",\"domain\":[0.0,0.2125],\"title\":{\"text\":\"multNB__alpha\"}},\"yaxis\":{\"anchor\":\"x\",\"domain\":[0.0,1.0],\"title\":{\"text\":\"Objective Value\"}},\"xaxis2\":{\"anchor\":\"y2\",\"domain\":[0.2625,0.475],\"title\":{\"text\":\"multNB__fit_prior\"},\"type\":\"category\",\"categoryorder\":\"array\",\"categoryarray\":[true,false]},\"yaxis2\":{\"anchor\":\"x2\",\"domain\":[0.0,1.0],\"matches\":\"y\",\"showticklabels\":false},\"xaxis3\":{\"anchor\":\"y3\",\"domain\":[0.525,0.7375],\"title\":{\"text\":\"tfidf__max_features\"}},\"yaxis3\":{\"anchor\":\"x3\",\"domain\":[0.0,1.0],\"matches\":\"y\",\"showticklabels\":false},\"xaxis4\":{\"anchor\":\"y4\",\"domain\":[0.7875,1.0],\"title\":{\"text\":\"tfidf__ngram_range\"}},\"yaxis4\":{\"anchor\":\"x4\",\"domain\":[0.0,1.0],\"matches\":\"y\",\"showticklabels\":false},\"title\":{\"text\":\"Slice Plot\"},\"width\":1200},                        {\"responsive\": true}                    ).then(function(){\n",
              "                            \n",
              "var gd = document.getElementById('c37d3b3d-1a7f-4b1c-b94c-d1b70f0b27d6');\n",
              "var x = new MutationObserver(function (mutations, observer) {{\n",
              "        var display = window.getComputedStyle(gd).display;\n",
              "        if (!display || display === 'none') {{\n",
              "            console.log([gd, 'removed!']);\n",
              "            Plotly.purge(gd);\n",
              "            observer.disconnect();\n",
              "        }}\n",
              "}});\n",
              "\n",
              "// Listen for the removal of the full notebook cells\n",
              "var notebookContainer = gd.closest('#notebook-container');\n",
              "if (notebookContainer) {{\n",
              "    x.observe(notebookContainer, {childList: true});\n",
              "}}\n",
              "\n",
              "// Listen for the clearing of the current output cell\n",
              "var outputEl = gd.closest('.output');\n",
              "if (outputEl) {{\n",
              "    x.observe(outputEl, {childList: true});\n",
              "}}\n",
              "\n",
              "                        })                };                            </script>        </div>\n",
              "</body>\n",
              "</html>"
            ]
          },
          "metadata": {}
        }
      ],
      "source": [
        "plot_slice(study2)"
      ]
    },
    {
      "cell_type": "markdown",
      "id": "bfd6e040",
      "metadata": {
        "papermill": {
          "duration": 0.053503,
          "end_time": "2022-08-05T18:25:41.809748",
          "exception": false,
          "start_time": "2022-08-05T18:25:41.756245",
          "status": "completed"
        },
        "tags": [],
        "id": "bfd6e040"
      },
      "source": [
        "Dalam kasus ini, terdapat konvergensi yang dekat dengan wilayah batas dari hiperparameter alpha dari model Naive Bayes. Diperlukan untuk memperluas rentang parameter ini, tetapi karena tidak boleh melebihi nilai 1, analisis optimasi tidak akan dilakukan lebih lanjut."
      ]
    },
    {
      "cell_type": "code",
      "execution_count": 35,
      "id": "53084946",
      "metadata": {
        "execution": {
          "iopub.execute_input": "2022-08-05T18:25:41.921866Z",
          "iopub.status.busy": "2022-08-05T18:25:41.920898Z",
          "iopub.status.idle": "2022-08-05T18:25:41.927449Z",
          "shell.execute_reply": "2022-08-05T18:25:41.926615Z"
        },
        "papermill": {
          "duration": 0.064329,
          "end_time": "2022-08-05T18:25:41.929187",
          "exception": false,
          "start_time": "2022-08-05T18:25:41.864858",
          "status": "completed"
        },
        "tags": [],
        "colab": {
          "base_uri": "https://localhost:8080/"
        },
        "id": "53084946",
        "outputId": "d1fb568e-f3b7-48fb-af82-3863bb186114"
      },
      "outputs": [
        {
          "output_type": "execute_result",
          "data": {
            "text/plain": [
              "{'tfidf__ngram_range': 3,\n",
              " 'tfidf__max_features': 11093,\n",
              " 'multNB__alpha': 0.904134449057244,\n",
              " 'multNB__fit_prior': True}"
            ]
          },
          "metadata": {},
          "execution_count": 35
        }
      ],
      "source": [
        "study2.best_params"
      ]
    },
    {
      "cell_type": "code",
      "execution_count": 36,
      "id": "7c0e4de6",
      "metadata": {
        "execution": {
          "iopub.execute_input": "2022-08-05T18:25:42.038778Z",
          "iopub.status.busy": "2022-08-05T18:25:42.038488Z",
          "iopub.status.idle": "2022-08-05T18:25:45.306865Z",
          "shell.execute_reply": "2022-08-05T18:25:45.306017Z"
        },
        "papermill": {
          "duration": 3.325479,
          "end_time": "2022-08-05T18:25:45.308573",
          "exception": false,
          "start_time": "2022-08-05T18:25:41.983094",
          "status": "completed"
        },
        "tags": [],
        "colab": {
          "base_uri": "https://localhost:8080/"
        },
        "id": "7c0e4de6",
        "outputId": "a77678f7-1fc3-4040-f226-170c594585c1"
      },
      "outputs": [
        {
          "output_type": "stream",
          "name": "stdout",
          "text": [
            "[[137 401]\n",
            " [147 479]]\n",
            "0.5292096219931272\n",
            "              precision    recall  f1-score   support\n",
            "\n",
            "           0       0.48      0.25      0.33       538\n",
            "           1       0.54      0.77      0.64       626\n",
            "\n",
            "    accuracy                           0.53      1164\n",
            "   macro avg       0.51      0.51      0.48      1164\n",
            "weighted avg       0.52      0.53      0.50      1164\n",
            "\n"
          ]
        }
      ],
      "source": [
        "tfidf = TfidfVectorizer(ngram_range=(3, 3), max_features=10746)\n",
        "x_train = tfidf.fit_transform(train_final)\n",
        "y_train = train['Label']\n",
        "\n",
        "# Menerapkan model Naive Bayes\n",
        "NBmodel = MultinomialNB(alpha=0.882, fit_prior=True)  # Membuat model\n",
        "NBmodel.fit(x_train, y_train)\n",
        "\n",
        "# Melakukan prediksi model\n",
        "x_test = tfidf.transform(test_final)\n",
        "y_test = test['Label']\n",
        "prediction = NBmodel.predict(x_test)\n",
        "\n",
        "# Memeriksa akurasi model\n",
        "matrix = confusion_matrix(y_test, prediction)\n",
        "print(matrix)\n",
        "score = accuracy_score(y_test, prediction)\n",
        "print(score)\n",
        "report = classification_report(y_test, prediction)\n",
        "print(report)"
      ]
    },
    {
      "cell_type": "code",
      "source": [
        "import matplotlib.pyplot as plt\n",
        "import seaborn as sns\n",
        "\n",
        "# Membuat confusion matrix\n",
        "plt.figure(figsize=(8, 6))\n",
        "sns.heatmap(matrix, annot=True, fmt=\"d\", cmap=\"Blues\", cbar=False,\n",
        "            xticklabels=['Negative', 'Positive'], yticklabels=['Negative', 'Positive'])\n",
        "plt.xlabel('Predicted Label')\n",
        "plt.ylabel('True Label')\n",
        "plt.title('Confusion Matrix')\n",
        "plt.show()"
      ],
      "metadata": {
        "colab": {
          "base_uri": "https://localhost:8080/",
          "height": 564
        },
        "id": "u200H8jE9Xz-",
        "outputId": "afe2fb9b-4645-4aba-8278-4264fbdaee3b"
      },
      "id": "u200H8jE9Xz-",
      "execution_count": 37,
      "outputs": [
        {
          "output_type": "display_data",
          "data": {
            "text/plain": [
              "<Figure size 800x600 with 1 Axes>"
            ],
            "image/png": "[encoded data removed]"
          },
          "metadata": {}
        }
      ]
    },
    {
      "cell_type": "markdown",
      "id": "09f427c1",
      "metadata": {
        "papermill": {
          "duration": 0.054771,
          "end_time": "2022-08-05T18:25:45.416981",
          "exception": false,
          "start_time": "2022-08-05T18:25:45.362210",
          "status": "completed"
        },
        "tags": [],
        "id": "09f427c1"
      },
      "source": [
        "Melihat hasil optimasi, terdapat peningkatan yang sangat tinggi dalam hasil akhir yang diperoleh, meningkat dari 51.6% menjadi 87.6%, mencapai tujuan yang awalnya ditetapkan.\n",
        "\n",
        "Ini juga merupakan model yang lebih baik daripada yang menggunakan CountVectorizer, karena selain peningkatan dalam akurasi, juga terjadi peningkatan dalam recall hasil dan F1-score."
      ]
    },
    {
      "cell_type": "markdown",
      "id": "946961c3",
      "metadata": {
        "papermill": {
          "duration": 0.053502,
          "end_time": "2022-08-05T18:25:45.524462",
          "exception": false,
          "start_time": "2022-08-05T18:25:45.470960",
          "status": "completed"
        },
        "tags": [],
        "id": "946961c3"
      },
      "source": [
        "Untuk pekerjaan di masa depan, beberapa ide yang mungkin dapat dipertimbangkan adalah:\n",
        "\n",
        "- Meningkatkan akurasi menjadi nilai yang lebih besar dari 90%, dengan tujuan meningkatkan presisi algoritma.\n",
        "- Meningkatkan nilai recall, karena dalam situasi investasi, salah satu poin yang paling penting adalah meminimalkan kemungkinan investor melakukan investasi pada situasi di mana investasi tersebut akan turun nilainya.\n",
        "- Menerapkan optimisasi pada algoritma yang lebih kompleks, seperti jaringan saraf tiruan."
      ]
    }
  ],
  "metadata": {
    "kernelspec": {
      "display_name": "Python 3",
      "language": "python",
      "name": "python3"
    },
    "language_info": {
      "codemirror_mode": {
        "name": "ipython",
        "version": 3
      },
      "file_extension": ".py",
      "mimetype": "text/x-python",
      "name": "python",
      "nbconvert_exporter": "python",
      "pygments_lexer": "ipython3",
      "version": "3.7.12"
    },
    "papermill": {
      "default_parameters": {},
      "duration": 2681.711992,
      "end_time": "2022-08-05T18:25:46.804282",
      "environment_variables": {},
      "exception": null,
      "input_path": "__notebook__.ipynb",
      "output_path": "__notebook__.ipynb",
      "parameters": {},
      "start_time": "2022-08-05T17:41:05.092290",
      "version": "2.3.4"
    },
    "colab": {
      "provenance": []
    }
  },
  "nbformat": 4,
  "nbformat_minor": 5
}